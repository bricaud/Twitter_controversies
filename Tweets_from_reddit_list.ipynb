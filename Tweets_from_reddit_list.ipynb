{
 "cells": [
  {
   "cell_type": "code",
   "execution_count": null,
   "metadata": {},
   "outputs": [],
   "source": [
    "import pandas as pd\n",
    "#import json\n",
    "from datetime import date\n",
    "import time"
   ]
  },
  {
   "cell_type": "code",
   "execution_count": null,
   "metadata": {},
   "outputs": [],
   "source": [
    "# Import the Twython class\n",
    "from twython import Twython\n",
    "from twython import TwythonError, TwythonRateLimitError, TwythonAuthError # to check the returned API errors\n",
    "import json\n",
    "\n",
    "# Load credentials from json file\n",
    "with open(\"twitter_credentials.json\", \"r\") as file:\n",
    "    creds = json.load(file)\n",
    "\n",
    "# Instantiate an object\n",
    "python_tweets = Twython(creds['CONSUMER_KEY'], creds['CONSUMER_SECRET'])\n"
   ]
  },
  {
   "cell_type": "code",
   "execution_count": null,
   "metadata": {},
   "outputs": [],
   "source": [
    "# Loading the dataset\n",
    "#df =pd.read_csv('/home/benjamin/Documents/EPFL/hackathlon/[controversial]China_Flu_tweets.csv')\n",
    "df1 =pd.read_csv('/home/benjamin/Documents/EPFL/hackathlon/[controversial]China_Flu_tweets.csv')\n",
    "df2 =pd.read_csv('/home/benjamin/Documents/EPFL/hackathlon/[neutral]Coronavirus_tweets.csv')\n",
    "df3 =pd.read_csv('/home/benjamin/Documents/EPFL/hackathlon/[scientific]COVID-19_tweets.csv')\n"
   ]
  },
  {
   "cell_type": "code",
   "execution_count": null,
   "metadata": {},
   "outputs": [],
   "source": [
    "from urllib.parse import urlparse"
   ]
  },
  {
   "cell_type": "code",
   "execution_count": null,
   "metadata": {},
   "outputs": [],
   "source": [
    "import pysad.collect as pc"
   ]
  },
  {
   "cell_type": "code",
   "execution_count": null,
   "metadata": {},
   "outputs": [],
   "source": [
    "import importlib\n",
    "importlib.reload(pc)"
   ]
  },
  {
   "cell_type": "markdown",
   "metadata": {},
   "source": [
    "## Collecting the tweets details from the controversial list\n",
    "It may take some time due to the Twitter API limit."
   ]
  },
  {
   "cell_type": "code",
   "execution_count": null,
   "metadata": {},
   "outputs": [],
   "source": [
    "tweet_list = []\n",
    "missed_requests = []\n",
    "access_error = []\n",
    "for url in df1['url']:\n",
    "    parsed = urlparse(url)\n",
    "    tweetid = parsed.path.split('/')[-1]\n",
    "    try:\n",
    "        tweet = python_tweets.show_status(id=tweetid, include_rts = True, tweet_mode='extended')\n",
    "    except TwythonAuthError as e_auth:\n",
    "        print('Cannot access to twitter API, authentification error. {}'.format(e_auth.error_code))\n",
    "        break\n",
    "    except TwythonRateLimitError as e_lim:\n",
    "        missed_requests.append(tweetid)\n",
    "        print('API rate limit reached')\n",
    "        print(e_lim)\n",
    "        wait_time = int(e_lim.retry_after) - time.time()\n",
    "        print('Retry after {} seconds.'.format(wait_time))\n",
    "        time.sleep(wait_time + 1)\n",
    "        continue\n",
    "    except TwythonError as e:\n",
    "        print('Tweet with id {} not found. Twython error: {}'.format(tweetid,e.error_code))\n",
    "        access_error.append(tweetid)\n",
    "        continue\n",
    "    tweet_list.append(pc.extract_tweet_infos(tweet))\n",
    "print('Missed requests due to API rate limits:',missed_requests)"
   ]
  },
  {
   "cell_type": "code",
   "execution_count": null,
   "metadata": {},
   "outputs": [],
   "source": [
    "tweet_df = pd.DataFrame(tweet_list)"
   ]
  },
  {
   "cell_type": "code",
   "execution_count": null,
   "metadata": {},
   "outputs": [],
   "source": [
    "tweet_df.to_csv('tweets_controversial_full.csv')"
   ]
  },
  {
   "cell_type": "markdown",
   "metadata": {},
   "source": [
    "## Checking the tweetid errors (tweets removed by Twitter?)"
   ]
  },
  {
   "cell_type": "code",
   "execution_count": null,
   "metadata": {},
   "outputs": [],
   "source": [
    "missed_links = [tweetid for tweetid in access_error if len(tweetid) == 19] # 19 is the length of the id\n",
    "print('Nb of missing tweets:', len(missed_links))"
   ]
  },
  {
   "cell_type": "code",
   "execution_count": null,
   "metadata": {},
   "outputs": [],
   "source": [
    "# Make a dataframe wit the full info on the missing tweets\n",
    "missed_df = pd.DataFrame()\n",
    "for tid in missed_links:\n",
    "    tdf = df1[df1['url'].str.contains(tid)]\n",
    "    missed_df = missed_df.append(tdf)   "
   ]
  },
  {
   "cell_type": "code",
   "execution_count": null,
   "metadata": {},
   "outputs": [],
   "source": [
    "missed_df.to_csv('missing_tweets.csv')"
   ]
  },
  {
   "cell_type": "markdown",
   "metadata": {},
   "source": [
    "## Reading the tweets obtained"
   ]
  },
  {
   "cell_type": "markdown",
   "metadata": {},
   "source": [
    "See notebook `Extracting_info_from_controversial_tweets`"
   ]
  },
  {
   "cell_type": "markdown",
   "metadata": {},
   "source": [
    "## Creating the user list from the list of tweets"
   ]
  },
  {
   "cell_type": "code",
   "execution_count": null,
   "metadata": {},
   "outputs": [],
   "source": [
    "def extract_users(tweet_df):\n",
    "    user_list = []\n",
    "    for url in tweet_df['url']:\n",
    "        parsed = urlparse(url)\n",
    "        if len(parsed.path.split('/')) > 1:\n",
    "            user = parsed.path.split('/')[1]\n",
    "        else:\n",
    "            continue\n",
    "        user_list.append(user)\n",
    "    return user_list"
   ]
  },
  {
   "cell_type": "code",
   "execution_count": null,
   "metadata": {},
   "outputs": [],
   "source": [
    "df_dic = {'controversial': df1, 'neutral': df2, 'scientific': df3}\n",
    "users = []\n",
    "for key in df_dic:\n",
    "    user_list = extract_users(df_dic[key])\n",
    "    for user in user_list:\n",
    "        users.append({'user': user, 'type': key})\n",
    "user_df = pd.DataFrame(users)"
   ]
  },
  {
   "cell_type": "code",
   "execution_count": null,
   "metadata": {},
   "outputs": [],
   "source": [
    "user_df"
   ]
  },
  {
   "cell_type": "code",
   "execution_count": null,
   "metadata": {},
   "outputs": [],
   "source": [
    "user_df.to_csv('reddit_user_list.csv')"
   ]
  },
  {
   "cell_type": "markdown",
   "metadata": {},
   "source": [
    "## Getting the users of the missing tweets"
   ]
  },
  {
   "cell_type": "code",
   "execution_count": null,
   "metadata": {},
   "outputs": [],
   "source": [
    "user_list = extract_users(missed_df)\n",
    "user_df = pd.DataFrame(user_list)"
   ]
  },
  {
   "cell_type": "code",
   "execution_count": null,
   "metadata": {},
   "outputs": [],
   "source": [
    "user_df.to_csv('missingtweets_user_list.csv')"
   ]
  },
  {
   "cell_type": "code",
   "execution_count": null,
   "metadata": {},
   "outputs": [],
   "source": []
  }
 ],
 "metadata": {
  "kernelspec": {
   "display_name": "Python 3",
   "language": "python",
   "name": "python3"
  },
  "language_info": {
   "codemirror_mode": {
    "name": "ipython",
    "version": 3
   },
   "file_extension": ".py",
   "mimetype": "text/x-python",
   "name": "python",
   "nbconvert_exporter": "python",
   "pygments_lexer": "ipython3",
   "version": "3.6.9"
  }
 },
 "nbformat": 4,
 "nbformat_minor": 2
}
