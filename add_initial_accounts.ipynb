{
 "cells": [
  {
   "cell_type": "code",
   "execution_count": 1,
   "metadata": {},
   "outputs": [],
   "source": [
    "import pysad\n",
    "import pysad.utils"
   ]
  },
  {
   "cell_type": "markdown",
   "metadata": {},
   "source": [
    "## How to add a new list of initial accounts\n",
    "Here are the commands to record a new list of initial users, starting ponts of the snowball sampling. The steps are the following:\n",
    "* Create a new object `initial_accounts`\n",
    "* Make a list of the accounts\n",
    "* Give a name for the list\n",
    "* Save the name and list in the file of initial accounts"
   ]
  },
  {
   "cell_type": "code",
   "execution_count": 2,
   "metadata": {},
   "outputs": [],
   "source": [
    "init_accounts = pysad.utils.initial_accounts()"
   ]
  },
  {
   "cell_type": "code",
   "execution_count": 3,
   "metadata": {},
   "outputs": [
    {
     "data": {
      "text/plain": [
       "['swiss_climate_regular',\n",
       " 'swiss_climate_controversial',\n",
       " 'swiss_immigration',\n",
       " 'french_tech_lesechos',\n",
       " 'swiss_immigration2',\n",
       " 'debat_burqa',\n",
       " 'coronavirus',\n",
       " 'coronavirus_iran',\n",
       " 'hackathlon',\n",
       " 'hackathlon_popular',\n",
       " 'hackathlon_reddit',\n",
       " 'hackathlon_missingtweets',\n",
       " 'crevecoeur',\n",
       " 'voat',\n",
       " 'fakemedicine']"
      ]
     },
     "execution_count": 3,
     "metadata": {},
     "output_type": "execute_result"
    }
   ],
   "source": [
    "# Show the lists already present\n",
    "init_accounts.list()"
   ]
  },
  {
   "cell_type": "code",
   "execution_count": 4,
   "metadata": {},
   "outputs": [],
   "source": [
    "# Example\n",
    "accounts_list = ['GBR_Data']\n",
    "name = 'Benjamin'"
   ]
  },
  {
   "cell_type": "code",
   "execution_count": 5,
   "metadata": {},
   "outputs": [],
   "source": [
    "init_accounts.add(name,accounts_list)"
   ]
  },
  {
   "cell_type": "code",
   "execution_count": 6,
   "metadata": {},
   "outputs": [
    {
     "name": "stdout",
     "output_type": "stream",
     "text": [
      "Wrote initial_accounts.txt\n"
     ]
    }
   ],
   "source": [
    "# Save the new list\n",
    "init_accounts.save()"
   ]
  },
  {
   "cell_type": "markdown",
   "metadata": {},
   "source": [
    "## Adding a list from a csv file containing Twitter accounts"
   ]
  },
  {
   "cell_type": "code",
   "execution_count": null,
   "metadata": {},
   "outputs": [],
   "source": [
    "import pandas as pd"
   ]
  },
  {
   "cell_type": "code",
   "execution_count": null,
   "metadata": {},
   "outputs": [],
   "source": [
    "#df =pd.read_csv('/home/benjamin/Documents/EPFL/hackathlon/CoronaTweets/corona.csv')\n",
    "#df =pd.read_csv('/home/benjamin/Documents/EPFL/hackathlon/CoronaTweets/populartweets.csv')\n",
    "#df =pd.read_csv('/home/benjamin/Documents/EPFL/Research/sad/sad_tweets/missingtweets_user_list.csv')\n",
    "df =pd.read_csv('/home/benjamin/Documents/EPFL/Research/sad/twitterVoat.csv')"
   ]
  },
  {
   "cell_type": "code",
   "execution_count": null,
   "metadata": {},
   "outputs": [],
   "source": [
    "df"
   ]
  },
  {
   "cell_type": "code",
   "execution_count": null,
   "metadata": {},
   "outputs": [],
   "source": [
    "#hackathlon_list = df['user'].unique().tolist()\n",
    "#hackathlon_list = df['0'].unique().tolist()\n",
    "user_list = df['author'].unique().tolist()"
   ]
  },
  {
   "cell_type": "code",
   "execution_count": null,
   "metadata": {},
   "outputs": [],
   "source": [
    "init_accounts.add('voat',user_list)"
   ]
  },
  {
   "cell_type": "code",
   "execution_count": null,
   "metadata": {},
   "outputs": [],
   "source": [
    "init_accounts.save()"
   ]
  },
  {
   "cell_type": "code",
   "execution_count": null,
   "metadata": {},
   "outputs": [],
   "source": []
  }
 ],
 "metadata": {
  "kernelspec": {
   "display_name": "Python 3",
   "language": "python",
   "name": "python3"
  },
  "language_info": {
   "codemirror_mode": {
    "name": "ipython",
    "version": 3
   },
   "file_extension": ".py",
   "mimetype": "text/x-python",
   "name": "python",
   "nbconvert_exporter": "python",
   "pygments_lexer": "ipython3",
   "version": "3.6.9"
  }
 },
 "nbformat": 4,
 "nbformat_minor": 2
}
