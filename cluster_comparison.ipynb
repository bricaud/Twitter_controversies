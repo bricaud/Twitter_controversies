{
 "cells": [
  {
   "cell_type": "code",
   "execution_count": 3,
   "metadata": {},
   "outputs": [],
   "source": [
    "import pandas as pd\n",
    "import pysad\n",
    "import importlib\n",
    "import os\n",
    "import matplotlib.pyplot as plt\n",
    "import numpy as np"
   ]
  },
  {
   "cell_type": "code",
   "execution_count": 58,
   "metadata": {},
   "outputs": [
    {
     "data": {
      "text/plain": [
       "<module 'pysad' from '/Users/aminmekacher/Documents/EPFL Master/Master Thesis/sad_tweets/pysad.py'>"
      ]
     },
     "execution_count": 58,
     "metadata": {},
     "output_type": "execute_result"
    }
   ],
   "source": [
    "importlib.reload(pysad)"
   ]
  },
  {
   "cell_type": "code",
   "execution_count": 59,
   "metadata": {},
   "outputs": [
    {
     "data": {
      "application/vnd.plotly.v1+json": {
       "config": {
        "plotlyServerURL": "https://plot.ly"
       },
       "data": [
        {
         "marker": {
          "color": "crimson",
          "size": 12
         },
         "mode": "markers",
         "name": "Nodes",
         "type": "scatter",
         "x": [
          13,
          68,
          54,
          56,
          20,
          15,
          73,
          54,
          16,
          18,
          26
         ],
         "y": [
          "0",
          "1",
          "2",
          "3",
          "4",
          "5",
          "6",
          "7",
          "8",
          "9",
          "10"
         ]
        },
        {
         "marker": {
          "color": "sandybrown",
          "size": 12
         },
         "mode": "markers",
         "name": "Influencers",
         "type": "scatter",
         "x": [
          12,
          61,
          47,
          49,
          18,
          14,
          61,
          48,
          14,
          16,
          24
         ],
         "y": [
          "0",
          "1",
          "2",
          "3",
          "4",
          "5",
          "6",
          "7",
          "8",
          "9",
          "10"
         ]
        },
        {
         "marker": {
          "color": "midnightblue",
          "size": 12
         },
         "mode": "markers",
         "name": "Enthusiasts",
         "type": "scatter",
         "x": [
          1,
          0,
          0,
          2,
          2,
          1,
          0,
          0,
          2,
          2,
          1
         ],
         "y": [
          "0",
          "1",
          "2",
          "3",
          "4",
          "5",
          "6",
          "7",
          "8",
          "9",
          "10"
         ]
        }
       ],
       "layout": {
        "autosize": true,
        "template": {
         "data": {
          "bar": [
           {
            "error_x": {
             "color": "#2a3f5f"
            },
            "error_y": {
             "color": "#2a3f5f"
            },
            "marker": {
             "line": {
              "color": "#E5ECF6",
              "width": 0.5
             }
            },
            "type": "bar"
           }
          ],
          "barpolar": [
           {
            "marker": {
             "line": {
              "color": "#E5ECF6",
              "width": 0.5
             }
            },
            "type": "barpolar"
           }
          ],
          "carpet": [
           {
            "aaxis": {
             "endlinecolor": "#2a3f5f",
             "gridcolor": "white",
             "linecolor": "white",
             "minorgridcolor": "white",
             "startlinecolor": "#2a3f5f"
            },
            "baxis": {
             "endlinecolor": "#2a3f5f",
             "gridcolor": "white",
             "linecolor": "white",
             "minorgridcolor": "white",
             "startlinecolor": "#2a3f5f"
            },
            "type": "carpet"
           }
          ],
          "choropleth": [
           {
            "colorbar": {
             "outlinewidth": 0,
             "ticks": ""
            },
            "type": "choropleth"
           }
          ],
          "contour": [
           {
            "colorbar": {
             "outlinewidth": 0,
             "ticks": ""
            },
            "colorscale": [
             [
              0,
              "#0d0887"
             ],
             [
              0.1111111111111111,
              "#46039f"
             ],
             [
              0.2222222222222222,
              "#7201a8"
             ],
             [
              0.3333333333333333,
              "#9c179e"
             ],
             [
              0.4444444444444444,
              "#bd3786"
             ],
             [
              0.5555555555555556,
              "#d8576b"
             ],
             [
              0.6666666666666666,
              "#ed7953"
             ],
             [
              0.7777777777777778,
              "#fb9f3a"
             ],
             [
              0.8888888888888888,
              "#fdca26"
             ],
             [
              1,
              "#f0f921"
             ]
            ],
            "type": "contour"
           }
          ],
          "contourcarpet": [
           {
            "colorbar": {
             "outlinewidth": 0,
             "ticks": ""
            },
            "type": "contourcarpet"
           }
          ],
          "heatmap": [
           {
            "colorbar": {
             "outlinewidth": 0,
             "ticks": ""
            },
            "colorscale": [
             [
              0,
              "#0d0887"
             ],
             [
              0.1111111111111111,
              "#46039f"
             ],
             [
              0.2222222222222222,
              "#7201a8"
             ],
             [
              0.3333333333333333,
              "#9c179e"
             ],
             [
              0.4444444444444444,
              "#bd3786"
             ],
             [
              0.5555555555555556,
              "#d8576b"
             ],
             [
              0.6666666666666666,
              "#ed7953"
             ],
             [
              0.7777777777777778,
              "#fb9f3a"
             ],
             [
              0.8888888888888888,
              "#fdca26"
             ],
             [
              1,
              "#f0f921"
             ]
            ],
            "type": "heatmap"
           }
          ],
          "heatmapgl": [
           {
            "colorbar": {
             "outlinewidth": 0,
             "ticks": ""
            },
            "colorscale": [
             [
              0,
              "#0d0887"
             ],
             [
              0.1111111111111111,
              "#46039f"
             ],
             [
              0.2222222222222222,
              "#7201a8"
             ],
             [
              0.3333333333333333,
              "#9c179e"
             ],
             [
              0.4444444444444444,
              "#bd3786"
             ],
             [
              0.5555555555555556,
              "#d8576b"
             ],
             [
              0.6666666666666666,
              "#ed7953"
             ],
             [
              0.7777777777777778,
              "#fb9f3a"
             ],
             [
              0.8888888888888888,
              "#fdca26"
             ],
             [
              1,
              "#f0f921"
             ]
            ],
            "type": "heatmapgl"
           }
          ],
          "histogram": [
           {
            "marker": {
             "colorbar": {
              "outlinewidth": 0,
              "ticks": ""
             }
            },
            "type": "histogram"
           }
          ],
          "histogram2d": [
           {
            "colorbar": {
             "outlinewidth": 0,
             "ticks": ""
            },
            "colorscale": [
             [
              0,
              "#0d0887"
             ],
             [
              0.1111111111111111,
              "#46039f"
             ],
             [
              0.2222222222222222,
              "#7201a8"
             ],
             [
              0.3333333333333333,
              "#9c179e"
             ],
             [
              0.4444444444444444,
              "#bd3786"
             ],
             [
              0.5555555555555556,
              "#d8576b"
             ],
             [
              0.6666666666666666,
              "#ed7953"
             ],
             [
              0.7777777777777778,
              "#fb9f3a"
             ],
             [
              0.8888888888888888,
              "#fdca26"
             ],
             [
              1,
              "#f0f921"
             ]
            ],
            "type": "histogram2d"
           }
          ],
          "histogram2dcontour": [
           {
            "colorbar": {
             "outlinewidth": 0,
             "ticks": ""
            },
            "colorscale": [
             [
              0,
              "#0d0887"
             ],
             [
              0.1111111111111111,
              "#46039f"
             ],
             [
              0.2222222222222222,
              "#7201a8"
             ],
             [
              0.3333333333333333,
              "#9c179e"
             ],
             [
              0.4444444444444444,
              "#bd3786"
             ],
             [
              0.5555555555555556,
              "#d8576b"
             ],
             [
              0.6666666666666666,
              "#ed7953"
             ],
             [
              0.7777777777777778,
              "#fb9f3a"
             ],
             [
              0.8888888888888888,
              "#fdca26"
             ],
             [
              1,
              "#f0f921"
             ]
            ],
            "type": "histogram2dcontour"
           }
          ],
          "mesh3d": [
           {
            "colorbar": {
             "outlinewidth": 0,
             "ticks": ""
            },
            "type": "mesh3d"
           }
          ],
          "parcoords": [
           {
            "line": {
             "colorbar": {
              "outlinewidth": 0,
              "ticks": ""
             }
            },
            "type": "parcoords"
           }
          ],
          "pie": [
           {
            "automargin": true,
            "type": "pie"
           }
          ],
          "scatter": [
           {
            "marker": {
             "colorbar": {
              "outlinewidth": 0,
              "ticks": ""
             }
            },
            "type": "scatter"
           }
          ],
          "scatter3d": [
           {
            "line": {
             "colorbar": {
              "outlinewidth": 0,
              "ticks": ""
             }
            },
            "marker": {
             "colorbar": {
              "outlinewidth": 0,
              "ticks": ""
             }
            },
            "type": "scatter3d"
           }
          ],
          "scattercarpet": [
           {
            "marker": {
             "colorbar": {
              "outlinewidth": 0,
              "ticks": ""
             }
            },
            "type": "scattercarpet"
           }
          ],
          "scattergeo": [
           {
            "marker": {
             "colorbar": {
              "outlinewidth": 0,
              "ticks": ""
             }
            },
            "type": "scattergeo"
           }
          ],
          "scattergl": [
           {
            "marker": {
             "colorbar": {
              "outlinewidth": 0,
              "ticks": ""
             }
            },
            "type": "scattergl"
           }
          ],
          "scattermapbox": [
           {
            "marker": {
             "colorbar": {
              "outlinewidth": 0,
              "ticks": ""
             }
            },
            "type": "scattermapbox"
           }
          ],
          "scatterpolar": [
           {
            "marker": {
             "colorbar": {
              "outlinewidth": 0,
              "ticks": ""
             }
            },
            "type": "scatterpolar"
           }
          ],
          "scatterpolargl": [
           {
            "marker": {
             "colorbar": {
              "outlinewidth": 0,
              "ticks": ""
             }
            },
            "type": "scatterpolargl"
           }
          ],
          "scatterternary": [
           {
            "marker": {
             "colorbar": {
              "outlinewidth": 0,
              "ticks": ""
             }
            },
            "type": "scatterternary"
           }
          ],
          "surface": [
           {
            "colorbar": {
             "outlinewidth": 0,
             "ticks": ""
            },
            "colorscale": [
             [
              0,
              "#0d0887"
             ],
             [
              0.1111111111111111,
              "#46039f"
             ],
             [
              0.2222222222222222,
              "#7201a8"
             ],
             [
              0.3333333333333333,
              "#9c179e"
             ],
             [
              0.4444444444444444,
              "#bd3786"
             ],
             [
              0.5555555555555556,
              "#d8576b"
             ],
             [
              0.6666666666666666,
              "#ed7953"
             ],
             [
              0.7777777777777778,
              "#fb9f3a"
             ],
             [
              0.8888888888888888,
              "#fdca26"
             ],
             [
              1,
              "#f0f921"
             ]
            ],
            "type": "surface"
           }
          ],
          "table": [
           {
            "cells": {
             "fill": {
              "color": "#EBF0F8"
             },
             "line": {
              "color": "white"
             }
            },
            "header": {
             "fill": {
              "color": "#C8D4E3"
             },
             "line": {
              "color": "white"
             }
            },
            "type": "table"
           }
          ]
         },
         "layout": {
          "annotationdefaults": {
           "arrowcolor": "#2a3f5f",
           "arrowhead": 0,
           "arrowwidth": 1
          },
          "coloraxis": {
           "colorbar": {
            "outlinewidth": 0,
            "ticks": ""
           }
          },
          "colorscale": {
           "diverging": [
            [
             0,
             "#8e0152"
            ],
            [
             0.1,
             "#c51b7d"
            ],
            [
             0.2,
             "#de77ae"
            ],
            [
             0.3,
             "#f1b6da"
            ],
            [
             0.4,
             "#fde0ef"
            ],
            [
             0.5,
             "#f7f7f7"
            ],
            [
             0.6,
             "#e6f5d0"
            ],
            [
             0.7,
             "#b8e186"
            ],
            [
             0.8,
             "#7fbc41"
            ],
            [
             0.9,
             "#4d9221"
            ],
            [
             1,
             "#276419"
            ]
           ],
           "sequential": [
            [
             0,
             "#0d0887"
            ],
            [
             0.1111111111111111,
             "#46039f"
            ],
            [
             0.2222222222222222,
             "#7201a8"
            ],
            [
             0.3333333333333333,
             "#9c179e"
            ],
            [
             0.4444444444444444,
             "#bd3786"
            ],
            [
             0.5555555555555556,
             "#d8576b"
            ],
            [
             0.6666666666666666,
             "#ed7953"
            ],
            [
             0.7777777777777778,
             "#fb9f3a"
            ],
            [
             0.8888888888888888,
             "#fdca26"
            ],
            [
             1,
             "#f0f921"
            ]
           ],
           "sequentialminus": [
            [
             0,
             "#0d0887"
            ],
            [
             0.1111111111111111,
             "#46039f"
            ],
            [
             0.2222222222222222,
             "#7201a8"
            ],
            [
             0.3333333333333333,
             "#9c179e"
            ],
            [
             0.4444444444444444,
             "#bd3786"
            ],
            [
             0.5555555555555556,
             "#d8576b"
            ],
            [
             0.6666666666666666,
             "#ed7953"
            ],
            [
             0.7777777777777778,
             "#fb9f3a"
            ],
            [
             0.8888888888888888,
             "#fdca26"
            ],
            [
             1,
             "#f0f921"
            ]
           ]
          },
          "colorway": [
           "#636efa",
           "#EF553B",
           "#00cc96",
           "#ab63fa",
           "#FFA15A",
           "#19d3f3",
           "#FF6692",
           "#B6E880",
           "#FF97FF",
           "#FECB52"
          ],
          "font": {
           "color": "#2a3f5f"
          },
          "geo": {
           "bgcolor": "white",
           "lakecolor": "white",
           "landcolor": "#E5ECF6",
           "showlakes": true,
           "showland": true,
           "subunitcolor": "white"
          },
          "hoverlabel": {
           "align": "left"
          },
          "hovermode": "closest",
          "mapbox": {
           "style": "light"
          },
          "paper_bgcolor": "white",
          "plot_bgcolor": "#E5ECF6",
          "polar": {
           "angularaxis": {
            "gridcolor": "white",
            "linecolor": "white",
            "ticks": ""
           },
           "bgcolor": "#E5ECF6",
           "radialaxis": {
            "gridcolor": "white",
            "linecolor": "white",
            "ticks": ""
           }
          },
          "scene": {
           "xaxis": {
            "backgroundcolor": "#E5ECF6",
            "gridcolor": "white",
            "gridwidth": 2,
            "linecolor": "white",
            "showbackground": true,
            "ticks": "",
            "zerolinecolor": "white"
           },
           "yaxis": {
            "backgroundcolor": "#E5ECF6",
            "gridcolor": "white",
            "gridwidth": 2,
            "linecolor": "white",
            "showbackground": true,
            "ticks": "",
            "zerolinecolor": "white"
           },
           "zaxis": {
            "backgroundcolor": "#E5ECF6",
            "gridcolor": "white",
            "gridwidth": 2,
            "linecolor": "white",
            "showbackground": true,
            "ticks": "",
            "zerolinecolor": "white"
           }
          },
          "shapedefaults": {
           "line": {
            "color": "#2a3f5f"
           }
          },
          "ternary": {
           "aaxis": {
            "gridcolor": "white",
            "linecolor": "white",
            "ticks": ""
           },
           "baxis": {
            "gridcolor": "white",
            "linecolor": "white",
            "ticks": ""
           },
           "bgcolor": "#E5ECF6",
           "caxis": {
            "gridcolor": "white",
            "linecolor": "white",
            "ticks": ""
           }
          },
          "title": {
           "x": 0.05
          },
          "xaxis": {
           "automargin": true,
           "gridcolor": "white",
           "linecolor": "white",
           "ticks": "",
           "title": {
            "standoff": 15
           },
           "zerolinecolor": "white",
           "zerolinewidth": 2
          },
          "yaxis": {
           "automargin": true,
           "gridcolor": "white",
           "linecolor": "white",
           "ticks": "",
           "title": {
            "standoff": 15
           },
           "zerolinecolor": "white",
           "zerolinewidth": 2
          }
         }
        },
        "title": {
         "text": "Cluster Statistics"
        },
        "xaxis": {
         "autorange": true,
         "range": [
          -4.972272453285112,
          77.97227245328511
         ],
         "title": {
          "text": "# Users"
         },
         "type": "linear"
        },
        "yaxis": {
         "autorange": true,
         "range": [
          -0.9210526315789473,
          10.921052631578947
         ],
         "title": {
          "text": "Cluster"
         },
         "type": "linear"
        }
       }
      },
      "image/png": "[encoded data removed]",
      "text/html": [
       "<div>\n",
       "        \n",
       "        \n",
       "            <div id=\"c960ba64-6679-40be-9bd1-33a10d52ef0e\" class=\"plotly-graph-div\" style=\"height:525px; width:100%;\"></div>\n",
       "            <script type=\"text/javascript\">\n",
       "                require([\"plotly\"], function(Plotly) {\n",
       "                    window.PLOTLYENV=window.PLOTLYENV || {};\n",
       "                    \n",
       "                if (document.getElementById(\"c960ba64-6679-40be-9bd1-33a10d52ef0e\")) {\n",
       "                    Plotly.newPlot(\n",
       "                        'c960ba64-6679-40be-9bd1-33a10d52ef0e',\n",
       "                        [{\"marker\": {\"color\": \"crimson\", \"size\": 12}, \"mode\": \"markers\", \"name\": \"Nodes\", \"type\": \"scatter\", \"x\": [13, 68, 54, 56, 20, 15, 73, 54, 16, 18, 26], \"y\": [\"0\", \"1\", \"2\", \"3\", \"4\", \"5\", \"6\", \"7\", \"8\", \"9\", \"10\"]}, {\"marker\": {\"color\": \"sandybrown\", \"size\": 12}, \"mode\": \"markers\", \"name\": \"Influencers\", \"type\": \"scatter\", \"x\": [12, 61, 47, 49, 18, 14, 61, 48, 14, 16, 24], \"y\": [\"0\", \"1\", \"2\", \"3\", \"4\", \"5\", \"6\", \"7\", \"8\", \"9\", \"10\"]}, {\"marker\": {\"color\": \"midnightblue\", \"size\": 12}, \"mode\": \"markers\", \"name\": \"Enthusiasts\", \"type\": \"scatter\", \"x\": [1, 0, 0, 2, 2, 1, 0, 0, 2, 2, 1], \"y\": [\"0\", \"1\", \"2\", \"3\", \"4\", \"5\", \"6\", \"7\", \"8\", \"9\", \"10\"]}],\n",
       "                        {\"template\": {\"data\": {\"bar\": [{\"error_x\": {\"color\": \"#2a3f5f\"}, \"error_y\": {\"color\": \"#2a3f5f\"}, \"marker\": {\"line\": {\"color\": \"#E5ECF6\", \"width\": 0.5}}, \"type\": \"bar\"}], \"barpolar\": [{\"marker\": {\"line\": {\"color\": \"#E5ECF6\", \"width\": 0.5}}, \"type\": \"barpolar\"}], \"carpet\": [{\"aaxis\": {\"endlinecolor\": \"#2a3f5f\", \"gridcolor\": \"white\", \"linecolor\": \"white\", \"minorgridcolor\": \"white\", \"startlinecolor\": \"#2a3f5f\"}, \"baxis\": {\"endlinecolor\": \"#2a3f5f\", \"gridcolor\": \"white\", \"linecolor\": \"white\", \"minorgridcolor\": \"white\", \"startlinecolor\": \"#2a3f5f\"}, \"type\": \"carpet\"}], \"choropleth\": [{\"colorbar\": {\"outlinewidth\": 0, \"ticks\": \"\"}, \"type\": \"choropleth\"}], \"contour\": [{\"colorbar\": {\"outlinewidth\": 0, \"ticks\": \"\"}, \"colorscale\": [[0.0, \"#0d0887\"], [0.1111111111111111, \"#46039f\"], [0.2222222222222222, \"#7201a8\"], [0.3333333333333333, \"#9c179e\"], [0.4444444444444444, \"#bd3786\"], [0.5555555555555556, \"#d8576b\"], [0.6666666666666666, \"#ed7953\"], [0.7777777777777778, \"#fb9f3a\"], [0.8888888888888888, \"#fdca26\"], [1.0, \"#f0f921\"]], \"type\": \"contour\"}], \"contourcarpet\": [{\"colorbar\": {\"outlinewidth\": 0, \"ticks\": \"\"}, \"type\": \"contourcarpet\"}], \"heatmap\": [{\"colorbar\": {\"outlinewidth\": 0, \"ticks\": \"\"}, \"colorscale\": [[0.0, \"#0d0887\"], [0.1111111111111111, \"#46039f\"], [0.2222222222222222, \"#7201a8\"], [0.3333333333333333, \"#9c179e\"], [0.4444444444444444, \"#bd3786\"], [0.5555555555555556, \"#d8576b\"], [0.6666666666666666, \"#ed7953\"], [0.7777777777777778, \"#fb9f3a\"], [0.8888888888888888, \"#fdca26\"], [1.0, \"#f0f921\"]], \"type\": \"heatmap\"}], \"heatmapgl\": [{\"colorbar\": {\"outlinewidth\": 0, \"ticks\": \"\"}, \"colorscale\": [[0.0, \"#0d0887\"], [0.1111111111111111, \"#46039f\"], [0.2222222222222222, \"#7201a8\"], [0.3333333333333333, \"#9c179e\"], [0.4444444444444444, \"#bd3786\"], [0.5555555555555556, \"#d8576b\"], [0.6666666666666666, \"#ed7953\"], [0.7777777777777778, \"#fb9f3a\"], [0.8888888888888888, \"#fdca26\"], [1.0, \"#f0f921\"]], \"type\": \"heatmapgl\"}], \"histogram\": [{\"marker\": {\"colorbar\": {\"outlinewidth\": 0, \"ticks\": \"\"}}, \"type\": \"histogram\"}], \"histogram2d\": [{\"colorbar\": {\"outlinewidth\": 0, \"ticks\": \"\"}, \"colorscale\": [[0.0, \"#0d0887\"], [0.1111111111111111, \"#46039f\"], [0.2222222222222222, \"#7201a8\"], [0.3333333333333333, \"#9c179e\"], [0.4444444444444444, \"#bd3786\"], [0.5555555555555556, \"#d8576b\"], [0.6666666666666666, \"#ed7953\"], [0.7777777777777778, \"#fb9f3a\"], [0.8888888888888888, \"#fdca26\"], [1.0, \"#f0f921\"]], \"type\": \"histogram2d\"}], \"histogram2dcontour\": [{\"colorbar\": {\"outlinewidth\": 0, \"ticks\": \"\"}, \"colorscale\": [[0.0, \"#0d0887\"], [0.1111111111111111, \"#46039f\"], [0.2222222222222222, \"#7201a8\"], [0.3333333333333333, \"#9c179e\"], [0.4444444444444444, \"#bd3786\"], [0.5555555555555556, \"#d8576b\"], [0.6666666666666666, \"#ed7953\"], [0.7777777777777778, \"#fb9f3a\"], [0.8888888888888888, \"#fdca26\"], [1.0, \"#f0f921\"]], \"type\": \"histogram2dcontour\"}], \"mesh3d\": [{\"colorbar\": {\"outlinewidth\": 0, \"ticks\": \"\"}, \"type\": \"mesh3d\"}], \"parcoords\": [{\"line\": {\"colorbar\": {\"outlinewidth\": 0, \"ticks\": \"\"}}, \"type\": \"parcoords\"}], \"pie\": [{\"automargin\": true, \"type\": \"pie\"}], \"scatter\": [{\"marker\": {\"colorbar\": {\"outlinewidth\": 0, \"ticks\": \"\"}}, \"type\": \"scatter\"}], \"scatter3d\": [{\"line\": {\"colorbar\": {\"outlinewidth\": 0, \"ticks\": \"\"}}, \"marker\": {\"colorbar\": {\"outlinewidth\": 0, \"ticks\": \"\"}}, \"type\": \"scatter3d\"}], \"scattercarpet\": [{\"marker\": {\"colorbar\": {\"outlinewidth\": 0, \"ticks\": \"\"}}, \"type\": \"scattercarpet\"}], \"scattergeo\": [{\"marker\": {\"colorbar\": {\"outlinewidth\": 0, \"ticks\": \"\"}}, \"type\": \"scattergeo\"}], \"scattergl\": [{\"marker\": {\"colorbar\": {\"outlinewidth\": 0, \"ticks\": \"\"}}, \"type\": \"scattergl\"}], \"scattermapbox\": [{\"marker\": {\"colorbar\": {\"outlinewidth\": 0, \"ticks\": \"\"}}, \"type\": \"scattermapbox\"}], \"scatterpolar\": [{\"marker\": {\"colorbar\": {\"outlinewidth\": 0, \"ticks\": \"\"}}, \"type\": \"scatterpolar\"}], \"scatterpolargl\": [{\"marker\": {\"colorbar\": {\"outlinewidth\": 0, \"ticks\": \"\"}}, \"type\": \"scatterpolargl\"}], \"scatterternary\": [{\"marker\": {\"colorbar\": {\"outlinewidth\": 0, \"ticks\": \"\"}}, \"type\": \"scatterternary\"}], \"surface\": [{\"colorbar\": {\"outlinewidth\": 0, \"ticks\": \"\"}, \"colorscale\": [[0.0, \"#0d0887\"], [0.1111111111111111, \"#46039f\"], [0.2222222222222222, \"#7201a8\"], [0.3333333333333333, \"#9c179e\"], [0.4444444444444444, \"#bd3786\"], [0.5555555555555556, \"#d8576b\"], [0.6666666666666666, \"#ed7953\"], [0.7777777777777778, \"#fb9f3a\"], [0.8888888888888888, \"#fdca26\"], [1.0, \"#f0f921\"]], \"type\": \"surface\"}], \"table\": [{\"cells\": {\"fill\": {\"color\": \"#EBF0F8\"}, \"line\": {\"color\": \"white\"}}, \"header\": {\"fill\": {\"color\": \"#C8D4E3\"}, \"line\": {\"color\": \"white\"}}, \"type\": \"table\"}]}, \"layout\": {\"annotationdefaults\": {\"arrowcolor\": \"#2a3f5f\", \"arrowhead\": 0, \"arrowwidth\": 1}, \"coloraxis\": {\"colorbar\": {\"outlinewidth\": 0, \"ticks\": \"\"}}, \"colorscale\": {\"diverging\": [[0, \"#8e0152\"], [0.1, \"#c51b7d\"], [0.2, \"#de77ae\"], [0.3, \"#f1b6da\"], [0.4, \"#fde0ef\"], [0.5, \"#f7f7f7\"], [0.6, \"#e6f5d0\"], [0.7, \"#b8e186\"], [0.8, \"#7fbc41\"], [0.9, \"#4d9221\"], [1, \"#276419\"]], \"sequential\": [[0.0, \"#0d0887\"], [0.1111111111111111, \"#46039f\"], [0.2222222222222222, \"#7201a8\"], [0.3333333333333333, \"#9c179e\"], [0.4444444444444444, \"#bd3786\"], [0.5555555555555556, \"#d8576b\"], [0.6666666666666666, \"#ed7953\"], [0.7777777777777778, \"#fb9f3a\"], [0.8888888888888888, \"#fdca26\"], [1.0, \"#f0f921\"]], \"sequentialminus\": [[0.0, \"#0d0887\"], [0.1111111111111111, \"#46039f\"], [0.2222222222222222, \"#7201a8\"], [0.3333333333333333, \"#9c179e\"], [0.4444444444444444, \"#bd3786\"], [0.5555555555555556, \"#d8576b\"], [0.6666666666666666, \"#ed7953\"], [0.7777777777777778, \"#fb9f3a\"], [0.8888888888888888, \"#fdca26\"], [1.0, \"#f0f921\"]]}, \"colorway\": [\"#636efa\", \"#EF553B\", \"#00cc96\", \"#ab63fa\", \"#FFA15A\", \"#19d3f3\", \"#FF6692\", \"#B6E880\", \"#FF97FF\", \"#FECB52\"], \"font\": {\"color\": \"#2a3f5f\"}, \"geo\": {\"bgcolor\": \"white\", \"lakecolor\": \"white\", \"landcolor\": \"#E5ECF6\", \"showlakes\": true, \"showland\": true, \"subunitcolor\": \"white\"}, \"hoverlabel\": {\"align\": \"left\"}, \"hovermode\": \"closest\", \"mapbox\": {\"style\": \"light\"}, \"paper_bgcolor\": \"white\", \"plot_bgcolor\": \"#E5ECF6\", \"polar\": {\"angularaxis\": {\"gridcolor\": \"white\", \"linecolor\": \"white\", \"ticks\": \"\"}, \"bgcolor\": \"#E5ECF6\", \"radialaxis\": {\"gridcolor\": \"white\", \"linecolor\": \"white\", \"ticks\": \"\"}}, \"scene\": {\"xaxis\": {\"backgroundcolor\": \"#E5ECF6\", \"gridcolor\": \"white\", \"gridwidth\": 2, \"linecolor\": \"white\", \"showbackground\": true, \"ticks\": \"\", \"zerolinecolor\": \"white\"}, \"yaxis\": {\"backgroundcolor\": \"#E5ECF6\", \"gridcolor\": \"white\", \"gridwidth\": 2, \"linecolor\": \"white\", \"showbackground\": true, \"ticks\": \"\", \"zerolinecolor\": \"white\"}, \"zaxis\": {\"backgroundcolor\": \"#E5ECF6\", \"gridcolor\": \"white\", \"gridwidth\": 2, \"linecolor\": \"white\", \"showbackground\": true, \"ticks\": \"\", \"zerolinecolor\": \"white\"}}, \"shapedefaults\": {\"line\": {\"color\": \"#2a3f5f\"}}, \"ternary\": {\"aaxis\": {\"gridcolor\": \"white\", \"linecolor\": \"white\", \"ticks\": \"\"}, \"baxis\": {\"gridcolor\": \"white\", \"linecolor\": \"white\", \"ticks\": \"\"}, \"bgcolor\": \"#E5ECF6\", \"caxis\": {\"gridcolor\": \"white\", \"linecolor\": \"white\", \"ticks\": \"\"}}, \"title\": {\"x\": 0.05}, \"xaxis\": {\"automargin\": true, \"gridcolor\": \"white\", \"linecolor\": \"white\", \"ticks\": \"\", \"title\": {\"standoff\": 15}, \"zerolinecolor\": \"white\", \"zerolinewidth\": 2}, \"yaxis\": {\"automargin\": true, \"gridcolor\": \"white\", \"linecolor\": \"white\", \"ticks\": \"\", \"title\": {\"standoff\": 15}, \"zerolinecolor\": \"white\", \"zerolinewidth\": 2}}}, \"title\": {\"text\": \"Cluster Statistics\"}, \"xaxis\": {\"title\": {\"text\": \"# Users\"}}, \"yaxis\": {\"title\": {\"text\": \"Cluster\"}}},\n",
       "                        {\"responsive\": true}\n",
       "                    ).then(function(){\n",
       "                            \n",
       "var gd = document.getElementById('c960ba64-6679-40be-9bd1-33a10d52ef0e');\n",
       "var x = new MutationObserver(function (mutations, observer) {{\n",
       "        var display = window.getComputedStyle(gd).display;\n",
       "        if (!display || display === 'none') {{\n",
       "            console.log([gd, 'removed!']);\n",
       "            Plotly.purge(gd);\n",
       "            observer.disconnect();\n",
       "        }}\n",
       "}});\n",
       "\n",
       "// Listen for the removal of the full notebook cells\n",
       "var notebookContainer = gd.closest('#notebook-container');\n",
       "if (notebookContainer) {{\n",
       "    x.observe(notebookContainer, {childList: true});\n",
       "}}\n",
       "\n",
       "// Listen for the clearing of the current output cell\n",
       "var outputEl = gd.closest('.output');\n",
       "if (outputEl) {{\n",
       "    x.observe(outputEl, {childList: true});\n",
       "}}\n",
       "\n",
       "                        })\n",
       "                };\n",
       "                });\n",
       "            </script>\n",
       "        </div>"
      ]
     },
     "metadata": {},
     "output_type": "display_data"
    },
    {
     "data": {
      "application/vnd.plotly.v1+json": {
       "config": {
        "plotlyServerURL": "https://plot.ly"
       },
       "data": [
        {
         "marker": {
          "color": "crimson",
          "size": 12
         },
         "mode": "markers",
         "name": "k_max",
         "type": "scatter",
         "x": [
          1,
          3,
          3,
          5,
          2,
          1,
          4,
          3,
          1,
          1,
          1
         ],
         "y": [
          "0",
          "1",
          "2",
          "3",
          "4",
          "5",
          "6",
          "7",
          "8",
          "9",
          "10"
         ]
        },
        {
         "marker": {
          "color": "sandybrown",
          "size": 12
         },
         "mode": "markers",
         "name": "max_kcore",
         "type": "scatter",
         "x": [
          13,
          9,
          8,
          12,
          4,
          15,
          11,
          9,
          16,
          18,
          26
         ],
         "y": [
          "0",
          "1",
          "2",
          "3",
          "4",
          "5",
          "6",
          "7",
          "8",
          "9",
          "10"
         ]
        },
        {
         "marker": {
          "color": "midnightblue",
          "size": 12
         },
         "mode": "markers",
         "name": "norm_kcore",
         "type": "scatter",
         "x": [
          1,
          0.1323529411764706,
          0.1481481481481481,
          0.2142857142857143,
          0.2,
          1,
          0.1506849315068493,
          0.1666666666666667,
          1,
          1,
          1
         ],
         "y": [
          "0",
          "1",
          "2",
          "3",
          "4",
          "5",
          "6",
          "7",
          "8",
          "9",
          "10"
         ]
        }
       ],
       "layout": {
        "autosize": true,
        "template": {
         "data": {
          "bar": [
           {
            "error_x": {
             "color": "#2a3f5f"
            },
            "error_y": {
             "color": "#2a3f5f"
            },
            "marker": {
             "line": {
              "color": "#E5ECF6",
              "width": 0.5
             }
            },
            "type": "bar"
           }
          ],
          "barpolar": [
           {
            "marker": {
             "line": {
              "color": "#E5ECF6",
              "width": 0.5
             }
            },
            "type": "barpolar"
           }
          ],
          "carpet": [
           {
            "aaxis": {
             "endlinecolor": "#2a3f5f",
             "gridcolor": "white",
             "linecolor": "white",
             "minorgridcolor": "white",
             "startlinecolor": "#2a3f5f"
            },
            "baxis": {
             "endlinecolor": "#2a3f5f",
             "gridcolor": "white",
             "linecolor": "white",
             "minorgridcolor": "white",
             "startlinecolor": "#2a3f5f"
            },
            "type": "carpet"
           }
          ],
          "choropleth": [
           {
            "colorbar": {
             "outlinewidth": 0,
             "ticks": ""
            },
            "type": "choropleth"
           }
          ],
          "contour": [
           {
            "colorbar": {
             "outlinewidth": 0,
             "ticks": ""
            },
            "colorscale": [
             [
              0,
              "#0d0887"
             ],
             [
              0.1111111111111111,
              "#46039f"
             ],
             [
              0.2222222222222222,
              "#7201a8"
             ],
             [
              0.3333333333333333,
              "#9c179e"
             ],
             [
              0.4444444444444444,
              "#bd3786"
             ],
             [
              0.5555555555555556,
              "#d8576b"
             ],
             [
              0.6666666666666666,
              "#ed7953"
             ],
             [
              0.7777777777777778,
              "#fb9f3a"
             ],
             [
              0.8888888888888888,
              "#fdca26"
             ],
             [
              1,
              "#f0f921"
             ]
            ],
            "type": "contour"
           }
          ],
          "contourcarpet": [
           {
            "colorbar": {
             "outlinewidth": 0,
             "ticks": ""
            },
            "type": "contourcarpet"
           }
          ],
          "heatmap": [
           {
            "colorbar": {
             "outlinewidth": 0,
             "ticks": ""
            },
            "colorscale": [
             [
              0,
              "#0d0887"
             ],
             [
              0.1111111111111111,
              "#46039f"
             ],
             [
              0.2222222222222222,
              "#7201a8"
             ],
             [
              0.3333333333333333,
              "#9c179e"
             ],
             [
              0.4444444444444444,
              "#bd3786"
             ],
             [
              0.5555555555555556,
              "#d8576b"
             ],
             [
              0.6666666666666666,
              "#ed7953"
             ],
             [
              0.7777777777777778,
              "#fb9f3a"
             ],
             [
              0.8888888888888888,
              "#fdca26"
             ],
             [
              1,
              "#f0f921"
             ]
            ],
            "type": "heatmap"
           }
          ],
          "heatmapgl": [
           {
            "colorbar": {
             "outlinewidth": 0,
             "ticks": ""
            },
            "colorscale": [
             [
              0,
              "#0d0887"
             ],
             [
              0.1111111111111111,
              "#46039f"
             ],
             [
              0.2222222222222222,
              "#7201a8"
             ],
             [
              0.3333333333333333,
              "#9c179e"
             ],
             [
              0.4444444444444444,
              "#bd3786"
             ],
             [
              0.5555555555555556,
              "#d8576b"
             ],
             [
              0.6666666666666666,
              "#ed7953"
             ],
             [
              0.7777777777777778,
              "#fb9f3a"
             ],
             [
              0.8888888888888888,
              "#fdca26"
             ],
             [
              1,
              "#f0f921"
             ]
            ],
            "type": "heatmapgl"
           }
          ],
          "histogram": [
           {
            "marker": {
             "colorbar": {
              "outlinewidth": 0,
              "ticks": ""
             }
            },
            "type": "histogram"
           }
          ],
          "histogram2d": [
           {
            "colorbar": {
             "outlinewidth": 0,
             "ticks": ""
            },
            "colorscale": [
             [
              0,
              "#0d0887"
             ],
             [
              0.1111111111111111,
              "#46039f"
             ],
             [
              0.2222222222222222,
              "#7201a8"
             ],
             [
              0.3333333333333333,
              "#9c179e"
             ],
             [
              0.4444444444444444,
              "#bd3786"
             ],
             [
              0.5555555555555556,
              "#d8576b"
             ],
             [
              0.6666666666666666,
              "#ed7953"
             ],
             [
              0.7777777777777778,
              "#fb9f3a"
             ],
             [
              0.8888888888888888,
              "#fdca26"
             ],
             [
              1,
              "#f0f921"
             ]
            ],
            "type": "histogram2d"
           }
          ],
          "histogram2dcontour": [
           {
            "colorbar": {
             "outlinewidth": 0,
             "ticks": ""
            },
            "colorscale": [
             [
              0,
              "#0d0887"
             ],
             [
              0.1111111111111111,
              "#46039f"
             ],
             [
              0.2222222222222222,
              "#7201a8"
             ],
             [
              0.3333333333333333,
              "#9c179e"
             ],
             [
              0.4444444444444444,
              "#bd3786"
             ],
             [
              0.5555555555555556,
              "#d8576b"
             ],
             [
              0.6666666666666666,
              "#ed7953"
             ],
             [
              0.7777777777777778,
              "#fb9f3a"
             ],
             [
              0.8888888888888888,
              "#fdca26"
             ],
             [
              1,
              "#f0f921"
             ]
            ],
            "type": "histogram2dcontour"
           }
          ],
          "mesh3d": [
           {
            "colorbar": {
             "outlinewidth": 0,
             "ticks": ""
            },
            "type": "mesh3d"
           }
          ],
          "parcoords": [
           {
            "line": {
             "colorbar": {
              "outlinewidth": 0,
              "ticks": ""
             }
            },
            "type": "parcoords"
           }
          ],
          "pie": [
           {
            "automargin": true,
            "type": "pie"
           }
          ],
          "scatter": [
           {
            "marker": {
             "colorbar": {
              "outlinewidth": 0,
              "ticks": ""
             }
            },
            "type": "scatter"
           }
          ],
          "scatter3d": [
           {
            "line": {
             "colorbar": {
              "outlinewidth": 0,
              "ticks": ""
             }
            },
            "marker": {
             "colorbar": {
              "outlinewidth": 0,
              "ticks": ""
             }
            },
            "type": "scatter3d"
           }
          ],
          "scattercarpet": [
           {
            "marker": {
             "colorbar": {
              "outlinewidth": 0,
              "ticks": ""
             }
            },
            "type": "scattercarpet"
           }
          ],
          "scattergeo": [
           {
            "marker": {
             "colorbar": {
              "outlinewidth": 0,
              "ticks": ""
             }
            },
            "type": "scattergeo"
           }
          ],
          "scattergl": [
           {
            "marker": {
             "colorbar": {
              "outlinewidth": 0,
              "ticks": ""
             }
            },
            "type": "scattergl"
           }
          ],
          "scattermapbox": [
           {
            "marker": {
             "colorbar": {
              "outlinewidth": 0,
              "ticks": ""
             }
            },
            "type": "scattermapbox"
           }
          ],
          "scatterpolar": [
           {
            "marker": {
             "colorbar": {
              "outlinewidth": 0,
              "ticks": ""
             }
            },
            "type": "scatterpolar"
           }
          ],
          "scatterpolargl": [
           {
            "marker": {
             "colorbar": {
              "outlinewidth": 0,
              "ticks": ""
             }
            },
            "type": "scatterpolargl"
           }
          ],
          "scatterternary": [
           {
            "marker": {
             "colorbar": {
              "outlinewidth": 0,
              "ticks": ""
             }
            },
            "type": "scatterternary"
           }
          ],
          "surface": [
           {
            "colorbar": {
             "outlinewidth": 0,
             "ticks": ""
            },
            "colorscale": [
             [
              0,
              "#0d0887"
             ],
             [
              0.1111111111111111,
              "#46039f"
             ],
             [
              0.2222222222222222,
              "#7201a8"
             ],
             [
              0.3333333333333333,
              "#9c179e"
             ],
             [
              0.4444444444444444,
              "#bd3786"
             ],
             [
              0.5555555555555556,
              "#d8576b"
             ],
             [
              0.6666666666666666,
              "#ed7953"
             ],
             [
              0.7777777777777778,
              "#fb9f3a"
             ],
             [
              0.8888888888888888,
              "#fdca26"
             ],
             [
              1,
              "#f0f921"
             ]
            ],
            "type": "surface"
           }
          ],
          "table": [
           {
            "cells": {
             "fill": {
              "color": "#EBF0F8"
             },
             "line": {
              "color": "white"
             }
            },
            "header": {
             "fill": {
              "color": "#C8D4E3"
             },
             "line": {
              "color": "white"
             }
            },
            "type": "table"
           }
          ]
         },
         "layout": {
          "annotationdefaults": {
           "arrowcolor": "#2a3f5f",
           "arrowhead": 0,
           "arrowwidth": 1
          },
          "coloraxis": {
           "colorbar": {
            "outlinewidth": 0,
            "ticks": ""
           }
          },
          "colorscale": {
           "diverging": [
            [
             0,
             "#8e0152"
            ],
            [
             0.1,
             "#c51b7d"
            ],
            [
             0.2,
             "#de77ae"
            ],
            [
             0.3,
             "#f1b6da"
            ],
            [
             0.4,
             "#fde0ef"
            ],
            [
             0.5,
             "#f7f7f7"
            ],
            [
             0.6,
             "#e6f5d0"
            ],
            [
             0.7,
             "#b8e186"
            ],
            [
             0.8,
             "#7fbc41"
            ],
            [
             0.9,
             "#4d9221"
            ],
            [
             1,
             "#276419"
            ]
           ],
           "sequential": [
            [
             0,
             "#0d0887"
            ],
            [
             0.1111111111111111,
             "#46039f"
            ],
            [
             0.2222222222222222,
             "#7201a8"
            ],
            [
             0.3333333333333333,
             "#9c179e"
            ],
            [
             0.4444444444444444,
             "#bd3786"
            ],
            [
             0.5555555555555556,
             "#d8576b"
            ],
            [
             0.6666666666666666,
             "#ed7953"
            ],
            [
             0.7777777777777778,
             "#fb9f3a"
            ],
            [
             0.8888888888888888,
             "#fdca26"
            ],
            [
             1,
             "#f0f921"
            ]
           ],
           "sequentialminus": [
            [
             0,
             "#0d0887"
            ],
            [
             0.1111111111111111,
             "#46039f"
            ],
            [
             0.2222222222222222,
             "#7201a8"
            ],
            [
             0.3333333333333333,
             "#9c179e"
            ],
            [
             0.4444444444444444,
             "#bd3786"
            ],
            [
             0.5555555555555556,
             "#d8576b"
            ],
            [
             0.6666666666666666,
             "#ed7953"
            ],
            [
             0.7777777777777778,
             "#fb9f3a"
            ],
            [
             0.8888888888888888,
             "#fdca26"
            ],
            [
             1,
             "#f0f921"
            ]
           ]
          },
          "colorway": [
           "#636efa",
           "#EF553B",
           "#00cc96",
           "#ab63fa",
           "#FFA15A",
           "#19d3f3",
           "#FF6692",
           "#B6E880",
           "#FF97FF",
           "#FECB52"
          ],
          "font": {
           "color": "#2a3f5f"
          },
          "geo": {
           "bgcolor": "white",
           "lakecolor": "white",
           "landcolor": "#E5ECF6",
           "showlakes": true,
           "showland": true,
           "subunitcolor": "white"
          },
          "hoverlabel": {
           "align": "left"
          },
          "hovermode": "closest",
          "mapbox": {
           "style": "light"
          },
          "paper_bgcolor": "white",
          "plot_bgcolor": "#E5ECF6",
          "polar": {
           "angularaxis": {
            "gridcolor": "white",
            "linecolor": "white",
            "ticks": ""
           },
           "bgcolor": "#E5ECF6",
           "radialaxis": {
            "gridcolor": "white",
            "linecolor": "white",
            "ticks": ""
           }
          },
          "scene": {
           "xaxis": {
            "backgroundcolor": "#E5ECF6",
            "gridcolor": "white",
            "gridwidth": 2,
            "linecolor": "white",
            "showbackground": true,
            "ticks": "",
            "zerolinecolor": "white"
           },
           "yaxis": {
            "backgroundcolor": "#E5ECF6",
            "gridcolor": "white",
            "gridwidth": 2,
            "linecolor": "white",
            "showbackground": true,
            "ticks": "",
            "zerolinecolor": "white"
           },
           "zaxis": {
            "backgroundcolor": "#E5ECF6",
            "gridcolor": "white",
            "gridwidth": 2,
            "linecolor": "white",
            "showbackground": true,
            "ticks": "",
            "zerolinecolor": "white"
           }
          },
          "shapedefaults": {
           "line": {
            "color": "#2a3f5f"
           }
          },
          "ternary": {
           "aaxis": {
            "gridcolor": "white",
            "linecolor": "white",
            "ticks": ""
           },
           "baxis": {
            "gridcolor": "white",
            "linecolor": "white",
            "ticks": ""
           },
           "bgcolor": "#E5ECF6",
           "caxis": {
            "gridcolor": "white",
            "linecolor": "white",
            "ticks": ""
           }
          },
          "title": {
           "x": 0.05
          },
          "xaxis": {
           "automargin": true,
           "gridcolor": "white",
           "linecolor": "white",
           "ticks": "",
           "title": {
            "standoff": 15
           },
           "zerolinecolor": "white",
           "zerolinewidth": 2
          },
          "yaxis": {
           "automargin": true,
           "gridcolor": "white",
           "linecolor": "white",
           "ticks": "",
           "title": {
            "standoff": 15
           },
           "zerolinecolor": "white",
           "zerolinewidth": 2
          }
         }
        },
        "title": {
         "text": "Cluster Statistics"
        },
        "xaxis": {
         "autorange": true,
         "range": [
          -1.6309054942903167,
          27.76325843546679
         ],
         "title": {
          "text": "Value"
         },
         "type": "linear"
        },
        "yaxis": {
         "autorange": true,
         "range": [
          -0.9210526315789473,
          10.921052631578947
         ],
         "title": {
          "text": "Cluster"
         },
         "type": "linear"
        }
       }
      },
      "image/png": "[encoded data removed]",
      "text/html": [
       "<div>\n",
       "        \n",
       "        \n",
       "            <div id=\"4f74f83c-36e0-4f7b-9ea7-64ff0c5093e2\" class=\"plotly-graph-div\" style=\"height:525px; width:100%;\"></div>\n",
       "            <script type=\"text/javascript\">\n",
       "                require([\"plotly\"], function(Plotly) {\n",
       "                    window.PLOTLYENV=window.PLOTLYENV || {};\n",
       "                    \n",
       "                if (document.getElementById(\"4f74f83c-36e0-4f7b-9ea7-64ff0c5093e2\")) {\n",
       "                    Plotly.newPlot(\n",
       "                        '4f74f83c-36e0-4f7b-9ea7-64ff0c5093e2',\n",
       "                        [{\"marker\": {\"color\": \"crimson\", \"size\": 12}, \"mode\": \"markers\", \"name\": \"k_max\", \"type\": \"scatter\", \"x\": [1, 3, 3, 5, 2, 1, 4, 3, 1, 1, 1], \"y\": [\"0\", \"1\", \"2\", \"3\", \"4\", \"5\", \"6\", \"7\", \"8\", \"9\", \"10\"]}, {\"marker\": {\"color\": \"sandybrown\", \"size\": 12}, \"mode\": \"markers\", \"name\": \"max_kcore\", \"type\": \"scatter\", \"x\": [13, 9, 8, 12, 4, 15, 11, 9, 16, 18, 26], \"y\": [\"0\", \"1\", \"2\", \"3\", \"4\", \"5\", \"6\", \"7\", \"8\", \"9\", \"10\"]}, {\"marker\": {\"color\": \"midnightblue\", \"size\": 12}, \"mode\": \"markers\", \"name\": \"norm_kcore\", \"type\": \"scatter\", \"x\": [1, 0.1323529411764706, 0.1481481481481481, 0.2142857142857143, 0.2, 1, 0.1506849315068493, 0.1666666666666667, 1, 1, 1], \"y\": [\"0\", \"1\", \"2\", \"3\", \"4\", \"5\", \"6\", \"7\", \"8\", \"9\", \"10\"]}],\n",
       "                        {\"template\": {\"data\": {\"bar\": [{\"error_x\": {\"color\": \"#2a3f5f\"}, \"error_y\": {\"color\": \"#2a3f5f\"}, \"marker\": {\"line\": {\"color\": \"#E5ECF6\", \"width\": 0.5}}, \"type\": \"bar\"}], \"barpolar\": [{\"marker\": {\"line\": {\"color\": \"#E5ECF6\", \"width\": 0.5}}, \"type\": \"barpolar\"}], \"carpet\": [{\"aaxis\": {\"endlinecolor\": \"#2a3f5f\", \"gridcolor\": \"white\", \"linecolor\": \"white\", \"minorgridcolor\": \"white\", \"startlinecolor\": \"#2a3f5f\"}, \"baxis\": {\"endlinecolor\": \"#2a3f5f\", \"gridcolor\": \"white\", \"linecolor\": \"white\", \"minorgridcolor\": \"white\", \"startlinecolor\": \"#2a3f5f\"}, \"type\": \"carpet\"}], \"choropleth\": [{\"colorbar\": {\"outlinewidth\": 0, \"ticks\": \"\"}, \"type\": \"choropleth\"}], \"contour\": [{\"colorbar\": {\"outlinewidth\": 0, \"ticks\": \"\"}, \"colorscale\": [[0.0, \"#0d0887\"], [0.1111111111111111, \"#46039f\"], [0.2222222222222222, \"#7201a8\"], [0.3333333333333333, \"#9c179e\"], [0.4444444444444444, \"#bd3786\"], [0.5555555555555556, \"#d8576b\"], [0.6666666666666666, \"#ed7953\"], [0.7777777777777778, \"#fb9f3a\"], [0.8888888888888888, \"#fdca26\"], [1.0, \"#f0f921\"]], \"type\": \"contour\"}], \"contourcarpet\": [{\"colorbar\": {\"outlinewidth\": 0, \"ticks\": \"\"}, \"type\": \"contourcarpet\"}], \"heatmap\": [{\"colorbar\": {\"outlinewidth\": 0, \"ticks\": \"\"}, \"colorscale\": [[0.0, \"#0d0887\"], [0.1111111111111111, \"#46039f\"], [0.2222222222222222, \"#7201a8\"], [0.3333333333333333, \"#9c179e\"], [0.4444444444444444, \"#bd3786\"], [0.5555555555555556, \"#d8576b\"], [0.6666666666666666, \"#ed7953\"], [0.7777777777777778, \"#fb9f3a\"], [0.8888888888888888, \"#fdca26\"], [1.0, \"#f0f921\"]], \"type\": \"heatmap\"}], \"heatmapgl\": [{\"colorbar\": {\"outlinewidth\": 0, \"ticks\": \"\"}, \"colorscale\": [[0.0, \"#0d0887\"], [0.1111111111111111, \"#46039f\"], [0.2222222222222222, \"#7201a8\"], [0.3333333333333333, \"#9c179e\"], [0.4444444444444444, \"#bd3786\"], [0.5555555555555556, \"#d8576b\"], [0.6666666666666666, \"#ed7953\"], [0.7777777777777778, \"#fb9f3a\"], [0.8888888888888888, \"#fdca26\"], [1.0, \"#f0f921\"]], \"type\": \"heatmapgl\"}], \"histogram\": [{\"marker\": {\"colorbar\": {\"outlinewidth\": 0, \"ticks\": \"\"}}, \"type\": \"histogram\"}], \"histogram2d\": [{\"colorbar\": {\"outlinewidth\": 0, \"ticks\": \"\"}, \"colorscale\": [[0.0, \"#0d0887\"], [0.1111111111111111, \"#46039f\"], [0.2222222222222222, \"#7201a8\"], [0.3333333333333333, \"#9c179e\"], [0.4444444444444444, \"#bd3786\"], [0.5555555555555556, \"#d8576b\"], [0.6666666666666666, \"#ed7953\"], [0.7777777777777778, \"#fb9f3a\"], [0.8888888888888888, \"#fdca26\"], [1.0, \"#f0f921\"]], \"type\": \"histogram2d\"}], \"histogram2dcontour\": [{\"colorbar\": {\"outlinewidth\": 0, \"ticks\": \"\"}, \"colorscale\": [[0.0, \"#0d0887\"], [0.1111111111111111, \"#46039f\"], [0.2222222222222222, \"#7201a8\"], [0.3333333333333333, \"#9c179e\"], [0.4444444444444444, \"#bd3786\"], [0.5555555555555556, \"#d8576b\"], [0.6666666666666666, \"#ed7953\"], [0.7777777777777778, \"#fb9f3a\"], [0.8888888888888888, \"#fdca26\"], [1.0, \"#f0f921\"]], \"type\": \"histogram2dcontour\"}], \"mesh3d\": [{\"colorbar\": {\"outlinewidth\": 0, \"ticks\": \"\"}, \"type\": \"mesh3d\"}], \"parcoords\": [{\"line\": {\"colorbar\": {\"outlinewidth\": 0, \"ticks\": \"\"}}, \"type\": \"parcoords\"}], \"pie\": [{\"automargin\": true, \"type\": \"pie\"}], \"scatter\": [{\"marker\": {\"colorbar\": {\"outlinewidth\": 0, \"ticks\": \"\"}}, \"type\": \"scatter\"}], \"scatter3d\": [{\"line\": {\"colorbar\": {\"outlinewidth\": 0, \"ticks\": \"\"}}, \"marker\": {\"colorbar\": {\"outlinewidth\": 0, \"ticks\": \"\"}}, \"type\": \"scatter3d\"}], \"scattercarpet\": [{\"marker\": {\"colorbar\": {\"outlinewidth\": 0, \"ticks\": \"\"}}, \"type\": \"scattercarpet\"}], \"scattergeo\": [{\"marker\": {\"colorbar\": {\"outlinewidth\": 0, \"ticks\": \"\"}}, \"type\": \"scattergeo\"}], \"scattergl\": [{\"marker\": {\"colorbar\": {\"outlinewidth\": 0, \"ticks\": \"\"}}, \"type\": \"scattergl\"}], \"scattermapbox\": [{\"marker\": {\"colorbar\": {\"outlinewidth\": 0, \"ticks\": \"\"}}, \"type\": \"scattermapbox\"}], \"scatterpolar\": [{\"marker\": {\"colorbar\": {\"outlinewidth\": 0, \"ticks\": \"\"}}, \"type\": \"scatterpolar\"}], \"scatterpolargl\": [{\"marker\": {\"colorbar\": {\"outlinewidth\": 0, \"ticks\": \"\"}}, \"type\": \"scatterpolargl\"}], \"scatterternary\": [{\"marker\": {\"colorbar\": {\"outlinewidth\": 0, \"ticks\": \"\"}}, \"type\": \"scatterternary\"}], \"surface\": [{\"colorbar\": {\"outlinewidth\": 0, \"ticks\": \"\"}, \"colorscale\": [[0.0, \"#0d0887\"], [0.1111111111111111, \"#46039f\"], [0.2222222222222222, \"#7201a8\"], [0.3333333333333333, \"#9c179e\"], [0.4444444444444444, \"#bd3786\"], [0.5555555555555556, \"#d8576b\"], [0.6666666666666666, \"#ed7953\"], [0.7777777777777778, \"#fb9f3a\"], [0.8888888888888888, \"#fdca26\"], [1.0, \"#f0f921\"]], \"type\": \"surface\"}], \"table\": [{\"cells\": {\"fill\": {\"color\": \"#EBF0F8\"}, \"line\": {\"color\": \"white\"}}, \"header\": {\"fill\": {\"color\": \"#C8D4E3\"}, \"line\": {\"color\": \"white\"}}, \"type\": \"table\"}]}, \"layout\": {\"annotationdefaults\": {\"arrowcolor\": \"#2a3f5f\", \"arrowhead\": 0, \"arrowwidth\": 1}, \"coloraxis\": {\"colorbar\": {\"outlinewidth\": 0, \"ticks\": \"\"}}, \"colorscale\": {\"diverging\": [[0, \"#8e0152\"], [0.1, \"#c51b7d\"], [0.2, \"#de77ae\"], [0.3, \"#f1b6da\"], [0.4, \"#fde0ef\"], [0.5, \"#f7f7f7\"], [0.6, \"#e6f5d0\"], [0.7, \"#b8e186\"], [0.8, \"#7fbc41\"], [0.9, \"#4d9221\"], [1, \"#276419\"]], \"sequential\": [[0.0, \"#0d0887\"], [0.1111111111111111, \"#46039f\"], [0.2222222222222222, \"#7201a8\"], [0.3333333333333333, \"#9c179e\"], [0.4444444444444444, \"#bd3786\"], [0.5555555555555556, \"#d8576b\"], [0.6666666666666666, \"#ed7953\"], [0.7777777777777778, \"#fb9f3a\"], [0.8888888888888888, \"#fdca26\"], [1.0, \"#f0f921\"]], \"sequentialminus\": [[0.0, \"#0d0887\"], [0.1111111111111111, \"#46039f\"], [0.2222222222222222, \"#7201a8\"], [0.3333333333333333, \"#9c179e\"], [0.4444444444444444, \"#bd3786\"], [0.5555555555555556, \"#d8576b\"], [0.6666666666666666, \"#ed7953\"], [0.7777777777777778, \"#fb9f3a\"], [0.8888888888888888, \"#fdca26\"], [1.0, \"#f0f921\"]]}, \"colorway\": [\"#636efa\", \"#EF553B\", \"#00cc96\", \"#ab63fa\", \"#FFA15A\", \"#19d3f3\", \"#FF6692\", \"#B6E880\", \"#FF97FF\", \"#FECB52\"], \"font\": {\"color\": \"#2a3f5f\"}, \"geo\": {\"bgcolor\": \"white\", \"lakecolor\": \"white\", \"landcolor\": \"#E5ECF6\", \"showlakes\": true, \"showland\": true, \"subunitcolor\": \"white\"}, \"hoverlabel\": {\"align\": \"left\"}, \"hovermode\": \"closest\", \"mapbox\": {\"style\": \"light\"}, \"paper_bgcolor\": \"white\", \"plot_bgcolor\": \"#E5ECF6\", \"polar\": {\"angularaxis\": {\"gridcolor\": \"white\", \"linecolor\": \"white\", \"ticks\": \"\"}, \"bgcolor\": \"#E5ECF6\", \"radialaxis\": {\"gridcolor\": \"white\", \"linecolor\": \"white\", \"ticks\": \"\"}}, \"scene\": {\"xaxis\": {\"backgroundcolor\": \"#E5ECF6\", \"gridcolor\": \"white\", \"gridwidth\": 2, \"linecolor\": \"white\", \"showbackground\": true, \"ticks\": \"\", \"zerolinecolor\": \"white\"}, \"yaxis\": {\"backgroundcolor\": \"#E5ECF6\", \"gridcolor\": \"white\", \"gridwidth\": 2, \"linecolor\": \"white\", \"showbackground\": true, \"ticks\": \"\", \"zerolinecolor\": \"white\"}, \"zaxis\": {\"backgroundcolor\": \"#E5ECF6\", \"gridcolor\": \"white\", \"gridwidth\": 2, \"linecolor\": \"white\", \"showbackground\": true, \"ticks\": \"\", \"zerolinecolor\": \"white\"}}, \"shapedefaults\": {\"line\": {\"color\": \"#2a3f5f\"}}, \"ternary\": {\"aaxis\": {\"gridcolor\": \"white\", \"linecolor\": \"white\", \"ticks\": \"\"}, \"baxis\": {\"gridcolor\": \"white\", \"linecolor\": \"white\", \"ticks\": \"\"}, \"bgcolor\": \"#E5ECF6\", \"caxis\": {\"gridcolor\": \"white\", \"linecolor\": \"white\", \"ticks\": \"\"}}, \"title\": {\"x\": 0.05}, \"xaxis\": {\"automargin\": true, \"gridcolor\": \"white\", \"linecolor\": \"white\", \"ticks\": \"\", \"title\": {\"standoff\": 15}, \"zerolinecolor\": \"white\", \"zerolinewidth\": 2}, \"yaxis\": {\"automargin\": true, \"gridcolor\": \"white\", \"linecolor\": \"white\", \"ticks\": \"\", \"title\": {\"standoff\": 15}, \"zerolinecolor\": \"white\", \"zerolinewidth\": 2}}}, \"title\": {\"text\": \"Cluster Statistics\"}, \"xaxis\": {\"title\": {\"text\": \"Value\"}}, \"yaxis\": {\"title\": {\"text\": \"Cluster\"}}},\n",
       "                        {\"responsive\": true}\n",
       "                    ).then(function(){\n",
       "                            \n",
       "var gd = document.getElementById('4f74f83c-36e0-4f7b-9ea7-64ff0c5093e2');\n",
       "var x = new MutationObserver(function (mutations, observer) {{\n",
       "        var display = window.getComputedStyle(gd).display;\n",
       "        if (!display || display === 'none') {{\n",
       "            console.log([gd, 'removed!']);\n",
       "            Plotly.purge(gd);\n",
       "            observer.disconnect();\n",
       "        }}\n",
       "}});\n",
       "\n",
       "// Listen for the removal of the full notebook cells\n",
       "var notebookContainer = gd.closest('#notebook-container');\n",
       "if (notebookContainer) {{\n",
       "    x.observe(notebookContainer, {childList: true});\n",
       "}}\n",
       "\n",
       "// Listen for the clearing of the current output cell\n",
       "var outputEl = gd.closest('.output');\n",
       "if (outputEl) {{\n",
       "    x.observe(outputEl, {childList: true});\n",
       "}}\n",
       "\n",
       "                        })\n",
       "                };\n",
       "                });\n",
       "            </script>\n",
       "        </div>"
      ]
     },
     "metadata": {},
     "output_type": "display_data"
    },
    {
     "data": {
      "application/vnd.plotly.v1+json": {
       "config": {
        "plotlyServerURL": "https://plot.ly"
       },
       "data": [
        {
         "branchvalues": "total",
         "domain": {
          "x": [
           0,
           1
          ],
          "y": [
           0,
           1
          ]
         },
         "hoverlabel": {
          "namelength": 0
         },
         "hovertemplate": "labels=%{label}<br>score=%{value}<br>parent=%{parent}<br>id=%{id}",
         "ids": [
          "7/keyword/10kg",
          "1/hashtag/13Novembre",
          "3/hashtag/27jours",
          "6/hashtag/6Nations",
          "6/hashtag/Abattage",
          "3/hashtag/Afghanistan",
          "4/hashtag/AlpesMaritimes",
          "3/hashtag/Ashkelon",
          "6/hashtag/AstridEtRaphaelle",
          "4/hashtag/Avia",
          "3/hashtag/Baltimore",
          "3/hashtag/Banque",
          "4/hashtag/Belattar",
          "7/hashtag/Belattar",
          "7/hashtag/BellatarYassine",
          "6/hashtag/BenoitMichel",
          "1/hashtag/Beziers",
          "4/hashtag/Bilderberg",
          "2/hashtag/Bitagri",
          "6/hashtag/Bobigny",
          "7/hashtag/Brisbane",
          "3/hashtag/CDC",
          "3/hashtag/CEDH",
          "3/hashtag/COVID19",
          "7/hashtag/COVID19",
          "7/hashtag/COVID19italia",
          "3/hashtag/Chine",
          "3/hashtag/Chinois",
          "3/hashtag/Corona",
          "3/hashtag/CoronaVirusItalia",
          "3/hashtag/Coronavirus",
          "7/hashtag/Coronavirus",
          "3/hashtag/CoronavirusItalia",
          "6/hashtag/Culottées",
          "3/hashtag/DGSE",
          "3/hashtag/Damas",
          "3/hashtag/DemocRat",
          "4/hashtag/DroitePopulaire",
          "7/hashtag/EnMarche",
          "7/hashtag/Europe",
          "6/hashtag/Everest",
          "6/hashtag/FFTV2019",
          "1/hashtag/FakeNews",
          "4/hashtag/FakeNews",
          "4/hashtag/FauxCul",
          "6/hashtag/Fessenheim",
          "4/hashtag/Francfort",
          "6/hashtag/GALFRA",
          "7/hashtag/GPA",
          "3/hashtag/Gaza",
          "7/hashtag/Google",
          "4/hashtag/Grenoble",
          "4/hashtag/Griveaux",
          "4/hashtag/GriveauxGate",
          "9/hashtag/Guillotière",
          "4/hashtag/Hanau",
          "4/hashtag/Havre",
          "3/hashtag/Hubei",
          "6/hashtag/ITAECO",
          "4/hashtag/IbrahimAli",
          "3/hashtag/Immigration",
          "3/hashtag/IndoUsFriendship",
          "3/hashtag/Irak",
          "3/hashtag/Iran",
          "3/hashtag/Israel",
          "0/hashtag/Italie",
          "3/hashtag/Italie",
          "8/hashtag/JeSuisBouboule",
          "2/hashtag/JesuisMilla",
          "4/hashtag/Justice",
          "3/hashtag/LFI",
          "3/hashtag/LR",
          "4/hashtag/LR",
          "3/hashtag/LREM",
          "4/hashtag/LREM",
          "6/hashtag/LREM",
          "4/hashtag/LeGrandJury",
          "4/hashtag/LeRacismeAntiFrancaisNePasseraPas",
          "3/hashtag/Lesincorrectibles",
          "3/hashtag/Lille",
          "4/hashtag/Lille",
          "3/hashtag/Live",
          "6/hashtag/LolaDewaere",
          "1/hashtag/Macron",
          "4/hashtag/Macron",
          "4/hashtag/Macronleaks",
          "4/hashtag/Mars2020",
          "7/hashtag/Mayotte",
          "6/hashtag/Meilleure",
          "7/hashtag/Messiah",
          "2/hashtag/Mila",
          "7/hashtag/Milano",
          "6/hashtag/MirageSeries",
          "7/hashtag/MissNationale",
          "3/hashtag/Montauban",
          "3/hashtag/Municipales",
          "4/hashtag/Municipales",
          "4/hashtag/Municipales2020",
          "3/hashtag/Ndiaye",
          "4/hashtag/Nombrilisme",
          "3/hashtag/PS",
          "3/hashtag/Pakistan",
          "7/hashtag/Pericard",
          "2/hashtag/PiotrPavlenski",
          "4/hashtag/PiotrPavlenski",
          "4/hashtag/Poitiers",
          "8/hashtag/PrayForBouboule",
          "6/hashtag/Prix",
          "3/hashtag/Présidentielle",
          "7/hashtag/Péricard",
          "4/hashtag/RN",
          "5/hashtag/RN",
          "4/hashtag/RN44",
          "4/hashtag/RNUN",
          "3/hashtag/Racisme",
          "7/hashtag/Racisme",
          "4/hashtag/RassemblementNational",
          "3/hashtag/Rennes",
          "0/hashtag/Retraites",
          "6/hashtag/Rituel",
          "3/hashtag/Rn86",
          "4/hashtag/Rn86",
          "4/hashtag/Rost",
          "6/hashtag/Rugby",
          "7/hashtag/SHTF",
          "4/hashtag/SOSRacisme",
          "7/hashtag/SaintGermainEnLaye",
          "4/hashtag/SaintNazaire",
          "3/hashtag/SalonAgriculture",
          "3/hashtag/Salvini",
          "6/hashtag/SaraMortensen",
          "3/hashtag/Sderot",
          "6/hashtag/Sondage",
          "4/hashtag/Sopo",
          "3/hashtag/Soros",
          "4/hashtag/Soros",
          "7/hashtag/Suède",
          "6/hashtag/Série",
          "4/hashtag/Tartuffe",
          "4/hashtag/Taubira",
          "0/hashtag/TeamPatriotes",
          "6/hashtag/TempsFort",
          "4/hashtag/TousAvecJeanMessiha",
          "4/hashtag/TousPourLesLillois",
          "4/hashtag/TousUnisContreLaHaine",
          "3/hashtag/Trump",
          "3/hashtag/TrumpIndiaVisit",
          "3/hashtag/Tunisie",
          "3/hashtag/Turquie",
          "6/hashtag/UneBelleHistoire",
          "4/hashtag/UnirlesNazairiens",
          "4/hashtag/VaulxEnVelin",
          "2/hashtag/VpourVivre",
          "6/keyword/abonnés",
          "6/keyword/absence",
          "0/keyword/accès",
          "9/keyword/accès",
          "4/hashtag/agriculteurs",
          "9/keyword/aie",
          "6/keyword/ami",
          "6/keyword/amie",
          "3/keyword/amp",
          "3/keyword/and",
          "4/keyword/animalisation",
          "6/hashtag/animation",
          "4/hashtag/antisémitisme",
          "3/keyword/are",
          "5/keyword/attentat",
          "8/keyword/autoroutes",
          "2/keyword/avaient",
          "5/keyword/aveugle",
          "2/keyword/avis",
          "0/keyword/bah",
          "7/keyword/banque",
          "7/keyword/bellatar",
          "7/keyword/berne",
          "10/keyword/besoin",
          "10/keyword/boom",
          "0/keyword/bout",
          "3/hashtag/budget",
          "8/keyword/bébé",
          "8/keyword/ca",
          "6/hashtag/carnaval",
          "1/keyword/carrières",
          "9/keyword/carto",
          "9/keyword/cartographie",
          "6/keyword/cartographique",
          "1/keyword/celles",
          "6/keyword/celà",
          "0/keyword/censure",
          "9/keyword/certaine",
          "4/keyword/chameau",
          "4/keyword/chameaux",
          "8/keyword/chance",
          "3/keyword/che",
          "6/keyword/cher",
          "8/keyword/chier",
          "0/keyword/chose",
          "7/hashtag/christianophobie",
          "6/keyword/chère",
          "8/keyword/clair",
          "1/keyword/co2",
          "4/hashtag/communautarisme",
          "7/keyword/communistes",
          "8/keyword/compliment",
          "0/keyword/comptes",
          "4/keyword/contenus",
          "2/keyword/contexte",
          "3/hashtag/coronavirus",
          "7/hashtag/coronavirus",
          "3/keyword/coronavirus",
          "7/keyword/coronavirus",
          "3/hashtag/coronavirusItalia",
          "3/hashtag/coronavirusitalla",
          "2/keyword/coup",
          "5/keyword/coup",
          "10/keyword/couscous",
          "5/keyword/crevé",
          "3/hashtag/criminel",
          "8/keyword/célibataire",
          "7/keyword/dernier",
          "6/keyword/derniers",
          "3/keyword/di",
          "3/hashtag/diamondprincess",
          "1/hashtag/dictature",
          "9/keyword/diffuser",
          "1/keyword/différences",
          "1/keyword/différente",
          "0/keyword/différents",
          "0/keyword/discord",
          "6/keyword/doute",
          "10/keyword/dromadaire",
          "6/keyword/dès",
          "10/keyword/débat",
          "3/hashtag/déconstruction",
          "9/keyword/démasqués",
          "9/keyword/déni",
          "0/keyword/effet",
          "4/hashtag/electionsMunicipales2020",
          "7/hashtag/electionsMunicipales2020",
          "2/keyword/elles",
          "8/keyword/enfant",
          "7/keyword/enfants",
          "10/keyword/envie",
          "8/keyword/es",
          "5/keyword/escalade",
          "2/hashtag/espritquiderive",
          "8/keyword/etes",
          "5/keyword/faite",
          "10/keyword/faites",
          "2/keyword/film",
          "9/keyword/fixé",
          "3/keyword/for",
          "9/keyword/forme",
          "2/keyword/foutre",
          "6/keyword/front",
          "5/keyword/gars",
          "10/keyword/gauchiasse",
          "8/keyword/gilets",
          "7/hashtag/gouvernement",
          "7/keyword/gouverner",
          "6/keyword/grave",
          "2/keyword/groupe",
          "5/keyword/groupuscule",
          "8/keyword/gérer",
          "4/keyword/haine",
          "4/keyword/haineux",
          "1/keyword/heures",
          "1/keyword/hommes",
          "2/keyword/hommes",
          "9/keyword/idéologique",
          "0/hashtag/immigration",
          "1/keyword/imposer",
          "3/keyword/in",
          "1/keyword/individuels",
          "0/keyword/info",
          "9/keyword/informé",
          "9/keyword/infos",
          "7/hashtag/injures",
          "4/keyword/insulte",
          "3/keyword/is",
          "5/keyword/islam",
          "5/keyword/islamisme",
          "3/keyword/it",
          "8/keyword/jalouses",
          "8/keyword/jaunes",
          "10/keyword/job",
          "7/keyword/juges",
          "5/keyword/kalash",
          "3/hashtag/koronavirus",
          "1/keyword/kwh",
          "7/hashtag/labos",
          "4/keyword/liste",
          "4/keyword/loi",
          "9/keyword/macronistes",
          "7/keyword/maire",
          "6/keyword/maréchal",
          "2/keyword/mec",
          "2/keyword/mecs",
          "6/keyword/michel",
          "7/keyword/millions",
          "1/keyword/moyen",
          "5/keyword/musique",
          "8/keyword/mères",
          "1/keyword/métiers",
          "6/keyword/nation",
          "5/keyword/nationalistes",
          "5/keyword/nazis",
          "5/keyword/neo",
          "2/keyword/ni",
          "7/keyword/ni",
          "3/hashtag/nonelarena",
          "3/keyword/of",
          "7/hashtag/olivierveran",
          "4/keyword/origine",
          "0/keyword/part",
          "10/keyword/partie",
          "10/keyword/pathétique",
          "0/keyword/patriotes",
          "8/keyword/paye",
          "3/keyword/per",
          "10/keyword/perdre",
          "1/keyword/personnel",
          "8/keyword/petit",
          "10/keyword/photo",
          "0/keyword/piaf",
          "9/keyword/planqués",
          "1/keyword/plutôt",
          "2/keyword/plutôt",
          "10/keyword/potelé",
          "0/keyword/pourtant",
          "1/keyword/preneur",
          "1/keyword/presqu",
          "0/keyword/privé",
          "4/keyword/propos",
          "2/keyword/propres",
          "5/keyword/présent",
          "4/keyword/président",
          "0/hashtag/racism",
          "4/keyword/racistes",
          "10/keyword/rage",
          "9/keyword/recherche",
          "4/keyword/responsable",
          "7/keyword/ressemble",
          "0/keyword/retweets",
          "4/keyword/rn",
          "10/keyword/rn",
          "9/keyword/rs",
          "7/keyword/réfugiés",
          "1/hashtag/référencedevieux",
          "5/keyword/réunir",
          "9/keyword/rêver",
          "6/keyword/sah",
          "7/keyword/saintgermainenlaye",
          "1/keyword/salaire",
          "1/keyword/salaires",
          "0/keyword/salon",
          "5/keyword/sauf",
          "8/keyword/savez",
          "6/hashtag/serie",
          "0/keyword/serveur",
          "8/keyword/seules",
          "6/keyword/soir",
          "7/hashtag/sopo",
          "3/keyword/soros",
          "4/keyword/sos",
          "4/keyword/soutien",
          "1/keyword/stats",
          "2/hashtag/stunningandbrave",
          "7/keyword/suisse",
          "4/keyword/svp",
          "6/keyword/série",
          "4/keyword/taubira",
          "2/keyword/team",
          "0/keyword/teampatriotes",
          "5/keyword/terrorisme",
          "3/keyword/that",
          "3/keyword/the",
          "3/keyword/this",
          "10/keyword/thème",
          "2/keyword/timide",
          "3/keyword/to",
          "2/keyword/toujours",
          "2/keyword/toute",
          "7/keyword/toute",
          "2/keyword/toutes",
          "4/keyword/tweet",
          "1/keyword/utilser",
          "5/keyword/violences",
          "2/hashtag/violencespolicières",
          "3/hashtag/virus",
          "7/keyword/voleurs",
          "10/keyword/vs",
          "0/keyword/vue",
          "6/keyword/wallah",
          "3/keyword/will",
          "3/keyword/with",
          "9/keyword/xd",
          "10/keyword/yacine",
          "7/keyword/yassine",
          "3/keyword/you",
          "2/keyword/énergie",
          "9/keyword/énorme",
          "10/keyword/étant",
          "0/hashtag",
          "1/hashtag",
          "2/hashtag",
          "3/hashtag",
          "4/hashtag",
          "5/hashtag",
          "6/hashtag",
          "7/hashtag",
          "8/hashtag",
          "9/hashtag",
          "0/keyword",
          "1/keyword",
          "2/keyword",
          "3/keyword",
          "4/keyword",
          "5/keyword",
          "6/keyword",
          "7/keyword",
          "8/keyword",
          "9/keyword",
          "10/keyword",
          "0",
          "1",
          "2",
          "3",
          "4",
          "5",
          "6",
          "7",
          "8",
          "9",
          "10"
         ],
         "labels": [
          "10kg",
          "13Novembre",
          "27jours",
          "6Nations",
          "Abattage",
          "Afghanistan",
          "AlpesMaritimes",
          "Ashkelon",
          "AstridEtRaphaelle",
          "Avia",
          "Baltimore",
          "Banque",
          "Belattar",
          "Belattar",
          "BellatarYassine",
          "BenoitMichel",
          "Beziers",
          "Bilderberg",
          "Bitagri",
          "Bobigny",
          "Brisbane",
          "CDC",
          "CEDH",
          "COVID19",
          "COVID19",
          "COVID19italia",
          "Chine",
          "Chinois",
          "Corona",
          "CoronaVirusItalia",
          "Coronavirus",
          "Coronavirus",
          "CoronavirusItalia",
          "Culottées",
          "DGSE",
          "Damas",
          "DemocRat",
          "DroitePopulaire",
          "EnMarche",
          "Europe",
          "Everest",
          "FFTV2019",
          "FakeNews",
          "FakeNews",
          "FauxCul",
          "Fessenheim",
          "Francfort",
          "GALFRA",
          "GPA",
          "Gaza",
          "Google",
          "Grenoble",
          "Griveaux",
          "GriveauxGate",
          "Guillotière",
          "Hanau",
          "Havre",
          "Hubei",
          "ITAECO",
          "IbrahimAli",
          "Immigration",
          "IndoUsFriendship",
          "Irak",
          "Iran",
          "Israel",
          "Italie",
          "Italie",
          "JeSuisBouboule",
          "JesuisMilla",
          "Justice",
          "LFI",
          "LR",
          "LR",
          "LREM",
          "LREM",
          "LREM",
          "LeGrandJury",
          "LeRacismeAntiFrancaisNePasseraPas",
          "Lesincorrectibles",
          "Lille",
          "Lille",
          "Live",
          "LolaDewaere",
          "Macron",
          "Macron",
          "Macronleaks",
          "Mars2020",
          "Mayotte",
          "Meilleure",
          "Messiah",
          "Mila",
          "Milano",
          "MirageSeries",
          "MissNationale",
          "Montauban",
          "Municipales",
          "Municipales",
          "Municipales2020",
          "Ndiaye",
          "Nombrilisme",
          "PS",
          "Pakistan",
          "Pericard",
          "PiotrPavlenski",
          "PiotrPavlenski",
          "Poitiers",
          "PrayForBouboule",
          "Prix",
          "Présidentielle",
          "Péricard",
          "RN",
          "RN",
          "RN44",
          "RNUN",
          "Racisme",
          "Racisme",
          "RassemblementNational",
          "Rennes",
          "Retraites",
          "Rituel",
          "Rn86",
          "Rn86",
          "Rost",
          "Rugby",
          "SHTF",
          "SOSRacisme",
          "SaintGermainEnLaye",
          "SaintNazaire",
          "SalonAgriculture",
          "Salvini",
          "SaraMortensen",
          "Sderot",
          "Sondage",
          "Sopo",
          "Soros",
          "Soros",
          "Suède",
          "Série",
          "Tartuffe",
          "Taubira",
          "TeamPatriotes",
          "TempsFort",
          "TousAvecJeanMessiha",
          "TousPourLesLillois",
          "TousUnisContreLaHaine",
          "Trump",
          "TrumpIndiaVisit",
          "Tunisie",
          "Turquie",
          "UneBelleHistoire",
          "UnirlesNazairiens",
          "VaulxEnVelin",
          "VpourVivre",
          "abonnés",
          "absence",
          "accès",
          "accès",
          "agriculteurs",
          "aie",
          "ami",
          "amie",
          "amp",
          "and",
          "animalisation",
          "animation",
          "antisémitisme",
          "are",
          "attentat",
          "autoroutes",
          "avaient",
          "aveugle",
          "avis",
          "bah",
          "banque",
          "bellatar",
          "berne",
          "besoin",
          "boom",
          "bout",
          "budget",
          "bébé",
          "ca",
          "carnaval",
          "carrières",
          "carto",
          "cartographie",
          "cartographique",
          "celles",
          "celà",
          "censure",
          "certaine",
          "chameau",
          "chameaux",
          "chance",
          "che",
          "cher",
          "chier",
          "chose",
          "christianophobie",
          "chère",
          "clair",
          "co2",
          "communautarisme",
          "communistes",
          "compliment",
          "comptes",
          "contenus",
          "contexte",
          "coronavirus",
          "coronavirus",
          "coronavirus",
          "coronavirus",
          "coronavirusItalia",
          "coronavirusitalla",
          "coup",
          "coup",
          "couscous",
          "crevé",
          "criminel",
          "célibataire",
          "dernier",
          "derniers",
          "di",
          "diamondprincess",
          "dictature",
          "diffuser",
          "différences",
          "différente",
          "différents",
          "discord",
          "doute",
          "dromadaire",
          "dès",
          "débat",
          "déconstruction",
          "démasqués",
          "déni",
          "effet",
          "electionsMunicipales2020",
          "electionsMunicipales2020",
          "elles",
          "enfant",
          "enfants",
          "envie",
          "es",
          "escalade",
          "espritquiderive",
          "etes",
          "faite",
          "faites",
          "film",
          "fixé",
          "for",
          "forme",
          "foutre",
          "front",
          "gars",
          "gauchiasse",
          "gilets",
          "gouvernement",
          "gouverner",
          "grave",
          "groupe",
          "groupuscule",
          "gérer",
          "haine",
          "haineux",
          "heures",
          "hommes",
          "hommes",
          "idéologique",
          "immigration",
          "imposer",
          "in",
          "individuels",
          "info",
          "informé",
          "infos",
          "injures",
          "insulte",
          "is",
          "islam",
          "islamisme",
          "it",
          "jalouses",
          "jaunes",
          "job",
          "juges",
          "kalash",
          "koronavirus",
          "kwh",
          "labos",
          "liste",
          "loi",
          "macronistes",
          "maire",
          "maréchal",
          "mec",
          "mecs",
          "michel",
          "millions",
          "moyen",
          "musique",
          "mères",
          "métiers",
          "nation",
          "nationalistes",
          "nazis",
          "neo",
          "ni",
          "ni",
          "nonelarena",
          "of",
          "olivierveran",
          "origine",
          "part",
          "partie",
          "pathétique",
          "patriotes",
          "paye",
          "per",
          "perdre",
          "personnel",
          "petit",
          "photo",
          "piaf",
          "planqués",
          "plutôt",
          "plutôt",
          "potelé",
          "pourtant",
          "preneur",
          "presqu",
          "privé",
          "propos",
          "propres",
          "présent",
          "président",
          "racism",
          "racistes",
          "rage",
          "recherche",
          "responsable",
          "ressemble",
          "retweets",
          "rn",
          "rn",
          "rs",
          "réfugiés",
          "référencedevieux",
          "réunir",
          "rêver",
          "sah",
          "saintgermainenlaye",
          "salaire",
          "salaires",
          "salon",
          "sauf",
          "savez",
          "serie",
          "serveur",
          "seules",
          "soir",
          "sopo",
          "soros",
          "sos",
          "soutien",
          "stats",
          "stunningandbrave",
          "suisse",
          "svp",
          "série",
          "taubira",
          "team",
          "teampatriotes",
          "terrorisme",
          "that",
          "the",
          "this",
          "thème",
          "timide",
          "to",
          "toujours",
          "toute",
          "toute",
          "toutes",
          "tweet",
          "utilser",
          "violences",
          "violencespolicières",
          "virus",
          "voleurs",
          "vs",
          "vue",
          "wallah",
          "will",
          "with",
          "xd",
          "yacine",
          "yassine",
          "you",
          "énergie",
          "énorme",
          "étant",
          "hashtag",
          "hashtag",
          "hashtag",
          "hashtag",
          "hashtag",
          "hashtag",
          "hashtag",
          "hashtag",
          "hashtag",
          "hashtag",
          "keyword",
          "keyword",
          "keyword",
          "keyword",
          "keyword",
          "keyword",
          "keyword",
          "keyword",
          "keyword",
          "keyword",
          "keyword",
          "0",
          "1",
          "2",
          "3",
          "4",
          "5",
          "6",
          "7",
          "8",
          "9",
          "10"
         ],
         "level": "4/hashtag",
         "maxdepth": 2,
         "name": "",
         "parents": [
          "7/keyword",
          "1/hashtag",
          "3/hashtag",
          "6/hashtag",
          "6/hashtag",
          "3/hashtag",
          "4/hashtag",
          "3/hashtag",
          "6/hashtag",
          "4/hashtag",
          "3/hashtag",
          "3/hashtag",
          "4/hashtag",
          "7/hashtag",
          "7/hashtag",
          "6/hashtag",
          "1/hashtag",
          "4/hashtag",
          "2/hashtag",
          "6/hashtag",
          "7/hashtag",
          "3/hashtag",
          "3/hashtag",
          "3/hashtag",
          "7/hashtag",
          "7/hashtag",
          "3/hashtag",
          "3/hashtag",
          "3/hashtag",
          "3/hashtag",
          "3/hashtag",
          "7/hashtag",
          "3/hashtag",
          "6/hashtag",
          "3/hashtag",
          "3/hashtag",
          "3/hashtag",
          "4/hashtag",
          "7/hashtag",
          "7/hashtag",
          "6/hashtag",
          "6/hashtag",
          "1/hashtag",
          "4/hashtag",
          "4/hashtag",
          "6/hashtag",
          "4/hashtag",
          "6/hashtag",
          "7/hashtag",
          "3/hashtag",
          "7/hashtag",
          "4/hashtag",
          "4/hashtag",
          "4/hashtag",
          "9/hashtag",
          "4/hashtag",
          "4/hashtag",
          "3/hashtag",
          "6/hashtag",
          "4/hashtag",
          "3/hashtag",
          "3/hashtag",
          "3/hashtag",
          "3/hashtag",
          "3/hashtag",
          "0/hashtag",
          "3/hashtag",
          "8/hashtag",
          "2/hashtag",
          "4/hashtag",
          "3/hashtag",
          "3/hashtag",
          "4/hashtag",
          "3/hashtag",
          "4/hashtag",
          "6/hashtag",
          "4/hashtag",
          "4/hashtag",
          "3/hashtag",
          "3/hashtag",
          "4/hashtag",
          "3/hashtag",
          "6/hashtag",
          "1/hashtag",
          "4/hashtag",
          "4/hashtag",
          "4/hashtag",
          "7/hashtag",
          "6/hashtag",
          "7/hashtag",
          "2/hashtag",
          "7/hashtag",
          "6/hashtag",
          "7/hashtag",
          "3/hashtag",
          "3/hashtag",
          "4/hashtag",
          "4/hashtag",
          "3/hashtag",
          "4/hashtag",
          "3/hashtag",
          "3/hashtag",
          "7/hashtag",
          "2/hashtag",
          "4/hashtag",
          "4/hashtag",
          "8/hashtag",
          "6/hashtag",
          "3/hashtag",
          "7/hashtag",
          "4/hashtag",
          "5/hashtag",
          "4/hashtag",
          "4/hashtag",
          "3/hashtag",
          "7/hashtag",
          "4/hashtag",
          "3/hashtag",
          "0/hashtag",
          "6/hashtag",
          "3/hashtag",
          "4/hashtag",
          "4/hashtag",
          "6/hashtag",
          "7/hashtag",
          "4/hashtag",
          "7/hashtag",
          "4/hashtag",
          "3/hashtag",
          "3/hashtag",
          "6/hashtag",
          "3/hashtag",
          "6/hashtag",
          "4/hashtag",
          "3/hashtag",
          "4/hashtag",
          "7/hashtag",
          "6/hashtag",
          "4/hashtag",
          "4/hashtag",
          "0/hashtag",
          "6/hashtag",
          "4/hashtag",
          "4/hashtag",
          "4/hashtag",
          "3/hashtag",
          "3/hashtag",
          "3/hashtag",
          "3/hashtag",
          "6/hashtag",
          "4/hashtag",
          "4/hashtag",
          "2/hashtag",
          "6/keyword",
          "6/keyword",
          "0/keyword",
          "9/keyword",
          "4/hashtag",
          "9/keyword",
          "6/keyword",
          "6/keyword",
          "3/keyword",
          "3/keyword",
          "4/keyword",
          "6/hashtag",
          "4/hashtag",
          "3/keyword",
          "5/keyword",
          "8/keyword",
          "2/keyword",
          "5/keyword",
          "2/keyword",
          "0/keyword",
          "7/keyword",
          "7/keyword",
          "7/keyword",
          "10/keyword",
          "10/keyword",
          "0/keyword",
          "3/hashtag",
          "8/keyword",
          "8/keyword",
          "6/hashtag",
          "1/keyword",
          "9/keyword",
          "9/keyword",
          "6/keyword",
          "1/keyword",
          "6/keyword",
          "0/keyword",
          "9/keyword",
          "4/keyword",
          "4/keyword",
          "8/keyword",
          "3/keyword",
          "6/keyword",
          "8/keyword",
          "0/keyword",
          "7/hashtag",
          "6/keyword",
          "8/keyword",
          "1/keyword",
          "4/hashtag",
          "7/keyword",
          "8/keyword",
          "0/keyword",
          "4/keyword",
          "2/keyword",
          "3/hashtag",
          "7/hashtag",
          "3/keyword",
          "7/keyword",
          "3/hashtag",
          "3/hashtag",
          "2/keyword",
          "5/keyword",
          "10/keyword",
          "5/keyword",
          "3/hashtag",
          "8/keyword",
          "7/keyword",
          "6/keyword",
          "3/keyword",
          "3/hashtag",
          "1/hashtag",
          "9/keyword",
          "1/keyword",
          "1/keyword",
          "0/keyword",
          "0/keyword",
          "6/keyword",
          "10/keyword",
          "6/keyword",
          "10/keyword",
          "3/hashtag",
          "9/keyword",
          "9/keyword",
          "0/keyword",
          "4/hashtag",
          "7/hashtag",
          "2/keyword",
          "8/keyword",
          "7/keyword",
          "10/keyword",
          "8/keyword",
          "5/keyword",
          "2/hashtag",
          "8/keyword",
          "5/keyword",
          "10/keyword",
          "2/keyword",
          "9/keyword",
          "3/keyword",
          "9/keyword",
          "2/keyword",
          "6/keyword",
          "5/keyword",
          "10/keyword",
          "8/keyword",
          "7/hashtag",
          "7/keyword",
          "6/keyword",
          "2/keyword",
          "5/keyword",
          "8/keyword",
          "4/keyword",
          "4/keyword",
          "1/keyword",
          "1/keyword",
          "2/keyword",
          "9/keyword",
          "0/hashtag",
          "1/keyword",
          "3/keyword",
          "1/keyword",
          "0/keyword",
          "9/keyword",
          "9/keyword",
          "7/hashtag",
          "4/keyword",
          "3/keyword",
          "5/keyword",
          "5/keyword",
          "3/keyword",
          "8/keyword",
          "8/keyword",
          "10/keyword",
          "7/keyword",
          "5/keyword",
          "3/hashtag",
          "1/keyword",
          "7/hashtag",
          "4/keyword",
          "4/keyword",
          "9/keyword",
          "7/keyword",
          "6/keyword",
          "2/keyword",
          "2/keyword",
          "6/keyword",
          "7/keyword",
          "1/keyword",
          "5/keyword",
          "8/keyword",
          "1/keyword",
          "6/keyword",
          "5/keyword",
          "5/keyword",
          "5/keyword",
          "2/keyword",
          "7/keyword",
          "3/hashtag",
          "3/keyword",
          "7/hashtag",
          "4/keyword",
          "0/keyword",
          "10/keyword",
          "10/keyword",
          "0/keyword",
          "8/keyword",
          "3/keyword",
          "10/keyword",
          "1/keyword",
          "8/keyword",
          "10/keyword",
          "0/keyword",
          "9/keyword",
          "1/keyword",
          "2/keyword",
          "10/keyword",
          "0/keyword",
          "1/keyword",
          "1/keyword",
          "0/keyword",
          "4/keyword",
          "2/keyword",
          "5/keyword",
          "4/keyword",
          "0/hashtag",
          "4/keyword",
          "10/keyword",
          "9/keyword",
          "4/keyword",
          "7/keyword",
          "0/keyword",
          "4/keyword",
          "10/keyword",
          "9/keyword",
          "7/keyword",
          "1/hashtag",
          "5/keyword",
          "9/keyword",
          "6/keyword",
          "7/keyword",
          "1/keyword",
          "1/keyword",
          "0/keyword",
          "5/keyword",
          "8/keyword",
          "6/hashtag",
          "0/keyword",
          "8/keyword",
          "6/keyword",
          "7/hashtag",
          "3/keyword",
          "4/keyword",
          "4/keyword",
          "1/keyword",
          "2/hashtag",
          "7/keyword",
          "4/keyword",
          "6/keyword",
          "4/keyword",
          "2/keyword",
          "0/keyword",
          "5/keyword",
          "3/keyword",
          "3/keyword",
          "3/keyword",
          "10/keyword",
          "2/keyword",
          "3/keyword",
          "2/keyword",
          "2/keyword",
          "7/keyword",
          "2/keyword",
          "4/keyword",
          "1/keyword",
          "5/keyword",
          "2/hashtag",
          "3/hashtag",
          "7/keyword",
          "10/keyword",
          "0/keyword",
          "6/keyword",
          "3/keyword",
          "3/keyword",
          "9/keyword",
          "10/keyword",
          "7/keyword",
          "3/keyword",
          "2/keyword",
          "9/keyword",
          "10/keyword",
          "0",
          "1",
          "2",
          "3",
          "4",
          "5",
          "6",
          "7",
          "8",
          "9",
          "0",
          "1",
          "2",
          "3",
          "4",
          "5",
          "6",
          "7",
          "8",
          "9",
          "10",
          "",
          "",
          "",
          "",
          "",
          "",
          "",
          "",
          "",
          "",
          ""
         ],
         "type": "sunburst",
         "values": [
          0.09701559099136688,
          1,
          1,
          2,
          1,
          2,
          1,
          2,
          1,
          2,
          1,
          1,
          5,
          1,
          1,
          1,
          1,
          1,
          1,
          1,
          1,
          2,
          2,
          1,
          1,
          1,
          1,
          1,
          1,
          1,
          1,
          1,
          2,
          1,
          1,
          1,
          1,
          1,
          1,
          1,
          1,
          1,
          1,
          1,
          3,
          2,
          1,
          2,
          2,
          3,
          1,
          1,
          3,
          1,
          1,
          1,
          1,
          1,
          2,
          1,
          1,
          1,
          2,
          3,
          4,
          1,
          2,
          1,
          1,
          1,
          2,
          1,
          3,
          2,
          1,
          1,
          1,
          3,
          1,
          1,
          10,
          1,
          1,
          1,
          2,
          1,
          1,
          1,
          1,
          1,
          2,
          1,
          1,
          2,
          1,
          1,
          1,
          9,
          1,
          1,
          2,
          2,
          2,
          1,
          1,
          1,
          1,
          1,
          1,
          1,
          16,
          1,
          1,
          1,
          1,
          1,
          1,
          1,
          1,
          1,
          1,
          1,
          4,
          1,
          1,
          1,
          2,
          9,
          1,
          9,
          1,
          2,
          1,
          2,
          1,
          1,
          1,
          1,
          3,
          3,
          3,
          2,
          2,
          2,
          2,
          2,
          1,
          1,
          2,
          1,
          1,
          1,
          1,
          0.1516536954111439,
          0.07582684770557196,
          0.1870765942163172,
          0.1049075640991161,
          1,
          0.1395573098703389,
          0.218440582144762,
          0.08101753620600056,
          0.09988615744380021,
          0.1689437143591235,
          0.1050579182066432,
          1,
          1,
          0.1067238138212449,
          0.09552038269713319,
          0.1163267235017848,
          0.0713022608588896,
          0.1215374834366918,
          0.089127826073612,
          0.1393207572760761,
          0.1160955534978079,
          0.09951047442669249,
          0.09701559099136688,
          0.0829110114279748,
          0.2050627410732021,
          0.1006214788558013,
          1,
          0.09943184840942533,
          0.2623342312962716,
          1,
          0.1601419426459999,
          0.2791146197406777,
          0.2093359648055083,
          0.07582684770557196,
          0.1048841011490383,
          0.07582684770557196,
          0.1244329064959874,
          0.1049075640991161,
          0.1820444571836988,
          0.1050579182066432,
          0.09406649156408585,
          0.1123719271242752,
          0.2546975910557546,
          0.09943184840942533,
          0.1006214788558013,
          1,
          0.1282506968668864,
          0.09943184840942533,
          0.1561269333486349,
          2,
          0.09701559099136688,
          0.1163267235017848,
          0.1247177294775448,
          0.09004964417712276,
          0.0729903315897545,
          9,
          4,
          0.08329610971538624,
          0.1059084842739181,
          1,
          1,
          0.1454493706790018,
          0.1437241291812051,
          0.1367084940488014,
          0.09479227871152682,
          1,
          0.09943184840942533,
          0.08292539535557708,
          0.07582684770557196,
          0.1498292361657003,
          2,
          1,
          0.3147226922973482,
          0.09367616000918097,
          0.1601419426459999,
          0.08295527099732491,
          0.2488658129919747,
          0.09722104344720069,
          0.1752801658210465,
          0.1137402715583579,
          0.1377585584710956,
          1,
          0.1046679824027542,
          0.1311344551238951,
          0.1114566058208609,
          1,
          1,
          0.2023643418142633,
          0.09943184840942533,
          0.07820861787517755,
          0.09183903898073043,
          0.09406649156408585,
          0.1421884180672902,
          1,
          0.1163267235017848,
          0.09479227871152682,
          0.1377585584710956,
          0.1604300869325016,
          0.1046679824027542,
          0.1032433809972421,
          0.1192885079346521,
          0.0713022608588896,
          0.1137402715583579,
          0.1425138828524286,
          0.2050627410732021,
          0.1325757978792338,
          1,
          0.07761247279309351,
          0.07640927731672635,
          0.1011821709071317,
          0.1895845574230536,
          0.1325757978792338,
          0.1764414550929451,
          0.1125620552214034,
          0.2112538089875624,
          0.1893758254766881,
          0.07588662818034875,
          0.1049075640991161,
          1,
          0.1067612950973333,
          0.3472731906270871,
          0.09367616000918097,
          0.155897161846931,
          0.1192885079346521,
          0.2385770158693042,
          1,
          0.08979968388065604,
          0.1425922993172901,
          0.09552038269713319,
          0.1068854121393215,
          0.0838778231278177,
          0.1163267235017848,
          0.1325757978792338,
          0.1027660615960785,
          0.08292539535557708,
          0.09479227871152682,
          2,
          0.124901546678908,
          1,
          0.0846147796503019,
          0.1183288971694042,
          0.328134931091292,
          0.1042781571669034,
          0.09478355963196494,
          0.07054463971298085,
          0.1146990924981856,
          0.1782385796532013,
          0.08751389094555986,
          0.1408358726583749,
          0.1215374834366918,
          0.1163267235017848,
          0.1601419426459999,
          0.07582684770557196,
          0.1421884180672902,
          0.1620499779155891,
          0.09479227871152682,
          0.07705340110933388,
          0.1042781571669034,
          1,
          0.1830223572223837,
          1,
          0.1137777857398117,
          0.1006214788558013,
          0.1243665171419622,
          0.2050627410732021,
          0.1063607185296798,
          0.09943184840942533,
          0.1248576968047503,
          0.1168534438806977,
          0.09367616000918097,
          0.09406649156408585,
          0.09183903898073043,
          0.1244329064959874,
          0.1789327619019781,
          0.09389058177224995,
          0.07838293301442317,
          0.2050627410732021,
          0.08359245436564565,
          0.09367616000918097,
          0.09367616000918097,
          0.1659105419946498,
          0.1109060574869941,
          0.0729903315897545,
          0.1215374834366918,
          0.1319822314581816,
          1,
          0.1956977914724762,
          0.2050627410732021,
          0.1192885079346521,
          0.08979968388065604,
          0.1160955534978079,
          0.1244329064959874,
          0.1729422343245139,
          0.1243665171419622,
          0.1395573098703389,
          0.07761247279309351,
          1,
          0.1421884180672902,
          0.1395573098703389,
          0.1326969834847509,
          0.09701559099136688,
          0.4003548566149997,
          0.09367616000918097,
          0.1247177294775448,
          0.1273605102628443,
          0.1325757978792338,
          1,
          0.1659105419946498,
          0.09943184840942533,
          0.09975054200757827,
          1,
          0.08004286036593371,
          0.1008236886245401,
          0.1575868773099648,
          0.1873523200183619,
          1,
          0.1160955534978079,
          0.1026282101493212,
          0.08101753620600056,
          0.1125620552214034,
          0.089127826073612,
          0.1244329064959874,
          0.1781423535655358,
          0.08537905105699596,
          0.3942257687007432,
          0.1547495300408052,
          0.1752801658210465,
          0.0729903315897545,
          0.2158725239033244,
          0.07705340110933388,
          0.07588662818034875,
          0.08237326554638075,
          0.07588662818034875,
          0.2470180371301232,
          0.09367616000918097,
          0.09479227871152682,
          1,
          1,
          0.07761247279309351,
          0.1541490923941178,
          0.1418142913729063,
          0.1425007742965404,
          0.1067238138212449,
          0.1387409579676184,
          0.1744466373379236,
          0.2050627410732021,
          0.1492657116400387,
          0.1267077857693426,
          0.0834175218168623,
          0.1395573098703389,
          0.0829110114279748,
          7,
          6,
          9,
          97,
          115,
          1,
          31,
          35,
          2,
          1,
          2.63819227291346,
          2.8518960898044172,
          1.8780680127693306,
          3.00835999835211,
          2.5996814615868047,
          2.506440686803824,
          2.3432931793730876,
          1.9463739925909,
          2.3524934538803657,
          3.294552498556097,
          2.9651641220445275,
          9.63819227291346,
          8.851896089804416,
          10.87806801276933,
          100.0083599983521,
          117.59968146158681,
          3.506440686803824,
          33.34329317937309,
          36.9463739925909,
          4.352493453880365,
          4.294552498556097,
          2.9651641220445275
         ]
        }
       ],
       "layout": {
        "autosize": true,
        "legend": {
         "tracegroupgap": 0
        },
        "margin": {
         "t": 60
        },
        "template": {
         "data": {
          "bar": [
           {
            "error_x": {
             "color": "#2a3f5f"
            },
            "error_y": {
             "color": "#2a3f5f"
            },
            "marker": {
             "line": {
              "color": "#E5ECF6",
              "width": 0.5
             }
            },
            "type": "bar"
           }
          ],
          "barpolar": [
           {
            "marker": {
             "line": {
              "color": "#E5ECF6",
              "width": 0.5
             }
            },
            "type": "barpolar"
           }
          ],
          "carpet": [
           {
            "aaxis": {
             "endlinecolor": "#2a3f5f",
             "gridcolor": "white",
             "linecolor": "white",
             "minorgridcolor": "white",
             "startlinecolor": "#2a3f5f"
            },
            "baxis": {
             "endlinecolor": "#2a3f5f",
             "gridcolor": "white",
             "linecolor": "white",
             "minorgridcolor": "white",
             "startlinecolor": "#2a3f5f"
            },
            "type": "carpet"
           }
          ],
          "choropleth": [
           {
            "colorbar": {
             "outlinewidth": 0,
             "ticks": ""
            },
            "type": "choropleth"
           }
          ],
          "contour": [
           {
            "colorbar": {
             "outlinewidth": 0,
             "ticks": ""
            },
            "colorscale": [
             [
              0,
              "#0d0887"
             ],
             [
              0.1111111111111111,
              "#46039f"
             ],
             [
              0.2222222222222222,
              "#7201a8"
             ],
             [
              0.3333333333333333,
              "#9c179e"
             ],
             [
              0.4444444444444444,
              "#bd3786"
             ],
             [
              0.5555555555555556,
              "#d8576b"
             ],
             [
              0.6666666666666666,
              "#ed7953"
             ],
             [
              0.7777777777777778,
              "#fb9f3a"
             ],
             [
              0.8888888888888888,
              "#fdca26"
             ],
             [
              1,
              "#f0f921"
             ]
            ],
            "type": "contour"
           }
          ],
          "contourcarpet": [
           {
            "colorbar": {
             "outlinewidth": 0,
             "ticks": ""
            },
            "type": "contourcarpet"
           }
          ],
          "heatmap": [
           {
            "colorbar": {
             "outlinewidth": 0,
             "ticks": ""
            },
            "colorscale": [
             [
              0,
              "#0d0887"
             ],
             [
              0.1111111111111111,
              "#46039f"
             ],
             [
              0.2222222222222222,
              "#7201a8"
             ],
             [
              0.3333333333333333,
              "#9c179e"
             ],
             [
              0.4444444444444444,
              "#bd3786"
             ],
             [
              0.5555555555555556,
              "#d8576b"
             ],
             [
              0.6666666666666666,
              "#ed7953"
             ],
             [
              0.7777777777777778,
              "#fb9f3a"
             ],
             [
              0.8888888888888888,
              "#fdca26"
             ],
             [
              1,
              "#f0f921"
             ]
            ],
            "type": "heatmap"
           }
          ],
          "heatmapgl": [
           {
            "colorbar": {
             "outlinewidth": 0,
             "ticks": ""
            },
            "colorscale": [
             [
              0,
              "#0d0887"
             ],
             [
              0.1111111111111111,
              "#46039f"
             ],
             [
              0.2222222222222222,
              "#7201a8"
             ],
             [
              0.3333333333333333,
              "#9c179e"
             ],
             [
              0.4444444444444444,
              "#bd3786"
             ],
             [
              0.5555555555555556,
              "#d8576b"
             ],
             [
              0.6666666666666666,
              "#ed7953"
             ],
             [
              0.7777777777777778,
              "#fb9f3a"
             ],
             [
              0.8888888888888888,
              "#fdca26"
             ],
             [
              1,
              "#f0f921"
             ]
            ],
            "type": "heatmapgl"
           }
          ],
          "histogram": [
           {
            "marker": {
             "colorbar": {
              "outlinewidth": 0,
              "ticks": ""
             }
            },
            "type": "histogram"
           }
          ],
          "histogram2d": [
           {
            "colorbar": {
             "outlinewidth": 0,
             "ticks": ""
            },
            "colorscale": [
             [
              0,
              "#0d0887"
             ],
             [
              0.1111111111111111,
              "#46039f"
             ],
             [
              0.2222222222222222,
              "#7201a8"
             ],
             [
              0.3333333333333333,
              "#9c179e"
             ],
             [
              0.4444444444444444,
              "#bd3786"
             ],
             [
              0.5555555555555556,
              "#d8576b"
             ],
             [
              0.6666666666666666,
              "#ed7953"
             ],
             [
              0.7777777777777778,
              "#fb9f3a"
             ],
             [
              0.8888888888888888,
              "#fdca26"
             ],
             [
              1,
              "#f0f921"
             ]
            ],
            "type": "histogram2d"
           }
          ],
          "histogram2dcontour": [
           {
            "colorbar": {
             "outlinewidth": 0,
             "ticks": ""
            },
            "colorscale": [
             [
              0,
              "#0d0887"
             ],
             [
              0.1111111111111111,
              "#46039f"
             ],
             [
              0.2222222222222222,
              "#7201a8"
             ],
             [
              0.3333333333333333,
              "#9c179e"
             ],
             [
              0.4444444444444444,
              "#bd3786"
             ],
             [
              0.5555555555555556,
              "#d8576b"
             ],
             [
              0.6666666666666666,
              "#ed7953"
             ],
             [
              0.7777777777777778,
              "#fb9f3a"
             ],
             [
              0.8888888888888888,
              "#fdca26"
             ],
             [
              1,
              "#f0f921"
             ]
            ],
            "type": "histogram2dcontour"
           }
          ],
          "mesh3d": [
           {
            "colorbar": {
             "outlinewidth": 0,
             "ticks": ""
            },
            "type": "mesh3d"
           }
          ],
          "parcoords": [
           {
            "line": {
             "colorbar": {
              "outlinewidth": 0,
              "ticks": ""
             }
            },
            "type": "parcoords"
           }
          ],
          "pie": [
           {
            "automargin": true,
            "type": "pie"
           }
          ],
          "scatter": [
           {
            "marker": {
             "colorbar": {
              "outlinewidth": 0,
              "ticks": ""
             }
            },
            "type": "scatter"
           }
          ],
          "scatter3d": [
           {
            "line": {
             "colorbar": {
              "outlinewidth": 0,
              "ticks": ""
             }
            },
            "marker": {
             "colorbar": {
              "outlinewidth": 0,
              "ticks": ""
             }
            },
            "type": "scatter3d"
           }
          ],
          "scattercarpet": [
           {
            "marker": {
             "colorbar": {
              "outlinewidth": 0,
              "ticks": ""
             }
            },
            "type": "scattercarpet"
           }
          ],
          "scattergeo": [
           {
            "marker": {
             "colorbar": {
              "outlinewidth": 0,
              "ticks": ""
             }
            },
            "type": "scattergeo"
           }
          ],
          "scattergl": [
           {
            "marker": {
             "colorbar": {
              "outlinewidth": 0,
              "ticks": ""
             }
            },
            "type": "scattergl"
           }
          ],
          "scattermapbox": [
           {
            "marker": {
             "colorbar": {
              "outlinewidth": 0,
              "ticks": ""
             }
            },
            "type": "scattermapbox"
           }
          ],
          "scatterpolar": [
           {
            "marker": {
             "colorbar": {
              "outlinewidth": 0,
              "ticks": ""
             }
            },
            "type": "scatterpolar"
           }
          ],
          "scatterpolargl": [
           {
            "marker": {
             "colorbar": {
              "outlinewidth": 0,
              "ticks": ""
             }
            },
            "type": "scatterpolargl"
           }
          ],
          "scatterternary": [
           {
            "marker": {
             "colorbar": {
              "outlinewidth": 0,
              "ticks": ""
             }
            },
            "type": "scatterternary"
           }
          ],
          "surface": [
           {
            "colorbar": {
             "outlinewidth": 0,
             "ticks": ""
            },
            "colorscale": [
             [
              0,
              "#0d0887"
             ],
             [
              0.1111111111111111,
              "#46039f"
             ],
             [
              0.2222222222222222,
              "#7201a8"
             ],
             [
              0.3333333333333333,
              "#9c179e"
             ],
             [
              0.4444444444444444,
              "#bd3786"
             ],
             [
              0.5555555555555556,
              "#d8576b"
             ],
             [
              0.6666666666666666,
              "#ed7953"
             ],
             [
              0.7777777777777778,
              "#fb9f3a"
             ],
             [
              0.8888888888888888,
              "#fdca26"
             ],
             [
              1,
              "#f0f921"
             ]
            ],
            "type": "surface"
           }
          ],
          "table": [
           {
            "cells": {
             "fill": {
              "color": "#EBF0F8"
             },
             "line": {
              "color": "white"
             }
            },
            "header": {
             "fill": {
              "color": "#C8D4E3"
             },
             "line": {
              "color": "white"
             }
            },
            "type": "table"
           }
          ]
         },
         "layout": {
          "annotationdefaults": {
           "arrowcolor": "#2a3f5f",
           "arrowhead": 0,
           "arrowwidth": 1
          },
          "coloraxis": {
           "colorbar": {
            "outlinewidth": 0,
            "ticks": ""
           }
          },
          "colorscale": {
           "diverging": [
            [
             0,
             "#8e0152"
            ],
            [
             0.1,
             "#c51b7d"
            ],
            [
             0.2,
             "#de77ae"
            ],
            [
             0.3,
             "#f1b6da"
            ],
            [
             0.4,
             "#fde0ef"
            ],
            [
             0.5,
             "#f7f7f7"
            ],
            [
             0.6,
             "#e6f5d0"
            ],
            [
             0.7,
             "#b8e186"
            ],
            [
             0.8,
             "#7fbc41"
            ],
            [
             0.9,
             "#4d9221"
            ],
            [
             1,
             "#276419"
            ]
           ],
           "sequential": [
            [
             0,
             "#0d0887"
            ],
            [
             0.1111111111111111,
             "#46039f"
            ],
            [
             0.2222222222222222,
             "#7201a8"
            ],
            [
             0.3333333333333333,
             "#9c179e"
            ],
            [
             0.4444444444444444,
             "#bd3786"
            ],
            [
             0.5555555555555556,
             "#d8576b"
            ],
            [
             0.6666666666666666,
             "#ed7953"
            ],
            [
             0.7777777777777778,
             "#fb9f3a"
            ],
            [
             0.8888888888888888,
             "#fdca26"
            ],
            [
             1,
             "#f0f921"
            ]
           ],
           "sequentialminus": [
            [
             0,
             "#0d0887"
            ],
            [
             0.1111111111111111,
             "#46039f"
            ],
            [
             0.2222222222222222,
             "#7201a8"
            ],
            [
             0.3333333333333333,
             "#9c179e"
            ],
            [
             0.4444444444444444,
             "#bd3786"
            ],
            [
             0.5555555555555556,
             "#d8576b"
            ],
            [
             0.6666666666666666,
             "#ed7953"
            ],
            [
             0.7777777777777778,
             "#fb9f3a"
            ],
            [
             0.8888888888888888,
             "#fdca26"
            ],
            [
             1,
             "#f0f921"
            ]
           ]
          },
          "colorway": [
           "#636efa",
           "#EF553B",
           "#00cc96",
           "#ab63fa",
           "#FFA15A",
           "#19d3f3",
           "#FF6692",
           "#B6E880",
           "#FF97FF",
           "#FECB52"
          ],
          "font": {
           "color": "#2a3f5f"
          },
          "geo": {
           "bgcolor": "white",
           "lakecolor": "white",
           "landcolor": "#E5ECF6",
           "showlakes": true,
           "showland": true,
           "subunitcolor": "white"
          },
          "hoverlabel": {
           "align": "left"
          },
          "hovermode": "closest",
          "mapbox": {
           "style": "light"
          },
          "paper_bgcolor": "white",
          "plot_bgcolor": "#E5ECF6",
          "polar": {
           "angularaxis": {
            "gridcolor": "white",
            "linecolor": "white",
            "ticks": ""
           },
           "bgcolor": "#E5ECF6",
           "radialaxis": {
            "gridcolor": "white",
            "linecolor": "white",
            "ticks": ""
           }
          },
          "scene": {
           "xaxis": {
            "backgroundcolor": "#E5ECF6",
            "gridcolor": "white",
            "gridwidth": 2,
            "linecolor": "white",
            "showbackground": true,
            "ticks": "",
            "zerolinecolor": "white"
           },
           "yaxis": {
            "backgroundcolor": "#E5ECF6",
            "gridcolor": "white",
            "gridwidth": 2,
            "linecolor": "white",
            "showbackground": true,
            "ticks": "",
            "zerolinecolor": "white"
           },
           "zaxis": {
            "backgroundcolor": "#E5ECF6",
            "gridcolor": "white",
            "gridwidth": 2,
            "linecolor": "white",
            "showbackground": true,
            "ticks": "",
            "zerolinecolor": "white"
           }
          },
          "shapedefaults": {
           "line": {
            "color": "#2a3f5f"
           }
          },
          "ternary": {
           "aaxis": {
            "gridcolor": "white",
            "linecolor": "white",
            "ticks": ""
           },
           "baxis": {
            "gridcolor": "white",
            "linecolor": "white",
            "ticks": ""
           },
           "bgcolor": "#E5ECF6",
           "caxis": {
            "gridcolor": "white",
            "linecolor": "white",
            "ticks": ""
           }
          },
          "title": {
           "x": 0.05
          },
          "xaxis": {
           "automargin": true,
           "gridcolor": "white",
           "linecolor": "white",
           "ticks": "",
           "title": {
            "standoff": 15
           },
           "zerolinecolor": "white",
           "zerolinewidth": 2
          },
          "yaxis": {
           "automargin": true,
           "gridcolor": "white",
           "linecolor": "white",
           "ticks": "",
           "title": {
            "standoff": 15
           },
           "zerolinecolor": "white",
           "zerolinewidth": 2
          }
         }
        }
       }
      },
      "image/png": "[encoded data removed]",
      "text/html": [
       "<div>\n",
       "        \n",
       "        \n",
       "            <div id=\"92882d7f-054d-4eda-aed0-3d7fb7c7de2c\" class=\"plotly-graph-div\" style=\"height:525px; width:100%;\"></div>\n",
       "            <script type=\"text/javascript\">\n",
       "                require([\"plotly\"], function(Plotly) {\n",
       "                    window.PLOTLYENV=window.PLOTLYENV || {};\n",
       "                    \n",
       "                if (document.getElementById(\"92882d7f-054d-4eda-aed0-3d7fb7c7de2c\")) {\n",
       "                    Plotly.newPlot(\n",
       "                        '92882d7f-054d-4eda-aed0-3d7fb7c7de2c',\n",
       "                        [{\"branchvalues\": \"total\", \"domain\": {\"x\": [0.0, 1.0], \"y\": [0.0, 1.0]}, \"hoverlabel\": {\"namelength\": 0}, \"hovertemplate\": \"labels=%{label}<br>score=%{value}<br>parent=%{parent}<br>id=%{id}\", \"ids\": [\"7/keyword/10kg\", \"1/hashtag/13Novembre\", \"3/hashtag/27jours\", \"6/hashtag/6Nations\", \"6/hashtag/Abattage\", \"3/hashtag/Afghanistan\", \"4/hashtag/AlpesMaritimes\", \"3/hashtag/Ashkelon\", \"6/hashtag/AstridEtRaphaelle\", \"4/hashtag/Avia\", \"3/hashtag/Baltimore\", \"3/hashtag/Banque\", \"4/hashtag/Belattar\", \"7/hashtag/Belattar\", \"7/hashtag/BellatarYassine\", \"6/hashtag/BenoitMichel\", \"1/hashtag/Beziers\", \"4/hashtag/Bilderberg\", \"2/hashtag/Bitagri\", \"6/hashtag/Bobigny\", \"7/hashtag/Brisbane\", \"3/hashtag/CDC\", \"3/hashtag/CEDH\", \"3/hashtag/COVID19\", \"7/hashtag/COVID19\", \"7/hashtag/COVID19italia\", \"3/hashtag/Chine\", \"3/hashtag/Chinois\", \"3/hashtag/Corona\", \"3/hashtag/CoronaVirusItalia\", \"3/hashtag/Coronavirus\", \"7/hashtag/Coronavirus\", \"3/hashtag/CoronavirusItalia\", \"6/hashtag/Culott\\u00e9es\", \"3/hashtag/DGSE\", \"3/hashtag/Damas\", \"3/hashtag/DemocRat\", \"4/hashtag/DroitePopulaire\", \"7/hashtag/EnMarche\", \"7/hashtag/Europe\", \"6/hashtag/Everest\", \"6/hashtag/FFTV2019\", \"1/hashtag/FakeNews\", \"4/hashtag/FakeNews\", \"4/hashtag/FauxCul\", \"6/hashtag/Fessenheim\", \"4/hashtag/Francfort\", \"6/hashtag/GALFRA\", \"7/hashtag/GPA\", \"3/hashtag/Gaza\", \"7/hashtag/Google\", \"4/hashtag/Grenoble\", \"4/hashtag/Griveaux\", \"4/hashtag/GriveauxGate\", \"9/hashtag/Guilloti\\u00e8re\", \"4/hashtag/Hanau\", \"4/hashtag/Havre\", \"3/hashtag/Hubei\", \"6/hashtag/ITAECO\", \"4/hashtag/IbrahimAli\", \"3/hashtag/Immigration\", \"3/hashtag/IndoUsFriendship\", \"3/hashtag/Irak\", \"3/hashtag/Iran\", \"3/hashtag/Israel\", \"0/hashtag/Italie\", \"3/hashtag/Italie\", \"8/hashtag/JeSuisBouboule\", \"2/hashtag/JesuisMilla\", \"4/hashtag/Justice\", \"3/hashtag/LFI\", \"3/hashtag/LR\", \"4/hashtag/LR\", \"3/hashtag/LREM\", \"4/hashtag/LREM\", \"6/hashtag/LREM\", \"4/hashtag/LeGrandJury\", \"4/hashtag/LeRacismeAntiFrancaisNePasseraPas\", \"3/hashtag/Lesincorrectibles\", \"3/hashtag/Lille\", \"4/hashtag/Lille\", \"3/hashtag/Live\", \"6/hashtag/LolaDewaere\", \"1/hashtag/Macron\", \"4/hashtag/Macron\", \"4/hashtag/Macronleaks\", \"4/hashtag/Mars2020\", \"7/hashtag/Mayotte\", \"6/hashtag/Meilleure\", \"7/hashtag/Messiah\", \"2/hashtag/Mila\", \"7/hashtag/Milano\", \"6/hashtag/MirageSeries\", \"7/hashtag/MissNationale\", \"3/hashtag/Montauban\", \"3/hashtag/Municipales\", \"4/hashtag/Municipales\", \"4/hashtag/Municipales2020\", \"3/hashtag/Ndiaye\", \"4/hashtag/Nombrilisme\", \"3/hashtag/PS\", \"3/hashtag/Pakistan\", \"7/hashtag/Pericard\", \"2/hashtag/PiotrPavlenski\", \"4/hashtag/PiotrPavlenski\", \"4/hashtag/Poitiers\", \"8/hashtag/PrayForBouboule\", \"6/hashtag/Prix\", \"3/hashtag/Pr\\u00e9sidentielle\", \"7/hashtag/P\\u00e9ricard\", \"4/hashtag/RN\", \"5/hashtag/RN\", \"4/hashtag/RN44\", \"4/hashtag/RNUN\", \"3/hashtag/Racisme\", \"7/hashtag/Racisme\", \"4/hashtag/RassemblementNational\", \"3/hashtag/Rennes\", \"0/hashtag/Retraites\", \"6/hashtag/Rituel\", \"3/hashtag/Rn86\", \"4/hashtag/Rn86\", \"4/hashtag/Rost\", \"6/hashtag/Rugby\", \"7/hashtag/SHTF\", \"4/hashtag/SOSRacisme\", \"7/hashtag/SaintGermainEnLaye\", \"4/hashtag/SaintNazaire\", \"3/hashtag/SalonAgriculture\", \"3/hashtag/Salvini\", \"6/hashtag/SaraMortensen\", \"3/hashtag/Sderot\", \"6/hashtag/Sondage\", \"4/hashtag/Sopo\", \"3/hashtag/Soros\", \"4/hashtag/Soros\", \"7/hashtag/Su\\u00e8de\", \"6/hashtag/S\\u00e9rie\", \"4/hashtag/Tartuffe\", \"4/hashtag/Taubira\", \"0/hashtag/TeamPatriotes\", \"6/hashtag/TempsFort\", \"4/hashtag/TousAvecJeanMessiha\", \"4/hashtag/TousPourLesLillois\", \"4/hashtag/TousUnisContreLaHaine\", \"3/hashtag/Trump\", \"3/hashtag/TrumpIndiaVisit\", \"3/hashtag/Tunisie\", \"3/hashtag/Turquie\", \"6/hashtag/UneBelleHistoire\", \"4/hashtag/UnirlesNazairiens\", \"4/hashtag/VaulxEnVelin\", \"2/hashtag/VpourVivre\", \"6/keyword/abonn\\u00e9s\", \"6/keyword/absence\", \"0/keyword/acc\\u00e8s\", \"9/keyword/acc\\u00e8s\", \"4/hashtag/agriculteurs\", \"9/keyword/aie\", \"6/keyword/ami\", \"6/keyword/amie\", \"3/keyword/amp\", \"3/keyword/and\", \"4/keyword/animalisation\", \"6/hashtag/animation\", \"4/hashtag/antis\\u00e9mitisme\", \"3/keyword/are\", \"5/keyword/attentat\", \"8/keyword/autoroutes\", \"2/keyword/avaient\", \"5/keyword/aveugle\", \"2/keyword/avis\", \"0/keyword/bah\", \"7/keyword/banque\", \"7/keyword/bellatar\", \"7/keyword/berne\", \"10/keyword/besoin\", \"10/keyword/boom\", \"0/keyword/bout\", \"3/hashtag/budget\", \"8/keyword/b\\u00e9b\\u00e9\", \"8/keyword/ca\", \"6/hashtag/carnaval\", \"1/keyword/carri\\u00e8res\", \"9/keyword/carto\", \"9/keyword/cartographie\", \"6/keyword/cartographique\", \"1/keyword/celles\", \"6/keyword/cel\\u00e0\", \"0/keyword/censure\", \"9/keyword/certaine\", \"4/keyword/chameau\", \"4/keyword/chameaux\", \"8/keyword/chance\", \"3/keyword/che\", \"6/keyword/cher\", \"8/keyword/chier\", \"0/keyword/chose\", \"7/hashtag/christianophobie\", \"6/keyword/ch\\u00e8re\", \"8/keyword/clair\", \"1/keyword/co2\", \"4/hashtag/communautarisme\", \"7/keyword/communistes\", \"8/keyword/compliment\", \"0/keyword/comptes\", \"4/keyword/contenus\", \"2/keyword/contexte\", \"3/hashtag/coronavirus\", \"7/hashtag/coronavirus\", \"3/keyword/coronavirus\", \"7/keyword/coronavirus\", \"3/hashtag/coronavirusItalia\", \"3/hashtag/coronavirusitalla\", \"2/keyword/coup\", \"5/keyword/coup\", \"10/keyword/couscous\", \"5/keyword/crev\\u00e9\", \"3/hashtag/criminel\", \"8/keyword/c\\u00e9libataire\", \"7/keyword/dernier\", \"6/keyword/derniers\", \"3/keyword/di\", \"3/hashtag/diamondprincess\", \"1/hashtag/dictature\", \"9/keyword/diffuser\", \"1/keyword/diff\\u00e9rences\", \"1/keyword/diff\\u00e9rente\", \"0/keyword/diff\\u00e9rents\", \"0/keyword/discord\", \"6/keyword/doute\", \"10/keyword/dromadaire\", \"6/keyword/d\\u00e8s\", \"10/keyword/d\\u00e9bat\", \"3/hashtag/d\\u00e9construction\", \"9/keyword/d\\u00e9masqu\\u00e9s\", \"9/keyword/d\\u00e9ni\", \"0/keyword/effet\", \"4/hashtag/electionsMunicipales2020\", \"7/hashtag/electionsMunicipales2020\", \"2/keyword/elles\", \"8/keyword/enfant\", \"7/keyword/enfants\", \"10/keyword/envie\", \"8/keyword/es\", \"5/keyword/escalade\", \"2/hashtag/espritquiderive\", \"8/keyword/etes\", \"5/keyword/faite\", \"10/keyword/faites\", \"2/keyword/film\", \"9/keyword/fix\\u00e9\", \"3/keyword/for\", \"9/keyword/forme\", \"2/keyword/foutre\", \"6/keyword/front\", \"5/keyword/gars\", \"10/keyword/gauchiasse\", \"8/keyword/gilets\", \"7/hashtag/gouvernement\", \"7/keyword/gouverner\", \"6/keyword/grave\", \"2/keyword/groupe\", \"5/keyword/groupuscule\", \"8/keyword/g\\u00e9rer\", \"4/keyword/haine\", \"4/keyword/haineux\", \"1/keyword/heures\", \"1/keyword/hommes\", \"2/keyword/hommes\", \"9/keyword/id\\u00e9ologique\", \"0/hashtag/immigration\", \"1/keyword/imposer\", \"3/keyword/in\", \"1/keyword/individuels\", \"0/keyword/info\", \"9/keyword/inform\\u00e9\", \"9/keyword/infos\", \"7/hashtag/injures\", \"4/keyword/insulte\", \"3/keyword/is\", \"5/keyword/islam\", \"5/keyword/islamisme\", \"3/keyword/it\", \"8/keyword/jalouses\", \"8/keyword/jaunes\", \"10/keyword/job\", \"7/keyword/juges\", \"5/keyword/kalash\", \"3/hashtag/koronavirus\", \"1/keyword/kwh\", \"7/hashtag/labos\", \"4/keyword/liste\", \"4/keyword/loi\", \"9/keyword/macronistes\", \"7/keyword/maire\", \"6/keyword/mar\\u00e9chal\", \"2/keyword/mec\", \"2/keyword/mecs\", \"6/keyword/michel\", \"7/keyword/millions\", \"1/keyword/moyen\", \"5/keyword/musique\", \"8/keyword/m\\u00e8res\", \"1/keyword/m\\u00e9tiers\", \"6/keyword/nation\", \"5/keyword/nationalistes\", \"5/keyword/nazis\", \"5/keyword/neo\", \"2/keyword/ni\", \"7/keyword/ni\", \"3/hashtag/nonelarena\", \"3/keyword/of\", \"7/hashtag/olivierveran\", \"4/keyword/origine\", \"0/keyword/part\", \"10/keyword/partie\", \"10/keyword/path\\u00e9tique\", \"0/keyword/patriotes\", \"8/keyword/paye\", \"3/keyword/per\", \"10/keyword/perdre\", \"1/keyword/personnel\", \"8/keyword/petit\", \"10/keyword/photo\", \"0/keyword/piaf\", \"9/keyword/planqu\\u00e9s\", \"1/keyword/plut\\u00f4t\", \"2/keyword/plut\\u00f4t\", \"10/keyword/potel\\u00e9\", \"0/keyword/pourtant\", \"1/keyword/preneur\", \"1/keyword/presqu\", \"0/keyword/priv\\u00e9\", \"4/keyword/propos\", \"2/keyword/propres\", \"5/keyword/pr\\u00e9sent\", \"4/keyword/pr\\u00e9sident\", \"0/hashtag/racism\", \"4/keyword/racistes\", \"10/keyword/rage\", \"9/keyword/recherche\", \"4/keyword/responsable\", \"7/keyword/ressemble\", \"0/keyword/retweets\", \"4/keyword/rn\", \"10/keyword/rn\", \"9/keyword/rs\", \"7/keyword/r\\u00e9fugi\\u00e9s\", \"1/hashtag/r\\u00e9f\\u00e9rencedevieux\", \"5/keyword/r\\u00e9unir\", \"9/keyword/r\\u00eaver\", \"6/keyword/sah\", \"7/keyword/saintgermainenlaye\", \"1/keyword/salaire\", \"1/keyword/salaires\", \"0/keyword/salon\", \"5/keyword/sauf\", \"8/keyword/savez\", \"6/hashtag/serie\", \"0/keyword/serveur\", \"8/keyword/seules\", \"6/keyword/soir\", \"7/hashtag/sopo\", \"3/keyword/soros\", \"4/keyword/sos\", \"4/keyword/soutien\", \"1/keyword/stats\", \"2/hashtag/stunningandbrave\", \"7/keyword/suisse\", \"4/keyword/svp\", \"6/keyword/s\\u00e9rie\", \"4/keyword/taubira\", \"2/keyword/team\", \"0/keyword/teampatriotes\", \"5/keyword/terrorisme\", \"3/keyword/that\", \"3/keyword/the\", \"3/keyword/this\", \"10/keyword/th\\u00e8me\", \"2/keyword/timide\", \"3/keyword/to\", \"2/keyword/toujours\", \"2/keyword/toute\", \"7/keyword/toute\", \"2/keyword/toutes\", \"4/keyword/tweet\", \"1/keyword/utilser\", \"5/keyword/violences\", \"2/hashtag/violencespolici\\u00e8res\", \"3/hashtag/virus\", \"7/keyword/voleurs\", \"10/keyword/vs\", \"0/keyword/vue\", \"6/keyword/wallah\", \"3/keyword/will\", \"3/keyword/with\", \"9/keyword/xd\", \"10/keyword/yacine\", \"7/keyword/yassine\", \"3/keyword/you\", \"2/keyword/\\u00e9nergie\", \"9/keyword/\\u00e9norme\", \"10/keyword/\\u00e9tant\", \"0/hashtag\", \"1/hashtag\", \"2/hashtag\", \"3/hashtag\", \"4/hashtag\", \"5/hashtag\", \"6/hashtag\", \"7/hashtag\", \"8/hashtag\", \"9/hashtag\", \"0/keyword\", \"1/keyword\", \"2/keyword\", \"3/keyword\", \"4/keyword\", \"5/keyword\", \"6/keyword\", \"7/keyword\", \"8/keyword\", \"9/keyword\", \"10/keyword\", \"0\", \"1\", \"2\", \"3\", \"4\", \"5\", \"6\", \"7\", \"8\", \"9\", \"10\"], \"labels\": [\"10kg\", \"13Novembre\", \"27jours\", \"6Nations\", \"Abattage\", \"Afghanistan\", \"AlpesMaritimes\", \"Ashkelon\", \"AstridEtRaphaelle\", \"Avia\", \"Baltimore\", \"Banque\", \"Belattar\", \"Belattar\", \"BellatarYassine\", \"BenoitMichel\", \"Beziers\", \"Bilderberg\", \"Bitagri\", \"Bobigny\", \"Brisbane\", \"CDC\", \"CEDH\", \"COVID19\", \"COVID19\", \"COVID19italia\", \"Chine\", \"Chinois\", \"Corona\", \"CoronaVirusItalia\", \"Coronavirus\", \"Coronavirus\", \"CoronavirusItalia\", \"Culott\\u00e9es\", \"DGSE\", \"Damas\", \"DemocRat\", \"DroitePopulaire\", \"EnMarche\", \"Europe\", \"Everest\", \"FFTV2019\", \"FakeNews\", \"FakeNews\", \"FauxCul\", \"Fessenheim\", \"Francfort\", \"GALFRA\", \"GPA\", \"Gaza\", \"Google\", \"Grenoble\", \"Griveaux\", \"GriveauxGate\", \"Guilloti\\u00e8re\", \"Hanau\", \"Havre\", \"Hubei\", \"ITAECO\", \"IbrahimAli\", \"Immigration\", \"IndoUsFriendship\", \"Irak\", \"Iran\", \"Israel\", \"Italie\", \"Italie\", \"JeSuisBouboule\", \"JesuisMilla\", \"Justice\", \"LFI\", \"LR\", \"LR\", \"LREM\", \"LREM\", \"LREM\", \"LeGrandJury\", \"LeRacismeAntiFrancaisNePasseraPas\", \"Lesincorrectibles\", \"Lille\", \"Lille\", \"Live\", \"LolaDewaere\", \"Macron\", \"Macron\", \"Macronleaks\", \"Mars2020\", \"Mayotte\", \"Meilleure\", \"Messiah\", \"Mila\", \"Milano\", \"MirageSeries\", \"MissNationale\", \"Montauban\", \"Municipales\", \"Municipales\", \"Municipales2020\", \"Ndiaye\", \"Nombrilisme\", \"PS\", \"Pakistan\", \"Pericard\", \"PiotrPavlenski\", \"PiotrPavlenski\", \"Poitiers\", \"PrayForBouboule\", \"Prix\", \"Pr\\u00e9sidentielle\", \"P\\u00e9ricard\", \"RN\", \"RN\", \"RN44\", \"RNUN\", \"Racisme\", \"Racisme\", \"RassemblementNational\", \"Rennes\", \"Retraites\", \"Rituel\", \"Rn86\", \"Rn86\", \"Rost\", \"Rugby\", \"SHTF\", \"SOSRacisme\", \"SaintGermainEnLaye\", \"SaintNazaire\", \"SalonAgriculture\", \"Salvini\", \"SaraMortensen\", \"Sderot\", \"Sondage\", \"Sopo\", \"Soros\", \"Soros\", \"Su\\u00e8de\", \"S\\u00e9rie\", \"Tartuffe\", \"Taubira\", \"TeamPatriotes\", \"TempsFort\", \"TousAvecJeanMessiha\", \"TousPourLesLillois\", \"TousUnisContreLaHaine\", \"Trump\", \"TrumpIndiaVisit\", \"Tunisie\", \"Turquie\", \"UneBelleHistoire\", \"UnirlesNazairiens\", \"VaulxEnVelin\", \"VpourVivre\", \"abonn\\u00e9s\", \"absence\", \"acc\\u00e8s\", \"acc\\u00e8s\", \"agriculteurs\", \"aie\", \"ami\", \"amie\", \"amp\", \"and\", \"animalisation\", \"animation\", \"antis\\u00e9mitisme\", \"are\", \"attentat\", \"autoroutes\", \"avaient\", \"aveugle\", \"avis\", \"bah\", \"banque\", \"bellatar\", \"berne\", \"besoin\", \"boom\", \"bout\", \"budget\", \"b\\u00e9b\\u00e9\", \"ca\", \"carnaval\", \"carri\\u00e8res\", \"carto\", \"cartographie\", \"cartographique\", \"celles\", \"cel\\u00e0\", \"censure\", \"certaine\", \"chameau\", \"chameaux\", \"chance\", \"che\", \"cher\", \"chier\", \"chose\", \"christianophobie\", \"ch\\u00e8re\", \"clair\", \"co2\", \"communautarisme\", \"communistes\", \"compliment\", \"comptes\", \"contenus\", \"contexte\", \"coronavirus\", \"coronavirus\", \"coronavirus\", \"coronavirus\", \"coronavirusItalia\", \"coronavirusitalla\", \"coup\", \"coup\", \"couscous\", \"crev\\u00e9\", \"criminel\", \"c\\u00e9libataire\", \"dernier\", \"derniers\", \"di\", \"diamondprincess\", \"dictature\", \"diffuser\", \"diff\\u00e9rences\", \"diff\\u00e9rente\", \"diff\\u00e9rents\", \"discord\", \"doute\", \"dromadaire\", \"d\\u00e8s\", \"d\\u00e9bat\", \"d\\u00e9construction\", \"d\\u00e9masqu\\u00e9s\", \"d\\u00e9ni\", \"effet\", \"electionsMunicipales2020\", \"electionsMunicipales2020\", \"elles\", \"enfant\", \"enfants\", \"envie\", \"es\", \"escalade\", \"espritquiderive\", \"etes\", \"faite\", \"faites\", \"film\", \"fix\\u00e9\", \"for\", \"forme\", \"foutre\", \"front\", \"gars\", \"gauchiasse\", \"gilets\", \"gouvernement\", \"gouverner\", \"grave\", \"groupe\", \"groupuscule\", \"g\\u00e9rer\", \"haine\", \"haineux\", \"heures\", \"hommes\", \"hommes\", \"id\\u00e9ologique\", \"immigration\", \"imposer\", \"in\", \"individuels\", \"info\", \"inform\\u00e9\", \"infos\", \"injures\", \"insulte\", \"is\", \"islam\", \"islamisme\", \"it\", \"jalouses\", \"jaunes\", \"job\", \"juges\", \"kalash\", \"koronavirus\", \"kwh\", \"labos\", \"liste\", \"loi\", \"macronistes\", \"maire\", \"mar\\u00e9chal\", \"mec\", \"mecs\", \"michel\", \"millions\", \"moyen\", \"musique\", \"m\\u00e8res\", \"m\\u00e9tiers\", \"nation\", \"nationalistes\", \"nazis\", \"neo\", \"ni\", \"ni\", \"nonelarena\", \"of\", \"olivierveran\", \"origine\", \"part\", \"partie\", \"path\\u00e9tique\", \"patriotes\", \"paye\", \"per\", \"perdre\", \"personnel\", \"petit\", \"photo\", \"piaf\", \"planqu\\u00e9s\", \"plut\\u00f4t\", \"plut\\u00f4t\", \"potel\\u00e9\", \"pourtant\", \"preneur\", \"presqu\", \"priv\\u00e9\", \"propos\", \"propres\", \"pr\\u00e9sent\", \"pr\\u00e9sident\", \"racism\", \"racistes\", \"rage\", \"recherche\", \"responsable\", \"ressemble\", \"retweets\", \"rn\", \"rn\", \"rs\", \"r\\u00e9fugi\\u00e9s\", \"r\\u00e9f\\u00e9rencedevieux\", \"r\\u00e9unir\", \"r\\u00eaver\", \"sah\", \"saintgermainenlaye\", \"salaire\", \"salaires\", \"salon\", \"sauf\", \"savez\", \"serie\", \"serveur\", \"seules\", \"soir\", \"sopo\", \"soros\", \"sos\", \"soutien\", \"stats\", \"stunningandbrave\", \"suisse\", \"svp\", \"s\\u00e9rie\", \"taubira\", \"team\", \"teampatriotes\", \"terrorisme\", \"that\", \"the\", \"this\", \"th\\u00e8me\", \"timide\", \"to\", \"toujours\", \"toute\", \"toute\", \"toutes\", \"tweet\", \"utilser\", \"violences\", \"violencespolici\\u00e8res\", \"virus\", \"voleurs\", \"vs\", \"vue\", \"wallah\", \"will\", \"with\", \"xd\", \"yacine\", \"yassine\", \"you\", \"\\u00e9nergie\", \"\\u00e9norme\", \"\\u00e9tant\", \"hashtag\", \"hashtag\", \"hashtag\", \"hashtag\", \"hashtag\", \"hashtag\", \"hashtag\", \"hashtag\", \"hashtag\", \"hashtag\", \"keyword\", \"keyword\", \"keyword\", \"keyword\", \"keyword\", \"keyword\", \"keyword\", \"keyword\", \"keyword\", \"keyword\", \"keyword\", \"0\", \"1\", \"2\", \"3\", \"4\", \"5\", \"6\", \"7\", \"8\", \"9\", \"10\"], \"maxdepth\": 2, \"name\": \"\", \"parents\": [\"7/keyword\", \"1/hashtag\", \"3/hashtag\", \"6/hashtag\", \"6/hashtag\", \"3/hashtag\", \"4/hashtag\", \"3/hashtag\", \"6/hashtag\", \"4/hashtag\", \"3/hashtag\", \"3/hashtag\", \"4/hashtag\", \"7/hashtag\", \"7/hashtag\", \"6/hashtag\", \"1/hashtag\", \"4/hashtag\", \"2/hashtag\", \"6/hashtag\", \"7/hashtag\", \"3/hashtag\", \"3/hashtag\", \"3/hashtag\", \"7/hashtag\", \"7/hashtag\", \"3/hashtag\", \"3/hashtag\", \"3/hashtag\", \"3/hashtag\", \"3/hashtag\", \"7/hashtag\", \"3/hashtag\", \"6/hashtag\", \"3/hashtag\", \"3/hashtag\", \"3/hashtag\", \"4/hashtag\", \"7/hashtag\", \"7/hashtag\", \"6/hashtag\", \"6/hashtag\", \"1/hashtag\", \"4/hashtag\", \"4/hashtag\", \"6/hashtag\", \"4/hashtag\", \"6/hashtag\", \"7/hashtag\", \"3/hashtag\", \"7/hashtag\", \"4/hashtag\", \"4/hashtag\", \"4/hashtag\", \"9/hashtag\", \"4/hashtag\", \"4/hashtag\", \"3/hashtag\", \"6/hashtag\", \"4/hashtag\", \"3/hashtag\", \"3/hashtag\", \"3/hashtag\", \"3/hashtag\", \"3/hashtag\", \"0/hashtag\", \"3/hashtag\", \"8/hashtag\", \"2/hashtag\", \"4/hashtag\", \"3/hashtag\", \"3/hashtag\", \"4/hashtag\", \"3/hashtag\", \"4/hashtag\", \"6/hashtag\", \"4/hashtag\", \"4/hashtag\", \"3/hashtag\", \"3/hashtag\", \"4/hashtag\", \"3/hashtag\", \"6/hashtag\", \"1/hashtag\", \"4/hashtag\", \"4/hashtag\", \"4/hashtag\", \"7/hashtag\", \"6/hashtag\", \"7/hashtag\", \"2/hashtag\", \"7/hashtag\", \"6/hashtag\", \"7/hashtag\", \"3/hashtag\", \"3/hashtag\", \"4/hashtag\", \"4/hashtag\", \"3/hashtag\", \"4/hashtag\", \"3/hashtag\", \"3/hashtag\", \"7/hashtag\", \"2/hashtag\", \"4/hashtag\", \"4/hashtag\", \"8/hashtag\", \"6/hashtag\", \"3/hashtag\", \"7/hashtag\", \"4/hashtag\", \"5/hashtag\", \"4/hashtag\", \"4/hashtag\", \"3/hashtag\", \"7/hashtag\", \"4/hashtag\", \"3/hashtag\", \"0/hashtag\", \"6/hashtag\", \"3/hashtag\", \"4/hashtag\", \"4/hashtag\", \"6/hashtag\", \"7/hashtag\", \"4/hashtag\", \"7/hashtag\", \"4/hashtag\", \"3/hashtag\", \"3/hashtag\", \"6/hashtag\", \"3/hashtag\", \"6/hashtag\", \"4/hashtag\", \"3/hashtag\", \"4/hashtag\", \"7/hashtag\", \"6/hashtag\", \"4/hashtag\", \"4/hashtag\", \"0/hashtag\", \"6/hashtag\", \"4/hashtag\", \"4/hashtag\", \"4/hashtag\", \"3/hashtag\", \"3/hashtag\", \"3/hashtag\", \"3/hashtag\", \"6/hashtag\", \"4/hashtag\", \"4/hashtag\", \"2/hashtag\", \"6/keyword\", \"6/keyword\", \"0/keyword\", \"9/keyword\", \"4/hashtag\", \"9/keyword\", \"6/keyword\", \"6/keyword\", \"3/keyword\", \"3/keyword\", \"4/keyword\", \"6/hashtag\", \"4/hashtag\", \"3/keyword\", \"5/keyword\", \"8/keyword\", \"2/keyword\", \"5/keyword\", \"2/keyword\", \"0/keyword\", \"7/keyword\", \"7/keyword\", \"7/keyword\", \"10/keyword\", \"10/keyword\", \"0/keyword\", \"3/hashtag\", \"8/keyword\", \"8/keyword\", \"6/hashtag\", \"1/keyword\", \"9/keyword\", \"9/keyword\", \"6/keyword\", \"1/keyword\", \"6/keyword\", \"0/keyword\", \"9/keyword\", \"4/keyword\", \"4/keyword\", \"8/keyword\", \"3/keyword\", \"6/keyword\", \"8/keyword\", \"0/keyword\", \"7/hashtag\", \"6/keyword\", \"8/keyword\", \"1/keyword\", \"4/hashtag\", \"7/keyword\", \"8/keyword\", \"0/keyword\", \"4/keyword\", \"2/keyword\", \"3/hashtag\", \"7/hashtag\", \"3/keyword\", \"7/keyword\", \"3/hashtag\", \"3/hashtag\", \"2/keyword\", \"5/keyword\", \"10/keyword\", \"5/keyword\", \"3/hashtag\", \"8/keyword\", \"7/keyword\", \"6/keyword\", \"3/keyword\", \"3/hashtag\", \"1/hashtag\", \"9/keyword\", \"1/keyword\", \"1/keyword\", \"0/keyword\", \"0/keyword\", \"6/keyword\", \"10/keyword\", \"6/keyword\", \"10/keyword\", \"3/hashtag\", \"9/keyword\", \"9/keyword\", \"0/keyword\", \"4/hashtag\", \"7/hashtag\", \"2/keyword\", \"8/keyword\", \"7/keyword\", \"10/keyword\", \"8/keyword\", \"5/keyword\", \"2/hashtag\", \"8/keyword\", \"5/keyword\", \"10/keyword\", \"2/keyword\", \"9/keyword\", \"3/keyword\", \"9/keyword\", \"2/keyword\", \"6/keyword\", \"5/keyword\", \"10/keyword\", \"8/keyword\", \"7/hashtag\", \"7/keyword\", \"6/keyword\", \"2/keyword\", \"5/keyword\", \"8/keyword\", \"4/keyword\", \"4/keyword\", \"1/keyword\", \"1/keyword\", \"2/keyword\", \"9/keyword\", \"0/hashtag\", \"1/keyword\", \"3/keyword\", \"1/keyword\", \"0/keyword\", \"9/keyword\", \"9/keyword\", \"7/hashtag\", \"4/keyword\", \"3/keyword\", \"5/keyword\", \"5/keyword\", \"3/keyword\", \"8/keyword\", \"8/keyword\", \"10/keyword\", \"7/keyword\", \"5/keyword\", \"3/hashtag\", \"1/keyword\", \"7/hashtag\", \"4/keyword\", \"4/keyword\", \"9/keyword\", \"7/keyword\", \"6/keyword\", \"2/keyword\", \"2/keyword\", \"6/keyword\", \"7/keyword\", \"1/keyword\", \"5/keyword\", \"8/keyword\", \"1/keyword\", \"6/keyword\", \"5/keyword\", \"5/keyword\", \"5/keyword\", \"2/keyword\", \"7/keyword\", \"3/hashtag\", \"3/keyword\", \"7/hashtag\", \"4/keyword\", \"0/keyword\", \"10/keyword\", \"10/keyword\", \"0/keyword\", \"8/keyword\", \"3/keyword\", \"10/keyword\", \"1/keyword\", \"8/keyword\", \"10/keyword\", \"0/keyword\", \"9/keyword\", \"1/keyword\", \"2/keyword\", \"10/keyword\", \"0/keyword\", \"1/keyword\", \"1/keyword\", \"0/keyword\", \"4/keyword\", \"2/keyword\", \"5/keyword\", \"4/keyword\", \"0/hashtag\", \"4/keyword\", \"10/keyword\", \"9/keyword\", \"4/keyword\", \"7/keyword\", \"0/keyword\", \"4/keyword\", \"10/keyword\", \"9/keyword\", \"7/keyword\", \"1/hashtag\", \"5/keyword\", \"9/keyword\", \"6/keyword\", \"7/keyword\", \"1/keyword\", \"1/keyword\", \"0/keyword\", \"5/keyword\", \"8/keyword\", \"6/hashtag\", \"0/keyword\", \"8/keyword\", \"6/keyword\", \"7/hashtag\", \"3/keyword\", \"4/keyword\", \"4/keyword\", \"1/keyword\", \"2/hashtag\", \"7/keyword\", \"4/keyword\", \"6/keyword\", \"4/keyword\", \"2/keyword\", \"0/keyword\", \"5/keyword\", \"3/keyword\", \"3/keyword\", \"3/keyword\", \"10/keyword\", \"2/keyword\", \"3/keyword\", \"2/keyword\", \"2/keyword\", \"7/keyword\", \"2/keyword\", \"4/keyword\", \"1/keyword\", \"5/keyword\", \"2/hashtag\", \"3/hashtag\", \"7/keyword\", \"10/keyword\", \"0/keyword\", \"6/keyword\", \"3/keyword\", \"3/keyword\", \"9/keyword\", \"10/keyword\", \"7/keyword\", \"3/keyword\", \"2/keyword\", \"9/keyword\", \"10/keyword\", \"0\", \"1\", \"2\", \"3\", \"4\", \"5\", \"6\", \"7\", \"8\", \"9\", \"0\", \"1\", \"2\", \"3\", \"4\", \"5\", \"6\", \"7\", \"8\", \"9\", \"10\", \"\", \"\", \"\", \"\", \"\", \"\", \"\", \"\", \"\", \"\", \"\"], \"type\": \"sunburst\", \"values\": [0.09701559099136688, 1.0, 1.0, 2.0, 1.0, 2.0, 1.0, 2.0, 1.0, 2.0, 1.0, 1.0, 5.0, 1.0, 1.0, 1.0, 1.0, 1.0, 1.0, 1.0, 1.0, 2.0, 2.0, 1.0, 1.0, 1.0, 1.0, 1.0, 1.0, 1.0, 1.0, 1.0, 2.0, 1.0, 1.0, 1.0, 1.0, 1.0, 1.0, 1.0, 1.0, 1.0, 1.0, 1.0, 3.0, 2.0, 1.0, 2.0, 2.0, 3.0, 1.0, 1.0, 3.0, 1.0, 1.0, 1.0, 1.0, 1.0, 2.0, 1.0, 1.0, 1.0, 2.0, 3.0, 4.0, 1.0, 2.0, 1.0, 1.0, 1.0, 2.0, 1.0, 3.0, 2.0, 1.0, 1.0, 1.0, 3.0, 1.0, 1.0, 10.0, 1.0, 1.0, 1.0, 2.0, 1.0, 1.0, 1.0, 1.0, 1.0, 2.0, 1.0, 1.0, 2.0, 1.0, 1.0, 1.0, 9.0, 1.0, 1.0, 2.0, 2.0, 2.0, 1.0, 1.0, 1.0, 1.0, 1.0, 1.0, 1.0, 16.0, 1.0, 1.0, 1.0, 1.0, 1.0, 1.0, 1.0, 1.0, 1.0, 1.0, 1.0, 4.0, 1.0, 1.0, 1.0, 2.0, 9.0, 1.0, 9.0, 1.0, 2.0, 1.0, 2.0, 1.0, 1.0, 1.0, 1.0, 3.0, 3.0, 3.0, 2.0, 2.0, 2.0, 2.0, 2.0, 1.0, 1.0, 2.0, 1.0, 1.0, 1.0, 1.0, 0.1516536954111439, 0.07582684770557196, 0.1870765942163172, 0.1049075640991161, 1.0, 0.1395573098703389, 0.218440582144762, 0.08101753620600056, 0.09988615744380021, 0.1689437143591235, 0.1050579182066432, 1.0, 1.0, 0.1067238138212449, 0.09552038269713319, 0.1163267235017848, 0.0713022608588896, 0.1215374834366918, 0.089127826073612, 0.1393207572760761, 0.1160955534978079, 0.09951047442669249, 0.09701559099136688, 0.0829110114279748, 0.2050627410732021, 0.1006214788558013, 1.0, 0.09943184840942533, 0.2623342312962716, 1.0, 0.1601419426459999, 0.2791146197406777, 0.2093359648055083, 0.07582684770557196, 0.1048841011490383, 0.07582684770557196, 0.1244329064959874, 0.1049075640991161, 0.1820444571836988, 0.1050579182066432, 0.09406649156408585, 0.1123719271242752, 0.2546975910557546, 0.09943184840942533, 0.1006214788558013, 1.0, 0.1282506968668864, 0.09943184840942533, 0.1561269333486349, 2.0, 0.09701559099136688, 0.1163267235017848, 0.1247177294775448, 0.09004964417712276, 0.0729903315897545, 9.0, 4.0, 0.08329610971538624, 0.1059084842739181, 1.0, 1.0, 0.1454493706790018, 0.1437241291812051, 0.1367084940488014, 0.09479227871152682, 1.0, 0.09943184840942533, 0.08292539535557708, 0.07582684770557196, 0.1498292361657003, 2.0, 1.0, 0.3147226922973482, 0.09367616000918097, 0.1601419426459999, 0.08295527099732491, 0.2488658129919747, 0.09722104344720069, 0.1752801658210465, 0.1137402715583579, 0.1377585584710956, 1.0, 0.1046679824027542, 0.1311344551238951, 0.1114566058208609, 1.0, 1.0, 0.2023643418142633, 0.09943184840942533, 0.07820861787517755, 0.09183903898073043, 0.09406649156408585, 0.1421884180672902, 1.0, 0.1163267235017848, 0.09479227871152682, 0.1377585584710956, 0.1604300869325016, 0.1046679824027542, 0.1032433809972421, 0.1192885079346521, 0.0713022608588896, 0.1137402715583579, 0.1425138828524286, 0.2050627410732021, 0.1325757978792338, 1.0, 0.07761247279309351, 0.07640927731672635, 0.1011821709071317, 0.1895845574230536, 0.1325757978792338, 0.1764414550929451, 0.1125620552214034, 0.2112538089875624, 0.1893758254766881, 0.07588662818034875, 0.1049075640991161, 1.0, 0.1067612950973333, 0.3472731906270871, 0.09367616000918097, 0.155897161846931, 0.1192885079346521, 0.2385770158693042, 1.0, 0.08979968388065604, 0.1425922993172901, 0.09552038269713319, 0.1068854121393215, 0.0838778231278177, 0.1163267235017848, 0.1325757978792338, 0.1027660615960785, 0.08292539535557708, 0.09479227871152682, 2.0, 0.124901546678908, 1.0, 0.0846147796503019, 0.1183288971694042, 0.328134931091292, 0.1042781571669034, 0.09478355963196494, 0.07054463971298085, 0.1146990924981856, 0.1782385796532013, 0.08751389094555986, 0.1408358726583749, 0.1215374834366918, 0.1163267235017848, 0.1601419426459999, 0.07582684770557196, 0.1421884180672902, 0.1620499779155891, 0.09479227871152682, 0.07705340110933388, 0.1042781571669034, 1.0, 0.1830223572223837, 1.0, 0.1137777857398117, 0.1006214788558013, 0.1243665171419622, 0.2050627410732021, 0.1063607185296798, 0.09943184840942533, 0.1248576968047503, 0.1168534438806977, 0.09367616000918097, 0.09406649156408585, 0.09183903898073043, 0.1244329064959874, 0.1789327619019781, 0.09389058177224995, 0.07838293301442317, 0.2050627410732021, 0.08359245436564565, 0.09367616000918097, 0.09367616000918097, 0.1659105419946498, 0.1109060574869941, 0.0729903315897545, 0.1215374834366918, 0.1319822314581816, 1.0, 0.1956977914724762, 0.2050627410732021, 0.1192885079346521, 0.08979968388065604, 0.1160955534978079, 0.1244329064959874, 0.1729422343245139, 0.1243665171419622, 0.1395573098703389, 0.07761247279309351, 1.0, 0.1421884180672902, 0.1395573098703389, 0.1326969834847509, 0.09701559099136688, 0.4003548566149997, 0.09367616000918097, 0.1247177294775448, 0.1273605102628443, 0.1325757978792338, 1.0, 0.1659105419946498, 0.09943184840942533, 0.09975054200757827, 1.0, 0.08004286036593371, 0.1008236886245401, 0.1575868773099648, 0.1873523200183619, 1.0, 0.1160955534978079, 0.1026282101493212, 0.08101753620600056, 0.1125620552214034, 0.089127826073612, 0.1244329064959874, 0.1781423535655358, 0.08537905105699596, 0.3942257687007432, 0.1547495300408052, 0.1752801658210465, 0.0729903315897545, 0.2158725239033244, 0.07705340110933388, 0.07588662818034875, 0.08237326554638075, 0.07588662818034875, 0.2470180371301232, 0.09367616000918097, 0.09479227871152682, 1.0, 1.0, 0.07761247279309351, 0.1541490923941178, 0.1418142913729063, 0.1425007742965404, 0.1067238138212449, 0.1387409579676184, 0.1744466373379236, 0.2050627410732021, 0.1492657116400387, 0.1267077857693426, 0.0834175218168623, 0.1395573098703389, 0.0829110114279748, 7.0, 6.0, 9.0, 97.0, 115.0, 1.0, 31.0, 35.0, 2.0, 1.0, 2.63819227291346, 2.8518960898044172, 1.8780680127693306, 3.00835999835211, 2.5996814615868047, 2.506440686803824, 2.3432931793730876, 1.9463739925909, 2.3524934538803657, 3.294552498556097, 2.9651641220445275, 9.63819227291346, 8.851896089804416, 10.87806801276933, 100.0083599983521, 117.59968146158681, 3.506440686803824, 33.34329317937309, 36.9463739925909, 4.352493453880365, 4.294552498556097, 2.9651641220445275]}],\n",
       "                        {\"legend\": {\"tracegroupgap\": 0}, \"margin\": {\"t\": 60}, \"template\": {\"data\": {\"bar\": [{\"error_x\": {\"color\": \"#2a3f5f\"}, \"error_y\": {\"color\": \"#2a3f5f\"}, \"marker\": {\"line\": {\"color\": \"#E5ECF6\", \"width\": 0.5}}, \"type\": \"bar\"}], \"barpolar\": [{\"marker\": {\"line\": {\"color\": \"#E5ECF6\", \"width\": 0.5}}, \"type\": \"barpolar\"}], \"carpet\": [{\"aaxis\": {\"endlinecolor\": \"#2a3f5f\", \"gridcolor\": \"white\", \"linecolor\": \"white\", \"minorgridcolor\": \"white\", \"startlinecolor\": \"#2a3f5f\"}, \"baxis\": {\"endlinecolor\": \"#2a3f5f\", \"gridcolor\": \"white\", \"linecolor\": \"white\", \"minorgridcolor\": \"white\", \"startlinecolor\": \"#2a3f5f\"}, \"type\": \"carpet\"}], \"choropleth\": [{\"colorbar\": {\"outlinewidth\": 0, \"ticks\": \"\"}, \"type\": \"choropleth\"}], \"contour\": [{\"colorbar\": {\"outlinewidth\": 0, \"ticks\": \"\"}, \"colorscale\": [[0.0, \"#0d0887\"], [0.1111111111111111, \"#46039f\"], [0.2222222222222222, \"#7201a8\"], [0.3333333333333333, \"#9c179e\"], [0.4444444444444444, \"#bd3786\"], [0.5555555555555556, \"#d8576b\"], [0.6666666666666666, \"#ed7953\"], [0.7777777777777778, \"#fb9f3a\"], [0.8888888888888888, \"#fdca26\"], [1.0, \"#f0f921\"]], \"type\": \"contour\"}], \"contourcarpet\": [{\"colorbar\": {\"outlinewidth\": 0, \"ticks\": \"\"}, \"type\": \"contourcarpet\"}], \"heatmap\": [{\"colorbar\": {\"outlinewidth\": 0, \"ticks\": \"\"}, \"colorscale\": [[0.0, \"#0d0887\"], [0.1111111111111111, \"#46039f\"], [0.2222222222222222, \"#7201a8\"], [0.3333333333333333, \"#9c179e\"], [0.4444444444444444, \"#bd3786\"], [0.5555555555555556, \"#d8576b\"], [0.6666666666666666, \"#ed7953\"], [0.7777777777777778, \"#fb9f3a\"], [0.8888888888888888, \"#fdca26\"], [1.0, \"#f0f921\"]], \"type\": \"heatmap\"}], \"heatmapgl\": [{\"colorbar\": {\"outlinewidth\": 0, \"ticks\": \"\"}, \"colorscale\": [[0.0, \"#0d0887\"], [0.1111111111111111, \"#46039f\"], [0.2222222222222222, \"#7201a8\"], [0.3333333333333333, \"#9c179e\"], [0.4444444444444444, \"#bd3786\"], [0.5555555555555556, \"#d8576b\"], [0.6666666666666666, \"#ed7953\"], [0.7777777777777778, \"#fb9f3a\"], [0.8888888888888888, \"#fdca26\"], [1.0, \"#f0f921\"]], \"type\": \"heatmapgl\"}], \"histogram\": [{\"marker\": {\"colorbar\": {\"outlinewidth\": 0, \"ticks\": \"\"}}, \"type\": \"histogram\"}], \"histogram2d\": [{\"colorbar\": {\"outlinewidth\": 0, \"ticks\": \"\"}, \"colorscale\": [[0.0, \"#0d0887\"], [0.1111111111111111, \"#46039f\"], [0.2222222222222222, \"#7201a8\"], [0.3333333333333333, \"#9c179e\"], [0.4444444444444444, \"#bd3786\"], [0.5555555555555556, \"#d8576b\"], [0.6666666666666666, \"#ed7953\"], [0.7777777777777778, \"#fb9f3a\"], [0.8888888888888888, \"#fdca26\"], [1.0, \"#f0f921\"]], \"type\": \"histogram2d\"}], \"histogram2dcontour\": [{\"colorbar\": {\"outlinewidth\": 0, \"ticks\": \"\"}, \"colorscale\": [[0.0, \"#0d0887\"], [0.1111111111111111, \"#46039f\"], [0.2222222222222222, \"#7201a8\"], [0.3333333333333333, \"#9c179e\"], [0.4444444444444444, \"#bd3786\"], [0.5555555555555556, \"#d8576b\"], [0.6666666666666666, \"#ed7953\"], [0.7777777777777778, \"#fb9f3a\"], [0.8888888888888888, \"#fdca26\"], [1.0, \"#f0f921\"]], \"type\": \"histogram2dcontour\"}], \"mesh3d\": [{\"colorbar\": {\"outlinewidth\": 0, \"ticks\": \"\"}, \"type\": \"mesh3d\"}], \"parcoords\": [{\"line\": {\"colorbar\": {\"outlinewidth\": 0, \"ticks\": \"\"}}, \"type\": \"parcoords\"}], \"pie\": [{\"automargin\": true, \"type\": \"pie\"}], \"scatter\": [{\"marker\": {\"colorbar\": {\"outlinewidth\": 0, \"ticks\": \"\"}}, \"type\": \"scatter\"}], \"scatter3d\": [{\"line\": {\"colorbar\": {\"outlinewidth\": 0, \"ticks\": \"\"}}, \"marker\": {\"colorbar\": {\"outlinewidth\": 0, \"ticks\": \"\"}}, \"type\": \"scatter3d\"}], \"scattercarpet\": [{\"marker\": {\"colorbar\": {\"outlinewidth\": 0, \"ticks\": \"\"}}, \"type\": \"scattercarpet\"}], \"scattergeo\": [{\"marker\": {\"colorbar\": {\"outlinewidth\": 0, \"ticks\": \"\"}}, \"type\": \"scattergeo\"}], \"scattergl\": [{\"marker\": {\"colorbar\": {\"outlinewidth\": 0, \"ticks\": \"\"}}, \"type\": \"scattergl\"}], \"scattermapbox\": [{\"marker\": {\"colorbar\": {\"outlinewidth\": 0, \"ticks\": \"\"}}, \"type\": \"scattermapbox\"}], \"scatterpolar\": [{\"marker\": {\"colorbar\": {\"outlinewidth\": 0, \"ticks\": \"\"}}, \"type\": \"scatterpolar\"}], \"scatterpolargl\": [{\"marker\": {\"colorbar\": {\"outlinewidth\": 0, \"ticks\": \"\"}}, \"type\": \"scatterpolargl\"}], \"scatterternary\": [{\"marker\": {\"colorbar\": {\"outlinewidth\": 0, \"ticks\": \"\"}}, \"type\": \"scatterternary\"}], \"surface\": [{\"colorbar\": {\"outlinewidth\": 0, \"ticks\": \"\"}, \"colorscale\": [[0.0, \"#0d0887\"], [0.1111111111111111, \"#46039f\"], [0.2222222222222222, \"#7201a8\"], [0.3333333333333333, \"#9c179e\"], [0.4444444444444444, \"#bd3786\"], [0.5555555555555556, \"#d8576b\"], [0.6666666666666666, \"#ed7953\"], [0.7777777777777778, \"#fb9f3a\"], [0.8888888888888888, \"#fdca26\"], [1.0, \"#f0f921\"]], \"type\": \"surface\"}], \"table\": [{\"cells\": {\"fill\": {\"color\": \"#EBF0F8\"}, \"line\": {\"color\": \"white\"}}, \"header\": {\"fill\": {\"color\": \"#C8D4E3\"}, \"line\": {\"color\": \"white\"}}, \"type\": \"table\"}]}, \"layout\": {\"annotationdefaults\": {\"arrowcolor\": \"#2a3f5f\", \"arrowhead\": 0, \"arrowwidth\": 1}, \"coloraxis\": {\"colorbar\": {\"outlinewidth\": 0, \"ticks\": \"\"}}, \"colorscale\": {\"diverging\": [[0, \"#8e0152\"], [0.1, \"#c51b7d\"], [0.2, \"#de77ae\"], [0.3, \"#f1b6da\"], [0.4, \"#fde0ef\"], [0.5, \"#f7f7f7\"], [0.6, \"#e6f5d0\"], [0.7, \"#b8e186\"], [0.8, \"#7fbc41\"], [0.9, \"#4d9221\"], [1, \"#276419\"]], \"sequential\": [[0.0, \"#0d0887\"], [0.1111111111111111, \"#46039f\"], [0.2222222222222222, \"#7201a8\"], [0.3333333333333333, \"#9c179e\"], [0.4444444444444444, \"#bd3786\"], [0.5555555555555556, \"#d8576b\"], [0.6666666666666666, \"#ed7953\"], [0.7777777777777778, \"#fb9f3a\"], [0.8888888888888888, \"#fdca26\"], [1.0, \"#f0f921\"]], \"sequentialminus\": [[0.0, \"#0d0887\"], [0.1111111111111111, \"#46039f\"], [0.2222222222222222, \"#7201a8\"], [0.3333333333333333, \"#9c179e\"], [0.4444444444444444, \"#bd3786\"], [0.5555555555555556, \"#d8576b\"], [0.6666666666666666, \"#ed7953\"], [0.7777777777777778, \"#fb9f3a\"], [0.8888888888888888, \"#fdca26\"], [1.0, \"#f0f921\"]]}, \"colorway\": [\"#636efa\", \"#EF553B\", \"#00cc96\", \"#ab63fa\", \"#FFA15A\", \"#19d3f3\", \"#FF6692\", \"#B6E880\", \"#FF97FF\", \"#FECB52\"], \"font\": {\"color\": \"#2a3f5f\"}, \"geo\": {\"bgcolor\": \"white\", \"lakecolor\": \"white\", \"landcolor\": \"#E5ECF6\", \"showlakes\": true, \"showland\": true, \"subunitcolor\": \"white\"}, \"hoverlabel\": {\"align\": \"left\"}, \"hovermode\": \"closest\", \"mapbox\": {\"style\": \"light\"}, \"paper_bgcolor\": \"white\", \"plot_bgcolor\": \"#E5ECF6\", \"polar\": {\"angularaxis\": {\"gridcolor\": \"white\", \"linecolor\": \"white\", \"ticks\": \"\"}, \"bgcolor\": \"#E5ECF6\", \"radialaxis\": {\"gridcolor\": \"white\", \"linecolor\": \"white\", \"ticks\": \"\"}}, \"scene\": {\"xaxis\": {\"backgroundcolor\": \"#E5ECF6\", \"gridcolor\": \"white\", \"gridwidth\": 2, \"linecolor\": \"white\", \"showbackground\": true, \"ticks\": \"\", \"zerolinecolor\": \"white\"}, \"yaxis\": {\"backgroundcolor\": \"#E5ECF6\", \"gridcolor\": \"white\", \"gridwidth\": 2, \"linecolor\": \"white\", \"showbackground\": true, \"ticks\": \"\", \"zerolinecolor\": \"white\"}, \"zaxis\": {\"backgroundcolor\": \"#E5ECF6\", \"gridcolor\": \"white\", \"gridwidth\": 2, \"linecolor\": \"white\", \"showbackground\": true, \"ticks\": \"\", \"zerolinecolor\": \"white\"}}, \"shapedefaults\": {\"line\": {\"color\": \"#2a3f5f\"}}, \"ternary\": {\"aaxis\": {\"gridcolor\": \"white\", \"linecolor\": \"white\", \"ticks\": \"\"}, \"baxis\": {\"gridcolor\": \"white\", \"linecolor\": \"white\", \"ticks\": \"\"}, \"bgcolor\": \"#E5ECF6\", \"caxis\": {\"gridcolor\": \"white\", \"linecolor\": \"white\", \"ticks\": \"\"}}, \"title\": {\"x\": 0.05}, \"xaxis\": {\"automargin\": true, \"gridcolor\": \"white\", \"linecolor\": \"white\", \"ticks\": \"\", \"title\": {\"standoff\": 15}, \"zerolinecolor\": \"white\", \"zerolinewidth\": 2}, \"yaxis\": {\"automargin\": true, \"gridcolor\": \"white\", \"linecolor\": \"white\", \"ticks\": \"\", \"title\": {\"standoff\": 15}, \"zerolinecolor\": \"white\", \"zerolinewidth\": 2}}}},\n",
       "                        {\"responsive\": true}\n",
       "                    ).then(function(){\n",
       "                            \n",
       "var gd = document.getElementById('92882d7f-054d-4eda-aed0-3d7fb7c7de2c');\n",
       "var x = new MutationObserver(function (mutations, observer) {{\n",
       "        var display = window.getComputedStyle(gd).display;\n",
       "        if (!display || display === 'none') {{\n",
       "            console.log([gd, 'removed!']);\n",
       "            Plotly.purge(gd);\n",
       "            observer.disconnect();\n",
       "        }}\n",
       "}});\n",
       "\n",
       "// Listen for the removal of the full notebook cells\n",
       "var notebookContainer = gd.closest('#notebook-container');\n",
       "if (notebookContainer) {{\n",
       "    x.observe(notebookContainer, {childList: true});\n",
       "}}\n",
       "\n",
       "// Listen for the clearing of the current output cell\n",
       "var outputEl = gd.closest('.output');\n",
       "if (outputEl) {{\n",
       "    x.observe(outputEl, {childList: true});\n",
       "}}\n",
       "\n",
       "                        })\n",
       "                };\n",
       "                });\n",
       "            </script>\n",
       "        </div>"
      ]
     },
     "metadata": {},
     "output_type": "display_data"
    }
   ],
   "source": [
    "immigrationPath = 'resultsdata2/swiss_immigration/20200224/'\n",
    "pysad.cluster_comparison(immigrationPath)"
   ]
  },
  {
   "cell_type": "code",
   "execution_count": null,
   "metadata": {},
   "outputs": [],
   "source": []
  }
 ],
 "metadata": {
  "kernelspec": {
   "display_name": "Python 3",
   "language": "python",
   "name": "python3"
  },
  "language_info": {
   "codemirror_mode": {
    "name": "ipython",
    "version": 3
   },
   "file_extension": ".py",
   "mimetype": "text/x-python",
   "name": "python",
   "nbconvert_exporter": "python",
   "pygments_lexer": "ipython3",
   "version": "3.7.5"
  }
 },
 "nbformat": 4,
 "nbformat_minor": 4
}
