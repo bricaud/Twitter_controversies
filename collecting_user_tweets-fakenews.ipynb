{
 "cells": [
  {
   "cell_type": "code",
   "execution_count": 6,
   "metadata": {},
   "outputs": [],
   "source": [
    "import pandas as pd\n",
    "import json\n",
    "import os\n",
    "import time\n"
   ]
  },
  {
   "cell_type": "code",
   "execution_count": 2,
   "metadata": {},
   "outputs": [],
   "source": [
    "# Import the Twython class\n",
    "from twython import Twython\n",
    "import json\n",
    "\n",
    "# Load credentials from json file\n",
    "with open(\"twitter_credentials.json\", \"r\") as file:\n",
    "    creds = json.load(file)\n",
    "\n",
    "# Instantiate an object\n",
    "python_tweets = Twython(creds['CONSUMER_KEY'], creds['CONSUMER_SECRET'])\n"
   ]
  },
  {
   "cell_type": "code",
   "execution_count": 14,
   "metadata": {},
   "outputs": [],
   "source": [
    "#username = 'templivs'\n",
    "username = 'GilbertCollard'\n",
    "data_path = username + '/'\n",
    "#get_tweets = python_tweets.get_user_timeline(screen_name = username,  \n",
    "#                                           count = 200, include_rts = True)\n",
    "if not os.path.isdir(data_path):\n",
    "    os.mkdir(data_path)"
   ]
  },
  {
   "cell_type": "code",
   "execution_count": 15,
   "metadata": {},
   "outputs": [],
   "source": [
    "def fill_retweet_info(tweet_dic,raw_retweet):\n",
    "    tweet_dic['retweeted_from'].append(raw_retweet['user']['screen_name'])\n",
    "    if raw_retweet['truncated']:\n",
    "        full_text = raw_retweet['extended_tweet']['full_text']\n",
    "    else:\n",
    "        full_text = raw_retweet['full_text']\n",
    "    return tweet_dic, full_text"
   ]
  },
  {
   "cell_type": "code",
   "execution_count": 16,
   "metadata": {},
   "outputs": [],
   "source": [
    "def get_user_tweets(tweet_handle, username,count=200):\n",
    "    # Collect tweets\n",
    "    tweets_dic = {'user': [], 'date': [], 'text': [], 'favorite_count': [], 'retweet_count': [],\n",
    "        'user_mentions': [], 'urls': [], 'geo': [], 'retweeted_from': []}\n",
    "\n",
    "    for raw_tweet in tweet_handle.get_user_timeline(screen_name = username,  \n",
    "                                           count = count, include_rts = True, tweet_mode='extended'):\n",
    "        # Meta data\n",
    "        tweets_dic['user'].append(raw_tweet['user']['screen_name'])\n",
    "        ts = time.strftime('%Y-%m-%d %H:%M:%S', time.strptime(raw_tweet['created_at'],'%a %b %d %H:%M:%S +0000 %Y'))\n",
    "        tweets_dic['date'].append(ts)\n",
    "        tweets_dic['favorite_count'].append(raw_tweet['favorite_count'])\n",
    "        tweets_dic['retweet_count'].append(raw_tweet['retweet_count'])    \n",
    "        tweets_dic['user_mentions'].append([user['screen_name'] for user in raw_tweet['entities']['user_mentions']])\n",
    "        tweets_dic['urls'].append([url['url'] for url in raw_tweet['entities']['urls']])\n",
    "        tweets_dic['geo'].append(raw_tweet['geo'])\n",
    "        \n",
    "        # Handle text and retweet data\n",
    "        if raw_tweet['truncated']:\n",
    "            full_text = raw_tweet['extended_tweet']['full_text']\n",
    "        else:\n",
    "            full_text = raw_tweet['full_text']    \n",
    "        if 'retweeted_status' in raw_tweet:\n",
    "            tweets_dic, full_text = fill_retweet_info(tweets_dic,raw_tweet['retweeted_status'])\n",
    "        else:\n",
    "            tweets_dic['retweeted_from'].append(None)\n",
    "        tweets_dic['text'].append(full_text)\n",
    "    return tweets_dic\n",
    "    "
   ]
  },
  {
   "cell_type": "code",
   "execution_count": 17,
   "metadata": {},
   "outputs": [],
   "source": [
    "def get_mentions(tweet_df):\n",
    "    mention_dic = {}\n",
    "    for idx,tweet in tweet_df.iterrows():\n",
    "        mentions = tweet['user_mentions']\n",
    "        for m in mentions:\n",
    "            if m in mention_dic:\n",
    "                mention_dic[m] += 1\n",
    "            else:\n",
    "                mention_dic[m] = 1\n",
    "    return mention_dic"
   ]
  },
  {
   "cell_type": "code",
   "execution_count": 18,
   "metadata": {},
   "outputs": [],
   "source": [
    "def get_mentions_graph(tweet_df):\n",
    "    mention_df = pd.DataFrame(columns=['user','mention','weight'])\n",
    "    row_list = []\n",
    "    for idx,tweet in tweet_df.iterrows():\n",
    "        user = tweet['user']\n",
    "        mentions = tweet['user_mentions']\n",
    "        for m in mentions:\n",
    "            row_list.append({'user':user,'mention': m,'weight': 1})\n",
    "    mention_df = pd.DataFrame(row_list)\n",
    "    if mention_df.empty:\n",
    "        return None\n",
    "    mention_grouped = mention_df.groupby(['user','mention']).sum()\n",
    "    mention_grouped.reset_index(level=['user', 'mention'], inplace=True)\n",
    "    return mention_grouped"
   ]
  },
  {
   "cell_type": "code",
   "execution_count": 19,
   "metadata": {},
   "outputs": [
    {
     "name": "stdout",
     "output_type": "stream",
     "text": [
      "First user done\n",
      "Using threshold: 3\n",
      "processing mention 0\n",
      "processing mention 1\n",
      "processing mention 2\n",
      "processing mention 3\n",
      "processing mention 4\n",
      "processing mention 5\n",
      "processing mention 6\n",
      "processing mention 7\n",
      "processing mention 8\n",
      "processing mention 9\n",
      "Writing GilbertCollard/ERichoufftz_mentions_t3.csv\n",
      "processing mention 10\n",
      "processing mention 11\n",
      "processing mention 12\n",
      "processing mention 13\n",
      "processing mention 14\n",
      "processing mention 15\n",
      "processing mention 16\n",
      "processing mention 17\n",
      "processing mention 18\n",
      "processing mention 19\n",
      "Writing GilbertCollard/LaMatinaleLCI_mentions_t3.csv\n",
      "processing mention 20\n",
      "processing mention 21\n",
      "processing mention 22\n",
      "Writing GilbertCollard/MLP_officiel_mentions_t3.csv\n",
      "processing mention 23\n",
      "processing mention 24\n",
      "processing mention 25\n",
      "Writing GilbertCollard/NMeizonnet_mentions_t3.csv\n",
      "processing mention 26\n",
      "processing mention 27\n",
      "processing mention 28\n",
      "Writing GilbertCollard/RNational_off_mentions_t3.csv\n",
      "processing mention 29\n",
      "processing mention 30\n",
      "Writing GilbertCollard/SoMabrouk_mentions_t3.csv\n",
      "processing mention 31\n",
      "processing mention 32\n",
      "processing mention 33\n",
      "processing mention 34\n",
      "processing mention 35\n",
      "processing mention 36\n",
      "processing mention 37\n",
      "processing mention 38\n",
      "processing mention 39\n",
      "processing mention 40\n",
      "processing mention 41\n",
      "processing mention 42\n"
     ]
    }
   ],
   "source": [
    "# initial user\n",
    "tweets_dic = get_user_tweets(python_tweets,username,count=200)\n",
    "tweet_df = pd.DataFrame(tweets_dic)\n",
    "mention_grouped = get_mentions_graph(tweet_df)\n",
    "mention_grouped.to_csv(data_path + username + '_mentions.csv')\n",
    "print('First user done')\n",
    "\n",
    "# Threshold for number of mentions\n",
    "thres = 3\n",
    "print('Using threshold:',thres)\n",
    "\n",
    "\n",
    "for idx,row in mention_grouped.iterrows():\n",
    "    print('processing mention',idx)\n",
    "    mention_name = row['mention']\n",
    "    if row['weight'] < thres:\n",
    "        continue\n",
    "    tweets_dic = get_user_tweets(python_tweets,mention_name,count=200)\n",
    "    tweet_df = pd.DataFrame(tweets_dic)\n",
    "    mention_grouped = get_mentions_graph(tweet_df)\n",
    "    if mention_grouped is not None:\n",
    "        mentionfilename = data_path + mention_name + '_mentions' +'_t' +str(thres)+'.csv'\n",
    "        print('Writing',mentionfilename)\n",
    "        mention_grouped.to_csv(mentionfilename)"
   ]
  },
  {
   "cell_type": "code",
   "execution_count": 20,
   "metadata": {},
   "outputs": [
    {
     "name": "stdout",
     "output_type": "stream",
     "text": [
      "GilbertCollard/SoMabrouk_mentions_t3.csv\n",
      "GilbertCollard/MLP_officiel_mentions_t3.csv\n",
      "GilbertCollard/LaMatinaleLCI_mentions_t3.csv\n",
      "GilbertCollard/RNational_off_mentions_t3.csv\n",
      "GilbertCollard/NMeizonnet_mentions_t3.csv\n",
      "GilbertCollard/ERichoufftz_mentions_t3.csv\n"
     ]
    }
   ],
   "source": [
    "import glob\n",
    "\n",
    "edge_df = pd.DataFrame()\n",
    "for filename in glob.glob(data_path + '*_mentions' +'_t' +str(thres)+ '.csv'):\n",
    "    print(filename)\n",
    "    new_edge_df = pd.read_csv(filename)\n",
    "    edge_df = edge_df.append(new_edge_df)\n",
    "    "
   ]
  },
  {
   "cell_type": "code",
   "execution_count": 21,
   "metadata": {},
   "outputs": [
    {
     "name": "stdout",
     "output_type": "stream",
     "text": [
      "Nb of nodes: 283\n",
      "Nb of nodes after removing less connected nodes: 62\n"
     ]
    }
   ],
   "source": [
    "import networkx as nx\n",
    "G = nx.from_pandas_edgelist(edge_df,source='user',target='mention', edge_attr='weight')\n",
    "print('Nb of nodes:',G.number_of_nodes())\n",
    "# Drop\n",
    "remove = [node for node,degree in dict(G.degree()).items() if degree < 2]\n",
    "G.remove_nodes_from(remove)\n",
    "print('Nb of nodes after removing less connected nodes:',G.number_of_nodes())"
   ]
  },
  {
   "cell_type": "code",
   "execution_count": 22,
   "metadata": {},
   "outputs": [
    {
     "name": "stdout",
     "output_type": "stream",
     "text": [
      "Wrote GilbertCollard/GilbertCollard_t3_graph.gexf\n"
     ]
    }
   ],
   "source": [
    "# Save the graph\n",
    "graphfilename = data_path + username + '_t' + str(thres) +'_graph.gexf'\n",
    "nx.write_gexf(G,graphfilename)\n",
    "print('Wrote',graphfilename)"
   ]
  },
  {
   "cell_type": "code",
   "execution_count": null,
   "metadata": {},
   "outputs": [],
   "source": []
  }
 ],
 "metadata": {
  "kernelspec": {
   "display_name": "Python 3",
   "language": "python",
   "name": "python3"
  },
  "language_info": {
   "codemirror_mode": {
    "name": "ipython",
    "version": 3
   },
   "file_extension": ".py",
   "mimetype": "text/x-python",
   "name": "python",
   "nbconvert_exporter": "python",
   "pygments_lexer": "ipython3",
   "version": "3.6.8"
  }
 },
 "nbformat": 4,
 "nbformat_minor": 2
}
