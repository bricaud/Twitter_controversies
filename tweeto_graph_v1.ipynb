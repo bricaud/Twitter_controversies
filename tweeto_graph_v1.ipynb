{
 "cells": [
  {
   "cell_type": "code",
   "execution_count": 1,
   "metadata": {},
   "outputs": [],
   "source": [
    "import pandas as pd\n",
    "import json\n",
    "import os\n",
    "from datetime import date"
   ]
  },
  {
   "cell_type": "markdown",
   "metadata": {},
   "source": [
    "# Collecting the data from Twitter"
   ]
  },
  {
   "cell_type": "code",
   "execution_count": 2,
   "metadata": {},
   "outputs": [],
   "source": [
    "# Import the Twython class\n",
    "from twython import Twython\n",
    "import json\n",
    "\n",
    "# Load credentials from json file\n",
    "with open(\"twitter_credentials.json\", \"r\") as file:\n",
    "    creds = json.load(file)\n",
    "\n",
    "# Instantiate an object\n",
    "python_tweets = Twython(creds['CONSUMER_KEY'], creds['CONSUMER_SECRET'])\n"
   ]
  },
  {
   "cell_type": "code",
   "execution_count": 3,
   "metadata": {
    "scrolled": true
   },
   "outputs": [],
   "source": [
    "import pysad"
   ]
  },
  {
   "cell_type": "code",
   "execution_count": 12,
   "metadata": {},
   "outputs": [
    {
     "data": {
      "text/plain": [
       "<module 'pysad' from '/home/benjamin/Documents/EPFL/Research/sad/sad_tweets/pysad.py'>"
      ]
     },
     "execution_count": 12,
     "metadata": {},
     "output_type": "execute_result"
    }
   ],
   "source": [
    "import importlib\n",
    "importlib.reload(pysad)"
   ]
  },
  {
   "cell_type": "code",
   "execution_count": 42,
   "metadata": {},
   "outputs": [],
   "source": [
    "init_accounts = pysad.initial_accounts()"
   ]
  },
  {
   "cell_type": "code",
   "execution_count": 43,
   "metadata": {},
   "outputs": [
    {
     "data": {
      "text/plain": [
       "['swiss_climate_regular',\n",
       " 'swiss_climate_controversial',\n",
       " 'swiss_immigration',\n",
       " 'french_tech_lesechos']"
      ]
     },
     "execution_count": 43,
     "metadata": {},
     "output_type": "execute_result"
    }
   ],
   "source": [
    "init_accounts.list()"
   ]
  },
  {
   "cell_type": "code",
   "execution_count": 44,
   "metadata": {},
   "outputs": [
    {
     "name": "stdout",
     "output_type": "stream",
     "text": [
      "date string = 20200129\n",
      "Path created: tweetdata/swiss_immigration/\n",
      "Path created: tweetdata/swiss_immigration/20200129/\n",
      "Path created: resultsdata/swiss_immigration/\n",
      "Path created: resultsdata/swiss_immigration/20200129/\n"
     ]
    }
   ],
   "source": [
    "\n",
    "    \n",
    "######Choose a category##############    \n",
    "#category_name = 'swiss_climate_controversial'\n",
    "#category_name = 'swiss_climate_regular'\n",
    "#category_name = 'french_tech_lesechos'\n",
    "category_name = 'swiss_immigration'\n",
    "#####################################\n",
    "\n",
    "username_list = init_accounts.accounts(category_name)\n",
    "\n",
    "# create the path to save the experiment indexed with a date\n",
    "today = date.today()\n",
    "date_string = today.strftime(\"%Y%m%d\")\n",
    "print(\"date string =\", date_string)\n",
    "\n",
    "#date_string = '191128'\n",
    "\n",
    "tweet_data_path_list = ['tweetdata', category_name, date_string]\n",
    "results_data_path_list = ['resultsdata', category_name, date_string]\n",
    "#get_tweets = python_tweets.get_user_timeline(screen_name = username,  \n",
    "#         count = 200, include_rts = True)\n",
    "\n",
    "def initialize_folder(path_folder_list):\n",
    "    folder_concat = ''\n",
    "    for folder in path_folder_list[:-1]:\n",
    "        folder_concat += folder + '/'\n",
    "        if not os.path.isdir(folder_concat):\n",
    "            os.mkdir(folder_concat)\n",
    "            print('Path created:',folder_concat)\n",
    "    # Special treatment for the last folder\n",
    "    folder_concat += path_folder_list[-1] + '/'\n",
    "    if not os.path.isdir(folder_concat):\n",
    "        os.mkdir(folder_concat)\n",
    "        print('Path created:',folder_concat)\n",
    "    else:\n",
    "        for f in os.listdir(folder_concat):\n",
    "            os.remove(os.path.join(folder_concat, f))\n",
    "        print('Cleaned path',folder_concat)\n",
    "    return folder_concat\n",
    "\n",
    "tweet_data_path = initialize_folder(tweet_data_path_list)\n",
    "results_data_path = initialize_folder(results_data_path_list)"
   ]
  },
  {
   "cell_type": "code",
   "execution_count": 45,
   "metadata": {},
   "outputs": [
    {
     "data": {
      "text/plain": [
       "['Kalvingrad1291',\n",
       " 'democratesuisse',\n",
       " 'VigilanceIslam',\n",
       " 'lioneljonson01',\n",
       " 'ChWilhou',\n",
       " 'HunterSThomson2',\n",
       " 'A_Addams_',\n",
       " 'ObservateursCH',\n",
       " 'JuanCandida',\n",
       " 'novopress']"
      ]
     },
     "execution_count": 45,
     "metadata": {},
     "output_type": "execute_result"
    }
   ],
   "source": [
    "username_list"
   ]
  },
  {
   "cell_type": "code",
   "execution_count": 46,
   "metadata": {},
   "outputs": [],
   "source": [
    "min_mentions = 2 # minimal number of mentions of a user to be followed\n",
    "max_day_old = 7 # number max of days in the past\n",
    "exploration_depth = 2 # mention of mention of mention of ... up to exploration depth"
   ]
  },
  {
   "cell_type": "code",
   "execution_count": 47,
   "metadata": {
    "scrolled": false
   },
   "outputs": [
    {
     "name": "stderr",
     "output_type": "stream",
     "text": [
      "\r",
      "  0%|          | 0/10 [00:00<?, ?it/s]"
     ]
    },
    {
     "name": "stdout",
     "output_type": "stream",
     "text": [
      "Threshold set to 2 mentions.\n",
      "Collecting the tweets for the last 7 days.\n",
      "\n",
      "******* Processing users at 0-hop distance *******\n",
      "Collecting the tweets for the last 7 days.\n"
     ]
    },
    {
     "name": "stderr",
     "output_type": "stream",
     "text": [
      " 40%|████      | 4/10 [00:02<00:04,  1.35it/s]"
     ]
    },
    {
     "name": "stdout",
     "output_type": "stream",
     "text": [
      "Twitter API returned error 404 for user lioneljonson01.\n"
     ]
    },
    {
     "name": "stderr",
     "output_type": "stream",
     "text": [
      "100%|██████████| 10/10 [00:09<00:00,  1.03it/s]\n",
      "  0%|          | 0/21 [00:00<?, ?it/s]"
     ]
    },
    {
     "name": "stdout",
     "output_type": "stream",
     "text": [
      "users with empty tweet list or no mention: ['Kalvingrad1291', 'democratesuisse', 'lioneljonson01', 'ObservateursCH', 'JuanCandida', 'novopress']\n",
      "\n",
      "******* Processing users at 1-hop distance *******\n",
      "Collecting the tweets for the last 7 days.\n"
     ]
    },
    {
     "name": "stderr",
     "output_type": "stream",
     "text": [
      "100%|██████████| 21/21 [00:17<00:00,  1.17it/s]"
     ]
    },
    {
     "name": "stdout",
     "output_type": "stream",
     "text": [
      "users with empty tweet list or no mention: []\n",
      "Total number of users collected:\n",
      "194 194\n"
     ]
    },
    {
     "name": "stderr",
     "output_type": "stream",
     "text": [
      "\n"
     ]
    }
   ],
   "source": [
    "total_user_list = pysad.collect_tweets(username_list, tweet_data_path, python_tweets, min_mentions=min_mentions,\n",
    "               max_day_old=max_day_old, exploration_depth=exploration_depth)"
   ]
  },
  {
   "cell_type": "code",
   "execution_count": 48,
   "metadata": {},
   "outputs": [
    {
     "data": {
      "text/plain": [
       "194"
      ]
     },
     "execution_count": 48,
     "metadata": {},
     "output_type": "execute_result"
    }
   ],
   "source": [
    "len(total_user_list)"
   ]
  },
  {
   "cell_type": "markdown",
   "metadata": {},
   "source": [
    "# Loading the saved data into an edge table"
   ]
  },
  {
   "cell_type": "code",
   "execution_count": 49,
   "metadata": {},
   "outputs": [
    {
     "name": "stdout",
     "output_type": "stream",
     "text": [
      "tweetdata/swiss_immigration/20200129/SOSMedFrance_mentions_t2.json with 3 tweets.\n",
      "tweetdata/swiss_immigration/20200129/SouSonOeil_mentions_t2.json with 42 tweets.\n",
      "tweetdata/swiss_immigration/20200129/docteurpepe_mentions_t2.json with 69 tweets.\n",
      "tweetdata/swiss_immigration/20200129/Lulu_skyraptor_mentions_t2.json with 44 tweets.\n",
      "tweetdata/swiss_immigration/20200129/SOS_Racisme_mentions_t2.json with 14 tweets.\n",
      "tweetdata/swiss_immigration/20200129/ChWilhou_mentions_t2.json with 62 tweets.\n",
      "tweetdata/swiss_immigration/20200129/MarleneSchiappa_mentions_t2.json with 52 tweets.\n",
      "tweetdata/swiss_immigration/20200129/Nguyen11804422_mentions_t2.json with 74 tweets.\n",
      "tweetdata/swiss_immigration/20200129/CretinusAlp_mentions_t2.json with 61 tweets.\n",
      "tweetdata/swiss_immigration/20200129/Bellica_fr_mentions_t2.json with 14 tweets.\n",
      "tweetdata/swiss_immigration/20200129/IceWind86585905_mentions_t2.json with 78 tweets.\n",
      "tweetdata/swiss_immigration/20200129/A_Addams__mentions_t2.json with 42 tweets.\n",
      "tweetdata/swiss_immigration/20200129/RTSinfo_mentions_t2.json with 34 tweets.\n",
      "tweetdata/swiss_immigration/20200129/RedPilule_mentions_t2.json with 124 tweets.\n",
      "tweetdata/swiss_immigration/20200129/Sakura66483965_mentions_t2.json with 96 tweets.\n",
      "tweetdata/swiss_immigration/20200129/lemondefr_mentions_t2.json with 13 tweets.\n",
      "tweetdata/swiss_immigration/20200129/regissicarius_mentions_t2.json with 93 tweets.\n",
      "tweetdata/swiss_immigration/20200129/tiremont_mentions_t2.json with 70 tweets.\n",
      "tweetdata/swiss_immigration/20200129/HunterSThomson2_mentions_t2.json with 90 tweets.\n",
      "tweetdata/swiss_immigration/20200129/VigilanceIslam_mentions_t2.json with 7 tweets.\n",
      "tweetdata/swiss_immigration/20200129/sidounours_mentions_t2.json with 77 tweets.\n",
      "tweetdata/swiss_immigration/20200129/Chatmania_misty_mentions_t2.json with 91 tweets.\n",
      "tweetdata/swiss_immigration/20200129/realGrouik_mentions_t2.json with 34 tweets.\n",
      "tweetdata/swiss_immigration/20200129/ValentiniBack_mentions_t2.json with 71 tweets.\n",
      "tweetdata/swiss_immigration/20200129/JeanDissidant_mentions_t2.json with 16 tweets.\n"
     ]
    }
   ],
   "source": [
    "import glob\n",
    "\n",
    "edge_df = pd.DataFrame()\n",
    "for filename in glob.glob(tweet_data_path + '*_mentions' +'_t' +str(min_mentions)+ '.json'):\n",
    "    new_edge_df = pd.read_json(filename)\n",
    "    print('{} with {} tweets.'.format(filename,len(new_edge_df)))\n",
    "    edge_df = edge_df.append(new_edge_df)\n",
    "edge_df.reset_index(drop=True, inplace=True)"
   ]
  },
  {
   "cell_type": "code",
   "execution_count": 50,
   "metadata": {},
   "outputs": [
    {
     "name": "stdout",
     "output_type": "stream",
     "text": [
      "Creating the graph from the edge list\n",
      "Field \"hashtags\" of class <class 'list'> converted to json string\n",
      "Field \"date\" of class <class 'list'> converted to json string\n",
      "Field \"urls\" of class <class 'list'> converted to json string\n",
      "Field \"text\" of class <class 'list'> converted to json string\n",
      "Nb of nodes: 1038\n",
      "Nb of nodes after removing nodes with degree strictly smaller than 2: 191\n",
      "removed 0 isolated nodes.\n"
     ]
    }
   ],
   "source": [
    "DEGREE_MIN = 2 # Minimal number of connections in the graph\n",
    "\n",
    "G = pysad.graph_from_edgeslist(edge_df,DEGREE_MIN)\n",
    "G.name = category_name\n",
    "G.date = date_string"
   ]
  },
  {
   "cell_type": "markdown",
   "metadata": {},
   "source": [
    "## Community detection and save full graph"
   ]
  },
  {
   "cell_type": "code",
   "execution_count": 51,
   "metadata": {},
   "outputs": [
    {
     "name": "stdout",
     "output_type": "stream",
     "text": [
      "Communities saved on the graph as node attributes.\n",
      "Nb of partitions: 5\n"
     ]
    }
   ],
   "source": [
    "G,clusters = pysad.detect_communities(G)"
   ]
  },
  {
   "cell_type": "code",
   "execution_count": 52,
   "metadata": {},
   "outputs": [
    {
     "name": "stdout",
     "output_type": "stream",
     "text": [
      "Wrote resultsdata/swiss_immigration/20200129/globalgraph_t2_md2_graph.gexf\n"
     ]
    }
   ],
   "source": [
    "# Save the graph\n",
    "import networkx as nx\n",
    "\n",
    "graphname = 'globalgraph'\n",
    "\n",
    "graphfilename = results_data_path + graphname + '_t' + str(min_mentions) + '_md' + str(DEGREE_MIN) +'_graph.gexf'\n",
    "nx.write_gexf(G,graphfilename)\n",
    "#nx.write_yaml(G,graphfilename)\n",
    "#nx.write_pajek(G,graphfilename)\n",
    "#nx.node_link_data(G,graphfilename)\n",
    "print('Wrote',graphfilename)"
   ]
  },
  {
   "cell_type": "markdown",
   "metadata": {},
   "source": [
    "## Analyze clusters"
   ]
  },
  {
   "cell_type": "markdown",
   "metadata": {},
   "source": [
    "## Automatic processing of all clusters"
   ]
  },
  {
   "cell_type": "code",
   "execution_count": 53,
   "metadata": {},
   "outputs": [
    {
     "name": "stdout",
     "output_type": "stream",
     "text": [
      "Data saved to resultsdata/swiss_immigration/20200129/cluster0_infos.xlsx\n",
      "Graph saved to resultsdata/swiss_immigration/20200129/cluster0graph.gexf\n",
      "Data saved to resultsdata/swiss_immigration/20200129/cluster1_infos.xlsx\n",
      "Graph saved to resultsdata/swiss_immigration/20200129/cluster1graph.gexf\n",
      "Data saved to resultsdata/swiss_immigration/20200129/cluster2_infos.xlsx\n",
      "Graph saved to resultsdata/swiss_immigration/20200129/cluster2graph.gexf\n",
      "Data saved to resultsdata/swiss_immigration/20200129/cluster3_infos.xlsx\n",
      "Graph saved to resultsdata/swiss_immigration/20200129/cluster3graph.gexf\n",
      "Data saved to resultsdata/swiss_immigration/20200129/cluster4_infos.xlsx\n",
      "Graph saved to resultsdata/swiss_immigration/20200129/cluster4graph.gexf\n"
     ]
    }
   ],
   "source": [
    "for c_id in clusters:\n",
    "    cgraph = clusters[c_id]\n",
    "    cgraph = pysad.cluster_attributes(cgraph)\n",
    "    table_dic = pysad.cluster_tables(cgraph)\n",
    "    cluster_filename = results_data_path + 'cluster' + str(c_id)\n",
    "    pysad.save_excel(table_dic,cluster_filename + '_infos.xlsx')\n",
    "    pysad.save_graph(cgraph,cluster_filename + 'graph.gexf')"
   ]
  },
  {
   "cell_type": "code",
   "execution_count": null,
   "metadata": {},
   "outputs": [],
   "source": []
  },
  {
   "cell_type": "code",
   "execution_count": null,
   "metadata": {},
   "outputs": [],
   "source": []
  }
 ],
 "metadata": {
  "kernelspec": {
   "display_name": "Python 3",
   "language": "python",
   "name": "python3"
  },
  "language_info": {
   "codemirror_mode": {
    "name": "ipython",
    "version": 3
   },
   "file_extension": ".py",
   "mimetype": "text/x-python",
   "name": "python",
   "nbconvert_exporter": "python",
   "pygments_lexer": "ipython3",
   "version": "3.6.9"
  }
 },
 "nbformat": 4,
 "nbformat_minor": 2
}
