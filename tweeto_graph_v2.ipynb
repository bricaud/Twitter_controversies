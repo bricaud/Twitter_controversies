{
 "cells": [
  {
   "cell_type": "code",
   "execution_count": null,
   "metadata": {},
   "outputs": [],
   "source": [
    "import pandas as pd\n",
    "#import json\n",
    "from datetime import date"
   ]
  },
  {
   "cell_type": "markdown",
   "metadata": {},
   "source": [
    "# Collecting the data from Twitter"
   ]
  },
  {
   "cell_type": "code",
   "execution_count": null,
   "metadata": {},
   "outputs": [],
   "source": [
    "# Import the Twython class\n",
    "from twython import Twython\n",
    "import json\n",
    "\n",
    "# Load credentials from json file\n",
    "with open(\"twitter_credentials.json\", \"r\") as file:\n",
    "    creds = json.load(file)\n",
    "\n",
    "# Instantiate an object\n",
    "python_tweets = Twython(creds['CONSUMER_KEY'], creds['CONSUMER_SECRET'])\n"
   ]
  },
  {
   "cell_type": "code",
   "execution_count": null,
   "metadata": {
    "scrolled": true
   },
   "outputs": [],
   "source": [
    "import pysad\n",
    "import pysad.utils\n",
    "import pysad.collect"
   ]
  },
  {
   "cell_type": "code",
   "execution_count": null,
   "metadata": {},
   "outputs": [],
   "source": [
    "import importlib\n",
    "importlib.reload(pysad.collect)"
   ]
  },
  {
   "cell_type": "code",
   "execution_count": null,
   "metadata": {},
   "outputs": [],
   "source": [
    "init_accounts = pysad.utils.initial_accounts()"
   ]
  },
  {
   "cell_type": "code",
   "execution_count": null,
   "metadata": {},
   "outputs": [],
   "source": [
    "init_accounts.list()"
   ]
  },
  {
   "cell_type": "code",
   "execution_count": null,
   "metadata": {},
   "outputs": [],
   "source": [
    "######Choose a category##############    \n",
    "#category_name = 'swiss_climate_controversial'\n",
    "#category_name = 'swiss_climate_regular'\n",
    "#category_name = 'french_tech_lesechos'\n",
    "#category_name = 'swiss_immigration'\n",
    "#category_name = 'swiss_immigration2'\n",
    "#category_name = 'debat_burqa'\n",
    "category_name = 'hackathlon'\n",
    "category_name = 'hackathlon_popular'\n",
    "category_name = 'hackathlon_reddit'\n",
    "category_name = 'crevecoeur'\n",
    "category_name = 'voat'\n",
    "#category_name = 'hackathlon_missingtweets'\n",
    "\n",
    "#####################################\n",
    "\n",
    "username_list = init_accounts.accounts(category_name)\n",
    "\n",
    "# create the path to save the experiment indexed with the date of today\n",
    "today = date.today()\n",
    "date_string = today.strftime(\"%Y%m%d\")\n",
    "print(\"date string =\", date_string)\n",
    "\n",
    "tweet_data_path_list = ['../tweetdata', category_name, date_string]\n",
    "results_data_path_list = ['../resultsdata2', category_name, date_string]\n"
   ]
  },
  {
   "cell_type": "code",
   "execution_count": null,
   "metadata": {},
   "outputs": [],
   "source": [
    "tweet_data_path = ''.join(tweet_data_path_list)\n",
    "results_data_path = ''.join(results_data_path_list)"
   ]
  },
  {
   "cell_type": "code",
   "execution_count": null,
   "metadata": {},
   "outputs": [],
   "source": [
    "# Initialize folders (create or clean them if they exist)\n",
    "# Set erase=False if you need to keep the previous collection\n",
    "tweet_data_path = pysad.utils.initialize_folder(tweet_data_path_list, erase=False)\n",
    "results_data_path = pysad.utils.initialize_folder(results_data_path_list, erase=False)"
   ]
  },
  {
   "cell_type": "code",
   "execution_count": null,
   "metadata": {},
   "outputs": [],
   "source": [
    "# If the list of users is too large:\n",
    "# Keep a random subset of the list of users\n",
    "import random\n",
    "if len(username_list)>=200:\n",
    "    users_list = random.sample(username_list,len(username_list)//10)\n",
    "else:\n",
    "    users_list = username_list\n",
    "print('Number of users', len(users_list))"
   ]
  },
  {
   "cell_type": "code",
   "execution_count": null,
   "metadata": {},
   "outputs": [],
   "source": [
    "min_mentions = 2 # minimal number of mentions of a user to be followed\n",
    "max_day_old = 90 # number max of days in the past\n",
    "exploration_depth = 1 # mention of mention of mention of ... up to exploration depth"
   ]
  },
  {
   "cell_type": "code",
   "execution_count": null,
   "metadata": {},
   "outputs": [],
   "source": [
    "import importlib\n",
    "importlib.reload(pysad.collect)"
   ]
  },
  {
   "cell_type": "code",
   "execution_count": null,
   "metadata": {
    "scrolled": false
   },
   "outputs": [],
   "source": [
    "total_user_list = pysad.collect.collect_tweets(users_list, tweet_data_path, python_tweets, min_mentions=min_mentions,\n",
    "               max_day_old=max_day_old, exploration_depth=exploration_depth)"
   ]
  },
  {
   "cell_type": "code",
   "execution_count": null,
   "metadata": {},
   "outputs": [],
   "source": [
    "print('Total number of users mentioned:',len(total_user_list))"
   ]
  },
  {
   "cell_type": "markdown",
   "metadata": {},
   "source": [
    "# Loading the saved data into an edge table"
   ]
  },
  {
   "cell_type": "code",
   "execution_count": null,
   "metadata": {},
   "outputs": [],
   "source": [
    "import pysad.graph\n",
    "import pysad.clusters"
   ]
  },
  {
   "cell_type": "code",
   "execution_count": null,
   "metadata": {},
   "outputs": [],
   "source": [
    "print('Loading edge data...')\n",
    "edge_df = pysad.graph.load_collected_data(tweet_data_path, graph_object='edge')\n",
    "print('Loading node data...')\n",
    "node_df = pysad.graph.load_collected_data(tweet_data_path, graph_object='node')\n",
    "#node_df = node_df[['user','name','user_details','all_hashtags']]\n",
    "#node_df.drop_duplicates(subset='user', inplace=True)\n",
    "#node_df.set_index('user', inplace=True)\n",
    "node_df = pysad.graph.reshape_node_data(node_df)"
   ]
  },
  {
   "cell_type": "markdown",
   "metadata": {},
   "source": [
    "## Creating the graph"
   ]
  },
  {
   "cell_type": "code",
   "execution_count": null,
   "metadata": {},
   "outputs": [],
   "source": [
    "import importlib\n",
    "importlib.reload(pysad.graph)\n",
    "importlib.reload(pysad.collect)"
   ]
  },
  {
   "cell_type": "code",
   "execution_count": null,
   "metadata": {},
   "outputs": [],
   "source": [
    "MIN_WEIGHT = 2\n",
    "MIN_DEGREE = 2 # Minimal number of connections in the graph\n",
    "\n",
    "G = pysad.graph.graph_from_edgeslist(edge_df, MIN_WEIGHT)\n",
    "#G = pysad.graph.graph_from_edgeslist(df_pop,DEGREE_MIN)\n",
    "G = pysad.graph.add_node_attributes(G,node_df)\n",
    "G = pysad.graph.reduce_graph(G,MIN_DEGREE)\n",
    "# Warning, graph properties are not saved by networkx in gexf files except graph name\n",
    "G.graph['end_date'] = max(edge_df['date']).strftime(\"%d/%m/%Y\") \n",
    "G.graph['start_date'] = min(edge_df['date']).strftime(\"%d/%m/%Y\")\n",
    "G.graph['name'] = category_name + ' ' + G.graph['start_date'] + ' - ' + G.graph['end_date'] \n",
    "print('Period from {} to {}.'.format(G.graph['start_date'],G.graph['end_date']))"
   ]
  },
  {
   "cell_type": "code",
   "execution_count": null,
   "metadata": {},
   "outputs": [],
   "source": [
    "# Complete the info of the nodes not collected\n",
    "nodes_missing_info = [node for node,data in G.nodes(data=True) if 'name' not in data]\n",
    "print('Number of nodes with missing info:',len(nodes_missing_info))"
   ]
  },
  {
   "cell_type": "code",
   "execution_count": null,
   "metadata": {
    "scrolled": true
   },
   "outputs": [],
   "source": [
    "nodeinfo_df = pd.DataFrame()\n",
    "for node in nodes_missing_info:\n",
    "    print('collecting info for',node)\n",
    "    edgeinfo,nodeinfo = pysad.collect.collect_user_data(node,python_tweets,max_day_old)\n",
    "    nodeinfo_df = nodeinfo_df.append(nodeinfo)\n",
    "#nodeinfo_df = nodeinfo_df[['user','name','user_details','all_hashtags']]\n",
    "#nodeinfo_df.drop_duplicates(subset='user', inplace=True)\n",
    "#nodeinfo_df.set_index('user', inplace=True)\n",
    "nodeinfo_df = pysad.graph.reshape_node_data(nodeinfo_df)"
   ]
  },
  {
   "cell_type": "code",
   "execution_count": null,
   "metadata": {},
   "outputs": [],
   "source": [
    "#nodeinfo_df = pysad.graph.reshape_node_data(nodeinfo_df)\n",
    "G = pysad.graph.add_node_attributes(G,nodeinfo_df)"
   ]
  },
  {
   "cell_type": "code",
   "execution_count": null,
   "metadata": {},
   "outputs": [],
   "source": [
    "# Check intergity\n",
    "i=0\n",
    "for node,data in G.nodes(data=True):\n",
    "    if 'name' not in data:\n",
    "        print('Missing information for',node)"
   ]
  },
  {
   "cell_type": "markdown",
   "metadata": {},
   "source": [
    "## Community detection to get the clusters"
   ]
  },
  {
   "cell_type": "code",
   "execution_count": null,
   "metadata": {},
   "outputs": [],
   "source": [
    "import importlib\n",
    "importlib.reload(pysad.clusters)\n",
    "importlib.reload(pysad.graph)"
   ]
  },
  {
   "cell_type": "code",
   "execution_count": null,
   "metadata": {},
   "outputs": [],
   "source": [
    "G,clusters = pysad.graph.detect_communities(G)\n",
    "G.nb_communities = len(clusters)\n",
    "#c_connectivity = pysad.clusters.cluster_connectivity(G)"
   ]
  },
  {
   "cell_type": "code",
   "execution_count": null,
   "metadata": {},
   "outputs": [],
   "source": [
    "G = pysad.graph.remove_small_communities(G,clusters,min_size=10)"
   ]
  },
  {
   "cell_type": "code",
   "execution_count": null,
   "metadata": {},
   "outputs": [],
   "source": [
    "# Save the graph\n",
    "import networkx as nx\n",
    "\n",
    "# Save as gexf file\n",
    "graphname = 'graph'\n",
    "graphfilename = results_data_path + graphname + '_t' + str(min_mentions) + '_md' + str(MIN_DEGREE) +'_graph.gexf'\n",
    "jsongraphfilename = results_data_path + graphname + '_t' + str(min_mentions) + '_md' + str(MIN_DEGREE) +'_graph.json'\n",
    "nx.write_gexf(G,graphfilename)\n",
    "print('Wrote',graphfilename)\n",
    "\n",
    "# Save as json file\n",
    "Gnld = nx.readwrite.json_graph.node_link_data(G)\n",
    "with open(jsongraphfilename, 'w') as outfile:\n",
    "    json.dump(Gnld, outfile)\n",
    "print('Wrote',jsongraphfilename)"
   ]
  },
  {
   "cell_type": "code",
   "execution_count": null,
   "metadata": {},
   "outputs": [],
   "source": [
    "#c_connectivity"
   ]
  },
  {
   "cell_type": "markdown",
   "metadata": {},
   "source": [
    "## Analyze clusters"
   ]
  },
  {
   "cell_type": "code",
   "execution_count": null,
   "metadata": {},
   "outputs": [],
   "source": [
    "import importlib\n",
    "importlib.reload(pysad.clusters)"
   ]
  },
  {
   "cell_type": "code",
   "execution_count": null,
   "metadata": {},
   "outputs": [],
   "source": []
  },
  {
   "cell_type": "markdown",
   "metadata": {},
   "source": [
    "## Automatic processing of all clusters"
   ]
  },
  {
   "cell_type": "code",
   "execution_count": null,
   "metadata": {
    "scrolled": true
   },
   "outputs": [],
   "source": [
    "# Extracting the data from the clusters\n",
    "cluster_info_dic = {}\n",
    "for c_id in clusters:\n",
    "    cgraph = clusters[c_id]\n",
    "    if cgraph.number_of_nodes()==0: #in case a cluster has been removed\n",
    "        cluster_info_dic[c_id] = {}\n",
    "        continue\n",
    "    cgraph = pysad.clusters.cluster_attributes(cgraph)\n",
    "    table_dic = pysad.clusters.cluster_tables(cgraph)\n",
    "    #node_details = \n",
    "    cluster_filename = results_data_path + 'cluster' + str(c_id)\n",
    "    cluster_info_dic[c_id] = {}\n",
    "    cluster_info_dic[c_id]['info_table'] = table_dic\n",
    "    #cluster_info_dic[c_id]['user_details'] = node_details\n",
    "    cluster_info_dic[c_id]['filename'] = cluster_filename    "
   ]
  },
  {
   "cell_type": "code",
   "execution_count": null,
   "metadata": {},
   "outputs": [],
   "source": [
    "# Adding global infos\n",
    "# keywords\n",
    "corpus = pysad.clusters.get_corpus(cluster_info_dic)\n",
    "keyword_dic = pysad.clusters.tfidf(corpus)\n",
    "# save in the cluster info dic\n",
    "for c_id in clusters:\n",
    "    if clusters[c_id].number_of_nodes()>0:\n",
    "        cluster_info_dic[c_id]['info_table']['keywords'] = keyword_dic[c_id]"
   ]
  },
  {
   "cell_type": "code",
   "execution_count": null,
   "metadata": {},
   "outputs": [],
   "source": [
    "# gathering global info\n",
    "# Saving in excel files\n",
    "for c_id in cluster_info_dic:\n",
    "    if not cluster_info_dic[c_id]:\n",
    "        continue\n",
    "    info_table = cluster_info_dic[c_id]['info_table']\n",
    "    cluster_general_info = {'cluster id': c_id, 'Nb users': clusters[c_id].number_of_nodes(), \n",
    "                           'Nb of tweets':clusters[c_id].size(weight='weight'),\n",
    "                           'Start date': str(G.graph['start_date']),\n",
    "                           'End date': str(G.graph['end_date']),\n",
    "                           'Search topic': category_name}\n",
    "                           #'cluster connectivity': c_connectivity[c_id]}\n",
    "    cluster_general_df = pd.DataFrame.from_dict([cluster_general_info])\n",
    "    #info_table = {'cluster':cluster_general_df, **info_table}\n",
    "    sheet1 = pd.concat([cluster_general_df,info_table['hashtags'],info_table['keywords']],axis=1)\n",
    "    tweet_table = info_table['text']\n",
    "    #user_table = \n",
    "    cluster_indicators = pd.DataFrame([pysad.clusters.compute_cluster_indicators(clusters[c_id])])\n",
    "    excel_data = {'cluster':sheet1, 'tweets':tweet_table, 'indicators': cluster_indicators, 'users': node_df}\n",
    "    #excel_data = info_table\n",
    "    pysad.clusters.save_excel(excel_data,cluster_info_dic[c_id]['filename'] + '_infos.xlsx', table_format='Fanny')\n",
    "    pysad.graph.save_graph(clusters[c_id],cluster_info_dic[c_id]['filename'] + 'graph.gexf')"
   ]
  },
  {
   "cell_type": "markdown",
   "metadata": {},
   "source": [
    "## Saving clusters info to be displayed with the graph"
   ]
  },
  {
   "cell_type": "code",
   "execution_count": null,
   "metadata": {},
   "outputs": [],
   "source": [
    "# Writing clusters info to the graph\n",
    "G = pysad.clusters.clutersprop2graph(G,cluster_info_dic,clusters)"
   ]
  },
  {
   "cell_type": "code",
   "execution_count": null,
   "metadata": {},
   "outputs": [],
   "source": [
    "# Save the graph as a json file\n",
    "import networkx as nx\n",
    "\n",
    "graphname = 'graph'\n",
    "jsongraphfilename = results_data_path + graphname + '_t' + str(min_mentions) + '_md' + str(MIN_DEGREE) +'_graph.json'\n",
    "\n",
    "Gnld = nx.readwrite.json_graph.node_link_data(G)\n",
    "with open(jsongraphfilename, 'w') as outfile:\n",
    "    json.dump(Gnld, outfile)\n",
    "print('Wrote',jsongraphfilename)"
   ]
  },
  {
   "cell_type": "code",
   "execution_count": null,
   "metadata": {},
   "outputs": [],
   "source": [
    "# save clusters info as a json file\n",
    "clusterinfotoviz = G.graph['clusters']\n",
    "jsonfilename = results_data_path + graphname + '_t' + str(min_mentions) + '_md' + str(MIN_DEGREE) +'_clusters.json'\n",
    "\n",
    "with open(jsonfilename, 'w') as outfile:\n",
    "    json.dump(clusterinfotoviz, outfile)\n",
    "print('Wrote',jsonfilename)"
   ]
  },
  {
   "cell_type": "code",
   "execution_count": null,
   "metadata": {},
   "outputs": [],
   "source": []
  }
 ],
 "metadata": {
  "kernelspec": {
   "display_name": "Python 3",
   "language": "python",
   "name": "python3"
  },
  "language_info": {
   "codemirror_mode": {
    "name": "ipython",
    "version": 3
   },
   "file_extension": ".py",
   "mimetype": "text/x-python",
   "name": "python",
   "nbconvert_exporter": "python",
   "pygments_lexer": "ipython3",
   "version": "3.6.9"
  }
 },
 "nbformat": 4,
 "nbformat_minor": 2
}
