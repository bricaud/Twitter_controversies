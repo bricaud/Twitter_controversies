{
 "cells": [
  {
   "cell_type": "code",
   "execution_count": 1,
   "metadata": {},
   "outputs": [],
   "source": [
    "import pandas as pd\n",
    "import json\n",
    "import os\n",
    "from datetime import date"
   ]
  },
  {
   "cell_type": "markdown",
   "metadata": {},
   "source": [
    "# Collecting the data from Twitter"
   ]
  },
  {
   "cell_type": "code",
   "execution_count": 2,
   "metadata": {},
   "outputs": [],
   "source": [
    "# Import the Twython class\n",
    "from twython import Twython\n",
    "import json\n",
    "\n",
    "# Load credentials from json file\n",
    "with open(\"twitter_credentials.json\", \"r\") as file:\n",
    "    creds = json.load(file)\n",
    "\n",
    "# Instantiate an object\n",
    "python_tweets = Twython(creds['CONSUMER_KEY'], creds['CONSUMER_SECRET'])\n"
   ]
  },
  {
   "cell_type": "code",
   "execution_count": 6,
   "metadata": {
    "scrolled": true
   },
   "outputs": [],
   "source": [
    "import pysad"
   ]
  },
  {
   "cell_type": "code",
   "execution_count": 76,
   "metadata": {},
   "outputs": [
    {
     "data": {
      "text/plain": [
       "<module 'pysad' from '/home/benjamin/Documents/EPFL/Research/sad/sad_tweets/pysad.py'>"
      ]
     },
     "execution_count": 76,
     "metadata": {},
     "output_type": "execute_result"
    }
   ],
   "source": [
    "import importlib\n",
    "importlib.reload(pysad)"
   ]
  },
  {
   "cell_type": "code",
   "execution_count": 45,
   "metadata": {},
   "outputs": [],
   "source": [
    "init_accounts = pysad.initial_accounts()"
   ]
  },
  {
   "cell_type": "code",
   "execution_count": 46,
   "metadata": {},
   "outputs": [
    {
     "data": {
      "text/plain": [
       "['swiss_climate_regular',\n",
       " 'swiss_climate_controversial',\n",
       " 'swiss_immigration',\n",
       " 'french_tech_lesechos']"
      ]
     },
     "execution_count": 46,
     "metadata": {},
     "output_type": "execute_result"
    }
   ],
   "source": [
    "init_accounts.list()"
   ]
  },
  {
   "cell_type": "raw",
   "metadata": {},
   "source": [
    "# Lines used to create the json file of initial users\n",
    "\n",
    "#username = 'templivs'\n",
    "#username_list  = ['GilbertCollard','dav_dec','Carbongate','bcassoret',\n",
    "#                  'Electroversenet','thinkfree55', 'KlassLib','sauvonsleclimat']\n",
    "\n",
    "swiss_climate_controversial = ['francisrichard','MazdaArtaxerxes','templivs','prontipronto',\n",
    "                'Chabadalala','cocktail2Funk','HopitalC',\n",
    "                'riva_vitale','Remifasol57','AitiDouze', 'QAnonAustria1', 'gotteswerk2411']\n",
    "\n",
    "swiss_climate_regular = ['KlimaschutzCH', 'GrueneCH', 'proclimCH', 'EperonP', 'MathiasTemujin',\n",
    "                  'klimastreik', 'AlimEquitables', 'ProNaturaSuisse', 'vertliberaux', 'Munsterma',\n",
    "                  'bourg_d', 'LesVertsSuisses', 'ClimatSuisse', 'gpsuisse', 'IliasPanchard', 'ATE_Suisse']\n",
    "\n",
    "swiss_immigration = ['Kalvingrad1291','democratesuisse','VigilanceIslam','lioneljonson01','ChWilhou',\n",
    "               'HunterSThomson2','A_Addams_','ObservateursCH','JuanCandida','novopress']\n",
    "\n",
    "# tech found at https://www.lesechos.fr/2016/06/twitter-15-comptes-dexperts-a-suivre-210636\n",
    "tech = ['fwred','Alban_Jarry','jdomerchet','DenisCosnard','Plaigneau','roxannevarza','LouisaMesnard',\n",
    "       'GGibault','Nicolas_Colin']\n",
    "\n",
    "accounts_dic = {}\n",
    "accounts_dic['swiss_climate_regular'] = swiss_climate_regular\n",
    "accounts_dic['swiss_climate_controversial'] = swiss_climate_controversial\n",
    "accounts_dic['swiss_immigration'] = immigration\n",
    "accounts_dic['french_tech_lesechos'] = tech\n",
    "with open('initial_accounts.txt', 'w') as outfile:\n",
    "    json.dump(accounts_dic, outfile)"
   ]
  },
  {
   "cell_type": "code",
   "execution_count": 162,
   "metadata": {},
   "outputs": [
    {
     "name": "stdout",
     "output_type": "stream",
     "text": [
      "date string = 20200120\n",
      "Path created: swiss_climate_regular\n",
      "Path created: swiss_climate_regular/20200120/\n"
     ]
    }
   ],
   "source": [
    "\n",
    "    \n",
    "######Choose a category##############    \n",
    "#category_name = 'swiss_climate_controversial'\n",
    "category_name = 'swiss_climate_regular'\n",
    "#category_name = 'french_tech_lesechos'\n",
    "#category_name = 'swiss_immigration'\n",
    "#####################################\n",
    "\n",
    "username_list = init_accounts.accounts(category_name)\n",
    "\n",
    "# create the path to save the experiment indexed with a date\n",
    "today = date.today()\n",
    "date_string = today.strftime(\"%Y%m%d\")\n",
    "print(\"date string =\", date_string)\n",
    "\n",
    "#date_string = '191128'\n",
    "\n",
    "data_path = category_name + '/' + date_string+ '/'\n",
    "#get_tweets = python_tweets.get_user_timeline(screen_name = username,  \n",
    "#                                           count = 200, include_rts = True)\n",
    "if not os.path.isdir(category_name):\n",
    "    os.mkdir(category_name)\n",
    "    print('Path created:',category_name)\n",
    "if not os.path.isdir(data_path):\n",
    "    os.mkdir(data_path)\n",
    "    print('Path created:',data_path)"
   ]
  },
  {
   "cell_type": "code",
   "execution_count": 163,
   "metadata": {},
   "outputs": [],
   "source": [
    "min_mentions = 2 # minimal number of mentions of a user to be followed\n",
    "max_day_old = 7 # number max of days in the past\n",
    "exploration_depth = 3 # mention of mention of mention of ... up to exploration depth"
   ]
  },
  {
   "cell_type": "code",
   "execution_count": 164,
   "metadata": {
    "scrolled": false
   },
   "outputs": [
    {
     "name": "stderr",
     "output_type": "stream",
     "text": [
      "\r",
      "  0%|          | 0/16 [00:00<?, ?it/s]"
     ]
    },
    {
     "name": "stdout",
     "output_type": "stream",
     "text": [
      "Threshold set to 2 mentions.\n",
      "Collecting the tweets for the last 7 days.\n",
      "\n",
      "******* Processing users at 0-hop distance *******\n",
      "Collecting the tweets for the last 7 days.\n"
     ]
    },
    {
     "name": "stderr",
     "output_type": "stream",
     "text": [
      " 25%|██▌       | 4/16 [00:03<00:10,  1.12it/s]"
     ]
    },
    {
     "name": "stdout",
     "output_type": "stream",
     "text": [
      "Empty tweet list. Processing stopped for user  EperonP\n"
     ]
    },
    {
     "name": "stderr",
     "output_type": "stream",
     "text": [
      "\r",
      " 31%|███▏      | 5/16 [00:04<00:09,  1.15it/s]"
     ]
    },
    {
     "name": "stdout",
     "output_type": "stream",
     "text": [
      "Empty tweet list. Processing stopped for user  MathiasTemujin\n"
     ]
    },
    {
     "name": "stderr",
     "output_type": "stream",
     "text": [
      " 44%|████▍     | 7/16 [00:05<00:07,  1.19it/s]"
     ]
    },
    {
     "name": "stdout",
     "output_type": "stream",
     "text": [
      "Empty tweet list. Processing stopped for user  AlimEquitables\n"
     ]
    },
    {
     "name": "stderr",
     "output_type": "stream",
     "text": [
      " 56%|█████▋    | 9/16 [00:07<00:05,  1.23it/s]"
     ]
    },
    {
     "name": "stdout",
     "output_type": "stream",
     "text": [
      "Empty tweet list. Processing stopped for user  vertliberaux\n"
     ]
    },
    {
     "name": "stderr",
     "output_type": "stream",
     "text": [
      "100%|██████████| 16/16 [00:12<00:00,  1.24it/s]\n",
      "  0%|          | 0/28 [00:00<?, ?it/s]"
     ]
    },
    {
     "name": "stdout",
     "output_type": "stream",
     "text": [
      "\n",
      "******* Processing users at 1-hop distance *******\n",
      "Collecting the tweets for the last 7 days.\n"
     ]
    },
    {
     "name": "stderr",
     "output_type": "stream",
     "text": [
      "\r",
      "  4%|▎         | 1/28 [00:00<00:17,  1.51it/s]"
     ]
    },
    {
     "name": "stdout",
     "output_type": "stream",
     "text": [
      "Empty tweet list. Processing stopped for user  PriseDeTerre\n"
     ]
    },
    {
     "name": "stderr",
     "output_type": "stream",
     "text": [
      " 25%|██▌       | 7/28 [00:05<00:15,  1.35it/s]"
     ]
    },
    {
     "name": "stdout",
     "output_type": "stream",
     "text": [
      "Empty tweet list. Processing stopped for user  CreditSuisse\n"
     ]
    },
    {
     "name": "stderr",
     "output_type": "stream",
     "text": [
      " 79%|███████▊  | 22/28 [00:17<00:04,  1.27it/s]"
     ]
    },
    {
     "name": "stdout",
     "output_type": "stream",
     "text": [
      "Empty tweet list. Processing stopped for user  rogerfederer\n"
     ]
    },
    {
     "name": "stderr",
     "output_type": "stream",
     "text": [
      "100%|██████████| 28/28 [00:21<00:00,  1.28it/s]\n",
      "  0%|          | 0/57 [00:00<?, ?it/s]"
     ]
    },
    {
     "name": "stdout",
     "output_type": "stream",
     "text": [
      "\n",
      "******* Processing users at 2-hop distance *******\n",
      "Collecting the tweets for the last 7 days.\n"
     ]
    },
    {
     "name": "stderr",
     "output_type": "stream",
     "text": [
      " 37%|███▋      | 21/57 [00:15<00:26,  1.35it/s]"
     ]
    },
    {
     "name": "stdout",
     "output_type": "stream",
     "text": [
      "Empty tweet list. Processing stopped for user  RTBFinfo\n"
     ]
    },
    {
     "name": "stderr",
     "output_type": "stream",
     "text": [
      " 63%|██████▎   | 36/57 [00:26<00:15,  1.34it/s]"
     ]
    },
    {
     "name": "stdout",
     "output_type": "stream",
     "text": [
      "Empty tweet list. Processing stopped for user  NZZWissen\n"
     ]
    },
    {
     "name": "stderr",
     "output_type": "stream",
     "text": [
      "100%|██████████| 57/57 [00:43<00:00,  1.32it/s]"
     ]
    },
    {
     "name": "stdout",
     "output_type": "stream",
     "text": [
      "Total number of users collected:\n",
      "252 252\n"
     ]
    },
    {
     "name": "stderr",
     "output_type": "stream",
     "text": [
      "\n"
     ]
    }
   ],
   "source": [
    "total_user_list = pysad.collect_tweets(username_list, data_path, python_tweets, min_mentions=min_mentions,\n",
    "               max_day_old=max_day_old, exploration_depth=exploration_depth)"
   ]
  },
  {
   "cell_type": "markdown",
   "metadata": {},
   "source": [
    "# Loading the saved data into an edge table"
   ]
  },
  {
   "cell_type": "code",
   "execution_count": 165,
   "metadata": {},
   "outputs": [
    {
     "name": "stdout",
     "output_type": "stream",
     "text": [
      "swiss_climate_regular/20200120/audreygarric_mentions_t2.csv with 18 tweets.\n",
      "swiss_climate_regular/20200120/MMarendaz_mentions_t2.csv with 53 tweets.\n",
      "swiss_climate_regular/20200120/jeanpierredenis_mentions_t2.csv with 52 tweets.\n",
      "swiss_climate_regular/20200120/lemondefr_mentions_t2.csv with 19 tweets.\n",
      "swiss_climate_regular/20200120/24heuresch_mentions_t2.csv with 44 tweets.\n",
      "swiss_climate_regular/20200120/proclimCH_mentions_t2.csv with 1 tweets.\n",
      "swiss_climate_regular/20200120/lecourrier_mentions_t2.csv with 6 tweets.\n",
      "swiss_climate_regular/20200120/MarcFelixSerrao_mentions_t2.csv with 36 tweets.\n",
      "swiss_climate_regular/20200120/heidi_news_mentions_t2.csv with 40 tweets.\n",
      "swiss_climate_regular/20200120/IPBES_mentions_t2.csv with 76 tweets.\n",
      "swiss_climate_regular/20200120/miseaupoint_mentions_t2.csv with 2 tweets.\n",
      "swiss_climate_regular/20200120/XLanata_mentions_t2.csv with 15 tweets.\n",
      "swiss_climate_regular/20200120/RadioTeleSuisse_mentions_t2.csv with 14 tweets.\n",
      "swiss_climate_regular/20200120/KBuechenb_mentions_t2.csv with 8 tweets.\n",
      "swiss_climate_regular/20200120/Europarl_EN_mentions_t2.csv with 1 tweets.\n",
      "swiss_climate_regular/20200120/GaelGiraud_CNRS_mentions_t2.csv with 13 tweets.\n",
      "swiss_climate_regular/20200120/Polybertarian_mentions_t2.csv with 42 tweets.\n",
      "swiss_climate_regular/20200120/medialogues_mentions_t2.csv with 4 tweets.\n",
      "swiss_climate_regular/20200120/levinche_mentions_t2.csv with 94 tweets.\n",
      "swiss_climate_regular/20200120/gpsuisse_mentions_t2.csv with 4 tweets.\n",
      "swiss_climate_regular/20200120/SgoberoR_mentions_t2.csv with 59 tweets.\n",
      "swiss_climate_regular/20200120/VertsVD_mentions_t2.csv with 34 tweets.\n",
      "swiss_climate_regular/20200120/UNBiodiversity_mentions_t2.csv with 82 tweets.\n",
      "swiss_climate_regular/20200120/wef_mentions_t2.csv with 50 tweets.\n",
      "swiss_climate_regular/20200120/bourg_d_mentions_t2.csv with 95 tweets.\n",
      "swiss_climate_regular/20200120/VertsLausannois_mentions_t2.csv with 32 tweets.\n",
      "swiss_climate_regular/20200120/PwC_mentions_t2.csv with 14 tweets.\n",
      "swiss_climate_regular/20200120/AndreasSchuerer_mentions_t2.csv with 18 tweets.\n",
      "swiss_climate_regular/20200120/IliasPanchard_mentions_t2.csv with 19 tweets.\n",
      "swiss_climate_regular/20200120/clequere_mentions_t2.csv with 14 tweets.\n",
      "swiss_climate_regular/20200120/JPvanYpersele_mentions_t2.csv with 94 tweets.\n",
      "swiss_climate_regular/20200120/ATE_Suisse_mentions_t2.csv with 12 tweets.\n",
      "swiss_climate_regular/20200120/MathieuTriclot_mentions_t2.csv with 95 tweets.\n",
      "swiss_climate_regular/20200120/NZZzuerich_mentions_t2.csv with 10 tweets.\n",
      "swiss_climate_regular/20200120/smattheydoret_mentions_t2.csv with 20 tweets.\n",
      "swiss_climate_regular/20200120/RTSinfo_mentions_t2.csv with 43 tweets.\n",
      "swiss_climate_regular/20200120/pascalineminet_mentions_t2.csv with 7 tweets.\n",
      "swiss_climate_regular/20200120/19h30RTS_mentions_t2.csv with 9 tweets.\n",
      "swiss_climate_regular/20200120/RogerWakeUpNow_mentions_t2.csv with 25 tweets.\n",
      "swiss_climate_regular/20200120/DaRaedler_mentions_t2.csv with 34 tweets.\n",
      "swiss_climate_regular/20200120/GretaThunberg_mentions_t2.csv with 77 tweets.\n",
      "swiss_climate_regular/20200120/nzzwirtschaft_mentions_t2.csv with 10 tweets.\n",
      "swiss_climate_regular/20200120/letemps_mentions_t2.csv with 7 tweets.\n",
      "swiss_climate_regular/20200120/greveduclimat_mentions_t2.csv with 21 tweets.\n",
      "swiss_climate_regular/20200120/PiresTiagoB_mentions_t2.csv with 13 tweets.\n",
      "swiss_climate_regular/20200120/ClimatSuisse_mentions_t2.csv with 3 tweets.\n",
      "swiss_climate_regular/20200120/NHM_London_mentions_t2.csv with 92 tweets.\n",
      "swiss_climate_regular/20200120/acrettenand_mentions_t2.csv with 6 tweets.\n",
      "swiss_climate_regular/20200120/Confuciuus_mentions_t2.csv with 47 tweets.\n",
      "swiss_climate_regular/20200120/adelethorens_mentions_t2.csv with 50 tweets.\n",
      "swiss_climate_regular/20200120/BoschettiSteen_mentions_t2.csv with 20 tweets.\n",
      "swiss_climate_regular/20200120/Doremi_renov_mentions_t2.csv with 11 tweets.\n",
      "swiss_climate_regular/20200120/RTSmonde_mentions_t2.csv with 19 tweets.\n",
      "swiss_climate_regular/20200120/gnoni_sara_mentions_t2.csv with 78 tweets.\n",
      "swiss_climate_regular/20200120/LaVieHebdo_mentions_t2.csv with 12 tweets.\n",
      "swiss_climate_regular/20200120/INI_logements_mentions_t2.csv with 7 tweets.\n",
      "swiss_climate_regular/20200120/DamienCAREME_mentions_t2.csv with 21 tweets.\n",
      "swiss_climate_regular/20200120/klimastreik_mentions_t2.csv with 64 tweets.\n",
      "swiss_climate_regular/20200120/fabiengoubet_mentions_t2.csv with 14 tweets.\n",
      "swiss_climate_regular/20200120/nantermod_mentions_t2.csv with 36 tweets.\n",
      "swiss_climate_regular/20200120/hc_climat_mentions_t2.csv with 5 tweets.\n",
      "swiss_climate_regular/20200120/Channel4_mentions_t2.csv with 73 tweets.\n",
      "swiss_climate_regular/20200120/LesVertsSuisses_mentions_t2.csv with 1 tweets.\n",
      "swiss_climate_regular/20200120/billmckibben_mentions_t2.csv with 44 tweets.\n",
      "swiss_climate_regular/20200120/picharbonnier_mentions_t2.csv with 62 tweets.\n",
      "swiss_climate_regular/20200120/raphaelmahaim_mentions_t2.csv with 1 tweets.\n",
      "swiss_climate_regular/20200120/Fridays4future_mentions_t2.csv with 63 tweets.\n",
      "swiss_climate_regular/20200120/FMarech_mentions_t2.csv with 14 tweets.\n",
      "swiss_climate_regular/20200120/NZZAusland_mentions_t2.csv with 5 tweets.\n",
      "swiss_climate_regular/20200120/RTSinfrarouge_mentions_t2.csv with 4 tweets.\n",
      "swiss_climate_regular/20200120/KlimaschutzCH_mentions_t2.csv with 3 tweets.\n",
      "swiss_climate_regular/20200120/NZZ_mentions_t2.csv with 43 tweets.\n",
      "swiss_climate_regular/20200120/NZZSchweiz_mentions_t2.csv with 8 tweets.\n",
      "swiss_climate_regular/20200120/NZZSport_mentions_t2.csv with 16 tweets.\n",
      "swiss_climate_regular/20200120/_Politikon__mentions_t2.csv with 17 tweets.\n",
      "swiss_climate_regular/20200120/GrueneCH_mentions_t2.csv with 5 tweets.\n",
      "swiss_climate_regular/20200120/WeillClaude_mentions_t2.csv with 28 tweets.\n",
      "swiss_climate_regular/20200120/bfrund_mentions_t2.csv with 19 tweets.\n",
      "swiss_climate_regular/20200120/FabienGrenon_mentions_t2.csv with 9 tweets.\n",
      "swiss_climate_regular/20200120/Munsterma_mentions_t2.csv with 82 tweets.\n",
      "swiss_climate_regular/20200120/_Quelbazar__mentions_t2.csv with 15 tweets.\n",
      "swiss_climate_regular/20200120/NZZaS_mentions_t2.csv with 29 tweets.\n",
      "swiss_climate_regular/20200120/MartineClerc_mentions_t2.csv with 3 tweets.\n",
      "swiss_climate_regular/20200120/Sophie__Lebrun_mentions_t2.csv with 25 tweets.\n",
      "swiss_climate_regular/20200120/ProNaturaSuisse_mentions_t2.csv with 1 tweets.\n",
      "swiss_climate_regular/20200120/kendette_mentions_t2.csv with 27 tweets.\n",
      "swiss_climate_regular/20200120/datisdaz_mentions_t2.csv with 32 tweets.\n",
      "swiss_climate_regular/20200120/RTSsport_mentions_t2.csv with 5 tweets.\n",
      "swiss_climate_regular/20200120/SergeMichel_hD_mentions_t2.csv with 23 tweets.\n",
      "swiss_climate_regular/20200120/LaTacfi_mentions_t2.csv with 19 tweets.\n",
      "swiss_climate_regular/20200120/briceculturier_mentions_t2.csv with 90 tweets.\n",
      "swiss_climate_regular/20200120/350Europe_mentions_t2.csv with 19 tweets.\n"
     ]
    }
   ],
   "source": [
    "import glob\n",
    "\n",
    "edge_df = pd.DataFrame()\n",
    "for filename in glob.glob(data_path + '*_mentions' +'_t' +str(min_mentions)+ '.csv'):\n",
    "    new_edge_df = pd.read_csv(filename)\n",
    "    print('{} with {} tweets.'.format(filename,len(new_edge_df)))\n",
    "    edge_df = edge_df.append(new_edge_df)\n",
    "    "
   ]
  },
  {
   "cell_type": "code",
   "execution_count": 166,
   "metadata": {},
   "outputs": [
    {
     "data": {
      "text/html": [
       "<div>\n",
       "<style scoped>\n",
       "    .dataframe tbody tr th:only-of-type {\n",
       "        vertical-align: middle;\n",
       "    }\n",
       "\n",
       "    .dataframe tbody tr th {\n",
       "        vertical-align: top;\n",
       "    }\n",
       "\n",
       "    .dataframe thead th {\n",
       "        text-align: right;\n",
       "    }\n",
       "</style>\n",
       "<table border=\"1\" class=\"dataframe\">\n",
       "  <thead>\n",
       "    <tr style=\"text-align: right;\">\n",
       "      <th></th>\n",
       "      <th>Unnamed: 0</th>\n",
       "      <th>user</th>\n",
       "      <th>mention</th>\n",
       "      <th>weight</th>\n",
       "      <th>hashtags</th>\n",
       "      <th>date</th>\n",
       "      <th>urls</th>\n",
       "    </tr>\n",
       "  </thead>\n",
       "  <tbody>\n",
       "    <tr>\n",
       "      <th>12</th>\n",
       "      <td>12</td>\n",
       "      <td>audreygarric</td>\n",
       "      <td>lemondefr</td>\n",
       "      <td>3</td>\n",
       "      <td>['JournéeSpéciale', 'Australie', 'Australie']</td>\n",
       "      <td>['2020-01-17 09:49:28', '2020-01-17 09:47:24',...</td>\n",
       "      <td>['https://twitter.com/lemondefr/status/1218085...</td>\n",
       "    </tr>\n",
       "    <tr>\n",
       "      <th>13</th>\n",
       "      <td>13</td>\n",
       "      <td>audreygarric</td>\n",
       "      <td>olivier_fontan</td>\n",
       "      <td>1</td>\n",
       "      <td>['carbone', 'pétrole']</td>\n",
       "      <td>['2020-01-20 14:01:58']</td>\n",
       "      <td>[]</td>\n",
       "    </tr>\n",
       "    <tr>\n",
       "      <th>14</th>\n",
       "      <td>14</td>\n",
       "      <td>audreygarric</td>\n",
       "      <td>pierrecannet</td>\n",
       "      <td>1</td>\n",
       "      <td>['climat', 'biodiversité']</td>\n",
       "      <td>['2020-01-16 14:00:39']</td>\n",
       "      <td>[]</td>\n",
       "    </tr>\n",
       "    <tr>\n",
       "      <th>0</th>\n",
       "      <td>0</td>\n",
       "      <td>MMarendaz</td>\n",
       "      <td>19h30RTS</td>\n",
       "      <td>2</td>\n",
       "      <td>['OKboomer', 'boomer']</td>\n",
       "      <td>['2020-01-15 14:14:09', '2020-01-15 14:11:40']</td>\n",
       "      <td>[]</td>\n",
       "    </tr>\n",
       "    <tr>\n",
       "      <th>7</th>\n",
       "      <td>7</td>\n",
       "      <td>MMarendaz</td>\n",
       "      <td>Deputee_Obono</td>\n",
       "      <td>1</td>\n",
       "      <td>['BouffesDuNord', 'TahaBouhafs']</td>\n",
       "      <td>['2020-01-19 18:03:05']</td>\n",
       "      <td>[]</td>\n",
       "    </tr>\n",
       "    <tr>\n",
       "      <th>...</th>\n",
       "      <td>...</td>\n",
       "      <td>...</td>\n",
       "      <td>...</td>\n",
       "      <td>...</td>\n",
       "      <td>...</td>\n",
       "      <td>...</td>\n",
       "      <td>...</td>\n",
       "    </tr>\n",
       "    <tr>\n",
       "      <th>2</th>\n",
       "      <td>2</td>\n",
       "      <td>350Europe</td>\n",
       "      <td>BaillieGifford</td>\n",
       "      <td>2</td>\n",
       "      <td>['ClimateBreakdown', 'EndFossilFinance', 'Clim...</td>\n",
       "      <td>['2020-01-15 15:00:20', '2020-01-14 09:20:26']</td>\n",
       "      <td>['https://www.bbc.co.uk/news/uk-scotland-edinb...</td>\n",
       "    </tr>\n",
       "    <tr>\n",
       "      <th>3</th>\n",
       "      <td>3</td>\n",
       "      <td>350Europe</td>\n",
       "      <td>Channel4</td>\n",
       "      <td>5</td>\n",
       "      <td>['DropBP', 'DropBP', 'DropBP', 'DropBP', 'Drop...</td>\n",
       "      <td>['2020-01-19 17:00:07', '2020-01-18 10:00:22',...</td>\n",
       "      <td>['https://act.350.org/sign/channel-4-drop-bp-p...</td>\n",
       "    </tr>\n",
       "    <tr>\n",
       "      <th>9</th>\n",
       "      <td>9</td>\n",
       "      <td>350Europe</td>\n",
       "      <td>ScotlandXr</td>\n",
       "      <td>1</td>\n",
       "      <td>['ClimateBreakdown', 'EndFossilFinance']</td>\n",
       "      <td>['2020-01-15 15:00:20']</td>\n",
       "      <td>['https://www.bbc.co.uk/news/uk-scotland-edinb...</td>\n",
       "    </tr>\n",
       "    <tr>\n",
       "      <th>12</th>\n",
       "      <td>12</td>\n",
       "      <td>350Europe</td>\n",
       "      <td>billmckibben</td>\n",
       "      <td>4</td>\n",
       "      <td>['ClimateBreakdown', 'EndFossilFinance']</td>\n",
       "      <td>['2020-01-14 15:18:03', '2020-01-14 15:17:33',...</td>\n",
       "      <td>['https://www.ran.org/wp-content/uploads/2019/...</td>\n",
       "    </tr>\n",
       "    <tr>\n",
       "      <th>13</th>\n",
       "      <td>13</td>\n",
       "      <td>350Europe</td>\n",
       "      <td>blackrock</td>\n",
       "      <td>1</td>\n",
       "      <td>['EndFossilFinance', 'MakeThemPay']</td>\n",
       "      <td>['2020-01-15 09:51:02']</td>\n",
       "      <td>['https://www.theguardian.com/environment/2020...</td>\n",
       "    </tr>\n",
       "  </tbody>\n",
       "</table>\n",
       "<p>618 rows × 7 columns</p>\n",
       "</div>"
      ],
      "text/plain": [
       "    Unnamed: 0          user         mention  weight  \\\n",
       "12          12  audreygarric       lemondefr       3   \n",
       "13          13  audreygarric  olivier_fontan       1   \n",
       "14          14  audreygarric    pierrecannet       1   \n",
       "0            0     MMarendaz        19h30RTS       2   \n",
       "7            7     MMarendaz   Deputee_Obono       1   \n",
       "..         ...           ...             ...     ...   \n",
       "2            2     350Europe  BaillieGifford       2   \n",
       "3            3     350Europe        Channel4       5   \n",
       "9            9     350Europe      ScotlandXr       1   \n",
       "12          12     350Europe    billmckibben       4   \n",
       "13          13     350Europe       blackrock       1   \n",
       "\n",
       "                                             hashtags  \\\n",
       "12      ['JournéeSpéciale', 'Australie', 'Australie']   \n",
       "13                             ['carbone', 'pétrole']   \n",
       "14                         ['climat', 'biodiversité']   \n",
       "0                              ['OKboomer', 'boomer']   \n",
       "7                    ['BouffesDuNord', 'TahaBouhafs']   \n",
       "..                                                ...   \n",
       "2   ['ClimateBreakdown', 'EndFossilFinance', 'Clim...   \n",
       "3   ['DropBP', 'DropBP', 'DropBP', 'DropBP', 'Drop...   \n",
       "9            ['ClimateBreakdown', 'EndFossilFinance']   \n",
       "12           ['ClimateBreakdown', 'EndFossilFinance']   \n",
       "13                ['EndFossilFinance', 'MakeThemPay']   \n",
       "\n",
       "                                                 date  \\\n",
       "12  ['2020-01-17 09:49:28', '2020-01-17 09:47:24',...   \n",
       "13                            ['2020-01-20 14:01:58']   \n",
       "14                            ['2020-01-16 14:00:39']   \n",
       "0      ['2020-01-15 14:14:09', '2020-01-15 14:11:40']   \n",
       "7                             ['2020-01-19 18:03:05']   \n",
       "..                                                ...   \n",
       "2      ['2020-01-15 15:00:20', '2020-01-14 09:20:26']   \n",
       "3   ['2020-01-19 17:00:07', '2020-01-18 10:00:22',...   \n",
       "9                             ['2020-01-15 15:00:20']   \n",
       "12  ['2020-01-14 15:18:03', '2020-01-14 15:17:33',...   \n",
       "13                            ['2020-01-15 09:51:02']   \n",
       "\n",
       "                                                 urls  \n",
       "12  ['https://twitter.com/lemondefr/status/1218085...  \n",
       "13                                                 []  \n",
       "14                                                 []  \n",
       "0                                                  []  \n",
       "7                                                  []  \n",
       "..                                                ...  \n",
       "2   ['https://www.bbc.co.uk/news/uk-scotland-edinb...  \n",
       "3   ['https://act.350.org/sign/channel-4-drop-bp-p...  \n",
       "9   ['https://www.bbc.co.uk/news/uk-scotland-edinb...  \n",
       "12  ['https://www.ran.org/wp-content/uploads/2019/...  \n",
       "13  ['https://www.theguardian.com/environment/2020...  \n",
       "\n",
       "[618 rows x 7 columns]"
      ]
     },
     "execution_count": 166,
     "metadata": {},
     "output_type": "execute_result"
    }
   ],
   "source": [
    "# display edges with number of hashtags >1\n",
    "edge_df[edge_df['hashtags'].apply(lambda x : len(x.split()))>1]"
   ]
  },
  {
   "cell_type": "code",
   "execution_count": 169,
   "metadata": {},
   "outputs": [
    {
     "name": "stdout",
     "output_type": "stream",
     "text": [
      "Creating the graph from the edge list\n",
      "Nb of nodes: 1903\n",
      "Nb of nodes after removing nodes with degree strictly smaller than 2: 398\n",
      "removed 0 isolated nodes.\n"
     ]
    }
   ],
   "source": [
    "DEGREE_MIN = 2 # Minimal number of connections in the graph\n",
    "\n",
    "G = pysad.graph_from_edgeslist(edge_df,DEGREE_MIN)"
   ]
  },
  {
   "cell_type": "markdown",
   "metadata": {},
   "source": [
    "## Community detection"
   ]
  },
  {
   "cell_type": "code",
   "execution_count": 170,
   "metadata": {},
   "outputs": [
    {
     "name": "stdout",
     "output_type": "stream",
     "text": [
      "Communities saved on the graph as node attributes.\n",
      "Nb of partitions: 9\n"
     ]
    }
   ],
   "source": [
    "G,clusters = pysad.detect_communities(G)"
   ]
  },
  {
   "cell_type": "code",
   "execution_count": 104,
   "metadata": {},
   "outputs": [],
   "source": [
    "import numpy as np\n",
    "import matplotlib.pyplot as plt"
   ]
  },
  {
   "cell_type": "code",
   "execution_count": 172,
   "metadata": {},
   "outputs": [
    {
     "data": {
      "image/png": "[encoded data removed]",
      "text/plain": [
       "<Figure size 864x576 with 1 Axes>"
      ]
     },
     "metadata": {},
     "output_type": "display_data"
    }
   ],
   "source": [
    "plt.figure(figsize=(12,8))\n",
    "cluster_prop_dic = {}\n",
    "for c in clusters:\n",
    "    gc = clusters[c]\n",
    "    gc_size = gc.number_of_nodes()\n",
    "    ck = nx.algorithms.core.core_number(gc)\n",
    "    max_k = max(ck.values())\n",
    "    kcurve = [len([key for (key,value) in ck.items() if value==idx]) for idx in range(max_k+1)]\n",
    "    in_diversity = gc.number_of_edges()/gc_size\n",
    "    in_activity = gc.size(weight='weight')/gc_size\n",
    "    cluster_prop_dic[c] = [gc_size, max_k, max(kcurve),max(kcurve)/gc_size,\n",
    "                           in_diversity,in_activity,in_diversity*in_activity]\n",
    "    #print(c, gc_size, max_k, max(kcurve),max(kcurve)/gc_size, gc.number_of_edges()/gc_size,gc.size(weight='weight')/gc_size)\n",
    "    plt.plot(np.array(kcurve)/gc_size,label=c)\n",
    "    plt.legend()"
   ]
  },
  {
   "cell_type": "code",
   "execution_count": 173,
   "metadata": {},
   "outputs": [],
   "source": [
    "cluster_prop_df = pd.DataFrame.from_dict(cluster_prop_dic,orient='index',columns=['nb nodes','k max','largest shell','normalized shell','in_diversity','in_activity','activism'])"
   ]
  },
  {
   "cell_type": "code",
   "execution_count": 174,
   "metadata": {},
   "outputs": [
    {
     "data": {
      "text/html": [
       "<div>\n",
       "<style scoped>\n",
       "    .dataframe tbody tr th:only-of-type {\n",
       "        vertical-align: middle;\n",
       "    }\n",
       "\n",
       "    .dataframe tbody tr th {\n",
       "        vertical-align: top;\n",
       "    }\n",
       "\n",
       "    .dataframe thead th {\n",
       "        text-align: right;\n",
       "    }\n",
       "</style>\n",
       "<table border=\"1\" class=\"dataframe\">\n",
       "  <thead>\n",
       "    <tr style=\"text-align: right;\">\n",
       "      <th></th>\n",
       "      <th>nb nodes</th>\n",
       "      <th>k max</th>\n",
       "      <th>largest shell</th>\n",
       "      <th>normalized shell</th>\n",
       "      <th>in_diversity</th>\n",
       "      <th>in_activity</th>\n",
       "      <th>activism</th>\n",
       "    </tr>\n",
       "  </thead>\n",
       "  <tbody>\n",
       "    <tr>\n",
       "      <th>4</th>\n",
       "      <td>28</td>\n",
       "      <td>4</td>\n",
       "      <td>9</td>\n",
       "      <td>0.321429</td>\n",
       "      <td>2.000000</td>\n",
       "      <td>9.928571</td>\n",
       "      <td>19.857143</td>\n",
       "    </tr>\n",
       "    <tr>\n",
       "      <th>6</th>\n",
       "      <td>63</td>\n",
       "      <td>5</td>\n",
       "      <td>23</td>\n",
       "      <td>0.365079</td>\n",
       "      <td>2.269841</td>\n",
       "      <td>5.698413</td>\n",
       "      <td>12.934492</td>\n",
       "    </tr>\n",
       "    <tr>\n",
       "      <th>8</th>\n",
       "      <td>29</td>\n",
       "      <td>3</td>\n",
       "      <td>21</td>\n",
       "      <td>0.724138</td>\n",
       "      <td>1.827586</td>\n",
       "      <td>5.206897</td>\n",
       "      <td>9.516052</td>\n",
       "    </tr>\n",
       "    <tr>\n",
       "      <th>5</th>\n",
       "      <td>48</td>\n",
       "      <td>4</td>\n",
       "      <td>16</td>\n",
       "      <td>0.333333</td>\n",
       "      <td>2.000000</td>\n",
       "      <td>3.854167</td>\n",
       "      <td>7.708333</td>\n",
       "    </tr>\n",
       "    <tr>\n",
       "      <th>7</th>\n",
       "      <td>30</td>\n",
       "      <td>3</td>\n",
       "      <td>19</td>\n",
       "      <td>0.633333</td>\n",
       "      <td>1.733333</td>\n",
       "      <td>4.400000</td>\n",
       "      <td>7.626667</td>\n",
       "    </tr>\n",
       "    <tr>\n",
       "      <th>1</th>\n",
       "      <td>88</td>\n",
       "      <td>3</td>\n",
       "      <td>57</td>\n",
       "      <td>0.647727</td>\n",
       "      <td>1.965909</td>\n",
       "      <td>2.920455</td>\n",
       "      <td>5.741348</td>\n",
       "    </tr>\n",
       "    <tr>\n",
       "      <th>2</th>\n",
       "      <td>13</td>\n",
       "      <td>2</td>\n",
       "      <td>9</td>\n",
       "      <td>0.692308</td>\n",
       "      <td>1.461538</td>\n",
       "      <td>3.153846</td>\n",
       "      <td>4.609467</td>\n",
       "    </tr>\n",
       "    <tr>\n",
       "      <th>3</th>\n",
       "      <td>27</td>\n",
       "      <td>2</td>\n",
       "      <td>19</td>\n",
       "      <td>0.703704</td>\n",
       "      <td>1.407407</td>\n",
       "      <td>3.111111</td>\n",
       "      <td>4.378601</td>\n",
       "    </tr>\n",
       "    <tr>\n",
       "      <th>0</th>\n",
       "      <td>72</td>\n",
       "      <td>3</td>\n",
       "      <td>39</td>\n",
       "      <td>0.541667</td>\n",
       "      <td>1.708333</td>\n",
       "      <td>2.513889</td>\n",
       "      <td>4.294560</td>\n",
       "    </tr>\n",
       "  </tbody>\n",
       "</table>\n",
       "</div>"
      ],
      "text/plain": [
       "   nb nodes  k max  largest shell  normalized shell  in_diversity  \\\n",
       "4        28      4              9          0.321429      2.000000   \n",
       "6        63      5             23          0.365079      2.269841   \n",
       "8        29      3             21          0.724138      1.827586   \n",
       "5        48      4             16          0.333333      2.000000   \n",
       "7        30      3             19          0.633333      1.733333   \n",
       "1        88      3             57          0.647727      1.965909   \n",
       "2        13      2              9          0.692308      1.461538   \n",
       "3        27      2             19          0.703704      1.407407   \n",
       "0        72      3             39          0.541667      1.708333   \n",
       "\n",
       "   in_activity   activism  \n",
       "4     9.928571  19.857143  \n",
       "6     5.698413  12.934492  \n",
       "8     5.206897   9.516052  \n",
       "5     3.854167   7.708333  \n",
       "7     4.400000   7.626667  \n",
       "1     2.920455   5.741348  \n",
       "2     3.153846   4.609467  \n",
       "3     3.111111   4.378601  \n",
       "0     2.513889   4.294560  "
      ]
     },
     "execution_count": 174,
     "metadata": {},
     "output_type": "execute_result"
    }
   ],
   "source": [
    "cluster_prop_df.sort_values(by='activism',ascending=False)"
   ]
  },
  {
   "cell_type": "code",
   "execution_count": 175,
   "metadata": {},
   "outputs": [
    {
     "data": {
      "text/html": [
       "<div>\n",
       "<style scoped>\n",
       "    .dataframe tbody tr th:only-of-type {\n",
       "        vertical-align: middle;\n",
       "    }\n",
       "\n",
       "    .dataframe tbody tr th {\n",
       "        vertical-align: top;\n",
       "    }\n",
       "\n",
       "    .dataframe thead th {\n",
       "        text-align: right;\n",
       "    }\n",
       "</style>\n",
       "<table border=\"1\" class=\"dataframe\">\n",
       "  <thead>\n",
       "    <tr style=\"text-align: right;\">\n",
       "      <th></th>\n",
       "      <th>nb nodes</th>\n",
       "      <th>k max</th>\n",
       "      <th>largest shell</th>\n",
       "      <th>normalized shell</th>\n",
       "      <th>in_diversity</th>\n",
       "      <th>in_activity</th>\n",
       "      <th>activism</th>\n",
       "    </tr>\n",
       "  </thead>\n",
       "  <tbody>\n",
       "    <tr>\n",
       "      <th>6</th>\n",
       "      <td>63</td>\n",
       "      <td>5</td>\n",
       "      <td>23</td>\n",
       "      <td>0.365079</td>\n",
       "      <td>2.269841</td>\n",
       "      <td>5.698413</td>\n",
       "      <td>12.934492</td>\n",
       "    </tr>\n",
       "    <tr>\n",
       "      <th>4</th>\n",
       "      <td>28</td>\n",
       "      <td>4</td>\n",
       "      <td>9</td>\n",
       "      <td>0.321429</td>\n",
       "      <td>2.000000</td>\n",
       "      <td>9.928571</td>\n",
       "      <td>19.857143</td>\n",
       "    </tr>\n",
       "    <tr>\n",
       "      <th>5</th>\n",
       "      <td>48</td>\n",
       "      <td>4</td>\n",
       "      <td>16</td>\n",
       "      <td>0.333333</td>\n",
       "      <td>2.000000</td>\n",
       "      <td>3.854167</td>\n",
       "      <td>7.708333</td>\n",
       "    </tr>\n",
       "    <tr>\n",
       "      <th>1</th>\n",
       "      <td>88</td>\n",
       "      <td>3</td>\n",
       "      <td>57</td>\n",
       "      <td>0.647727</td>\n",
       "      <td>1.965909</td>\n",
       "      <td>2.920455</td>\n",
       "      <td>5.741348</td>\n",
       "    </tr>\n",
       "    <tr>\n",
       "      <th>8</th>\n",
       "      <td>29</td>\n",
       "      <td>3</td>\n",
       "      <td>21</td>\n",
       "      <td>0.724138</td>\n",
       "      <td>1.827586</td>\n",
       "      <td>5.206897</td>\n",
       "      <td>9.516052</td>\n",
       "    </tr>\n",
       "    <tr>\n",
       "      <th>7</th>\n",
       "      <td>30</td>\n",
       "      <td>3</td>\n",
       "      <td>19</td>\n",
       "      <td>0.633333</td>\n",
       "      <td>1.733333</td>\n",
       "      <td>4.400000</td>\n",
       "      <td>7.626667</td>\n",
       "    </tr>\n",
       "    <tr>\n",
       "      <th>0</th>\n",
       "      <td>72</td>\n",
       "      <td>3</td>\n",
       "      <td>39</td>\n",
       "      <td>0.541667</td>\n",
       "      <td>1.708333</td>\n",
       "      <td>2.513889</td>\n",
       "      <td>4.294560</td>\n",
       "    </tr>\n",
       "    <tr>\n",
       "      <th>2</th>\n",
       "      <td>13</td>\n",
       "      <td>2</td>\n",
       "      <td>9</td>\n",
       "      <td>0.692308</td>\n",
       "      <td>1.461538</td>\n",
       "      <td>3.153846</td>\n",
       "      <td>4.609467</td>\n",
       "    </tr>\n",
       "    <tr>\n",
       "      <th>3</th>\n",
       "      <td>27</td>\n",
       "      <td>2</td>\n",
       "      <td>19</td>\n",
       "      <td>0.703704</td>\n",
       "      <td>1.407407</td>\n",
       "      <td>3.111111</td>\n",
       "      <td>4.378601</td>\n",
       "    </tr>\n",
       "  </tbody>\n",
       "</table>\n",
       "</div>"
      ],
      "text/plain": [
       "   nb nodes  k max  largest shell  normalized shell  in_diversity  \\\n",
       "6        63      5             23          0.365079      2.269841   \n",
       "4        28      4              9          0.321429      2.000000   \n",
       "5        48      4             16          0.333333      2.000000   \n",
       "1        88      3             57          0.647727      1.965909   \n",
       "8        29      3             21          0.724138      1.827586   \n",
       "7        30      3             19          0.633333      1.733333   \n",
       "0        72      3             39          0.541667      1.708333   \n",
       "2        13      2              9          0.692308      1.461538   \n",
       "3        27      2             19          0.703704      1.407407   \n",
       "\n",
       "   in_activity   activism  \n",
       "6     5.698413  12.934492  \n",
       "4     9.928571  19.857143  \n",
       "5     3.854167   7.708333  \n",
       "1     2.920455   5.741348  \n",
       "8     5.206897   9.516052  \n",
       "7     4.400000   7.626667  \n",
       "0     2.513889   4.294560  \n",
       "2     3.153846   4.609467  \n",
       "3     3.111111   4.378601  "
      ]
     },
     "execution_count": 175,
     "metadata": {},
     "output_type": "execute_result"
    }
   ],
   "source": [
    "cluster_prop_df.sort_values(by='in_diversity',ascending=False)"
   ]
  },
  {
   "cell_type": "code",
   "execution_count": 176,
   "metadata": {},
   "outputs": [],
   "source": [
    "graphname = 'AAgraph'\n",
    "#graphname = 'GBRgraph'"
   ]
  },
  {
   "cell_type": "code",
   "execution_count": 177,
   "metadata": {},
   "outputs": [
    {
     "name": "stdout",
     "output_type": "stream",
     "text": [
      "Wrote swiss_climate_regular/20200120/AAgraph_t2_md2_graph.gexf\n"
     ]
    }
   ],
   "source": [
    "# Save the graph\n",
    "import networkx as nx\n",
    "\n",
    "graphfilename = data_path + graphname + '_t' + str(min_mentions) + '_md' + str(DEGREE_MIN) +'_graph.gexf'\n",
    "nx.write_gexf(G,graphfilename)\n",
    "print('Wrote',graphfilename)"
   ]
  },
  {
   "cell_type": "markdown",
   "metadata": {},
   "source": [
    "# Hashtags, dates and urls\n",
    "Hashtags, dates and urls are on the edges of the network.\n",
    "We can get the most common hashtags within a community and also betwenn communities using the edges that connect them."
   ]
  },
  {
   "cell_type": "code",
   "execution_count": 178,
   "metadata": {},
   "outputs": [],
   "source": [
    "tags_dic, dates_dic, url_dic = pysad.community_data(G)"
   ]
  },
  {
   "cell_type": "code",
   "execution_count": 179,
   "metadata": {},
   "outputs": [
    {
     "data": {
      "text/html": [
       "<div>\n",
       "<style scoped>\n",
       "    .dataframe tbody tr th:only-of-type {\n",
       "        vertical-align: middle;\n",
       "    }\n",
       "\n",
       "    .dataframe tbody tr th {\n",
       "        vertical-align: top;\n",
       "    }\n",
       "\n",
       "    .dataframe thead th {\n",
       "        text-align: right;\n",
       "    }\n",
       "</style>\n",
       "<table border=\"1\" class=\"dataframe\">\n",
       "  <thead>\n",
       "    <tr style=\"text-align: right;\">\n",
       "      <th></th>\n",
       "      <th>Community</th>\n",
       "      <th>Average date</th>\n",
       "      <th>Deviation (days)</th>\n",
       "      <th>hashtag0</th>\n",
       "      <th>hashtag1</th>\n",
       "      <th>hashtag2</th>\n",
       "      <th>hashtag3</th>\n",
       "      <th>hashtag4</th>\n",
       "    </tr>\n",
       "  </thead>\n",
       "  <tbody>\n",
       "    <tr>\n",
       "      <th>0</th>\n",
       "      <td>0</td>\n",
       "      <td>2020-01-17</td>\n",
       "      <td>1</td>\n",
       "      <td>Municipales2020</td>\n",
       "      <td>Australie</td>\n",
       "      <td>Besançon</td>\n",
       "      <td>JournéeSpéciale</td>\n",
       "      <td>Greenbashing</td>\n",
       "    </tr>\n",
       "    <tr>\n",
       "      <th>1</th>\n",
       "      <td>1</td>\n",
       "      <td>2020-01-17</td>\n",
       "      <td>1</td>\n",
       "      <td>FridaysForFuture</td>\n",
       "      <td>ClimateStrike</td>\n",
       "      <td>schoolstrike4climate</td>\n",
       "      <td>Saarland</td>\n",
       "      <td>Mainz</td>\n",
       "    </tr>\n",
       "    <tr>\n",
       "      <th>2</th>\n",
       "      <td>2</td>\n",
       "      <td>2020-01-15</td>\n",
       "      <td>1</td>\n",
       "      <td>LaTac</td>\n",
       "      <td>PassoiresThermiques</td>\n",
       "      <td>NeutralitéCarbone</td>\n",
       "      <td>croissance</td>\n",
       "      <td>EfficacitéEnergétique</td>\n",
       "    </tr>\n",
       "    <tr>\n",
       "      <th>3</th>\n",
       "      <td>3</td>\n",
       "      <td>2020-01-18</td>\n",
       "      <td>1</td>\n",
       "      <td>RTSsport</td>\n",
       "      <td>Lausanne</td>\n",
       "      <td>Election2020</td>\n",
       "      <td>LuandaLeaks</td>\n",
       "      <td>JOJ2020</td>\n",
       "    </tr>\n",
       "    <tr>\n",
       "      <th>4</th>\n",
       "      <td>4</td>\n",
       "      <td>2020-01-18</td>\n",
       "      <td>1</td>\n",
       "      <td>boomer</td>\n",
       "      <td>neutralite</td>\n",
       "      <td>servicepublic</td>\n",
       "      <td>UNILDurable</td>\n",
       "      <td>procèsdeLausanne</td>\n",
       "    </tr>\n",
       "    <tr>\n",
       "      <th>5</th>\n",
       "      <td>5</td>\n",
       "      <td>2020-01-17</td>\n",
       "      <td>1</td>\n",
       "      <td>ClimateStrike</td>\n",
       "      <td>suisse</td>\n",
       "      <td>SuzetteSandoz</td>\n",
       "      <td>Lausanne</td>\n",
       "      <td>ClimateChange</td>\n",
       "    </tr>\n",
       "    <tr>\n",
       "      <th>6</th>\n",
       "      <td>6</td>\n",
       "      <td>2020-01-16</td>\n",
       "      <td>1</td>\n",
       "      <td>lausanne</td>\n",
       "      <td>Lausanne</td>\n",
       "      <td>climatestrike</td>\n",
       "      <td>ClimateStrike</td>\n",
       "      <td>climat</td>\n",
       "    </tr>\n",
       "    <tr>\n",
       "      <th>7</th>\n",
       "      <td>7</td>\n",
       "      <td>2020-01-19</td>\n",
       "      <td>1</td>\n",
       "      <td>WEF2020</td>\n",
       "      <td>LibyenKonferenz</td>\n",
       "      <td>LuandaLeaks</td>\n",
       "      <td>AusOpen</td>\n",
       "      <td>Kohleausstieg</td>\n",
       "    </tr>\n",
       "    <tr>\n",
       "      <th>8</th>\n",
       "      <td>8</td>\n",
       "      <td>2020-01-18</td>\n",
       "      <td>1</td>\n",
       "      <td>wef20</td>\n",
       "      <td>nature</td>\n",
       "      <td>Biodiversity2020</td>\n",
       "      <td>NatureCrisis</td>\n",
       "      <td>BiodiversityLoss</td>\n",
       "    </tr>\n",
       "  </tbody>\n",
       "</table>\n",
       "</div>"
      ],
      "text/plain": [
       "   Community Average date  Deviation (days)          hashtag0  \\\n",
       "0          0   2020-01-17                 1   Municipales2020   \n",
       "1          1   2020-01-17                 1  FridaysForFuture   \n",
       "2          2   2020-01-15                 1             LaTac   \n",
       "3          3   2020-01-18                 1          RTSsport   \n",
       "4          4   2020-01-18                 1            boomer   \n",
       "5          5   2020-01-17                 1     ClimateStrike   \n",
       "6          6   2020-01-16                 1          lausanne   \n",
       "7          7   2020-01-19                 1           WEF2020   \n",
       "8          8   2020-01-18                 1             wef20   \n",
       "\n",
       "              hashtag1              hashtag2         hashtag3  \\\n",
       "0            Australie              Besançon  JournéeSpéciale   \n",
       "1        ClimateStrike  schoolstrike4climate         Saarland   \n",
       "2  PassoiresThermiques     NeutralitéCarbone       croissance   \n",
       "3             Lausanne          Election2020      LuandaLeaks   \n",
       "4           neutralite         servicepublic      UNILDurable   \n",
       "5               suisse         SuzetteSandoz         Lausanne   \n",
       "6             Lausanne         climatestrike    ClimateStrike   \n",
       "7      LibyenKonferenz           LuandaLeaks          AusOpen   \n",
       "8               nature      Biodiversity2020     NatureCrisis   \n",
       "\n",
       "                hashtag4  \n",
       "0           Greenbashing  \n",
       "1                  Mainz  \n",
       "2  EfficacitéEnergétique  \n",
       "3                JOJ2020  \n",
       "4       procèsdeLausanne  \n",
       "5          ClimateChange  \n",
       "6                 climat  \n",
       "7          Kohleausstieg  \n",
       "8       BiodiversityLoss  "
      ]
     },
     "execution_count": 179,
     "metadata": {},
     "output_type": "execute_result"
    }
   ],
   "source": [
    "community_table = pysad.communities_date_hashtags(dates_dic, tags_dic)\n",
    "community_table"
   ]
  },
  {
   "cell_type": "code",
   "execution_count": 180,
   "metadata": {},
   "outputs": [],
   "source": [
    "community_table['activism'] = cluster_prop_df['activism']\n",
    "community_table['nb nodes'] = cluster_prop_df['nb nodes']"
   ]
  },
  {
   "cell_type": "code",
   "execution_count": 181,
   "metadata": {},
   "outputs": [
    {
     "data": {
      "text/html": [
       "<div>\n",
       "<style scoped>\n",
       "    .dataframe tbody tr th:only-of-type {\n",
       "        vertical-align: middle;\n",
       "    }\n",
       "\n",
       "    .dataframe tbody tr th {\n",
       "        vertical-align: top;\n",
       "    }\n",
       "\n",
       "    .dataframe thead th {\n",
       "        text-align: right;\n",
       "    }\n",
       "</style>\n",
       "<table border=\"1\" class=\"dataframe\">\n",
       "  <thead>\n",
       "    <tr style=\"text-align: right;\">\n",
       "      <th></th>\n",
       "      <th>Community</th>\n",
       "      <th>hashtag0</th>\n",
       "      <th>hashtag1</th>\n",
       "      <th>hashtag2</th>\n",
       "      <th>hashtag3</th>\n",
       "      <th>hashtag4</th>\n",
       "      <th>activism</th>\n",
       "      <th>nb nodes</th>\n",
       "    </tr>\n",
       "  </thead>\n",
       "  <tbody>\n",
       "    <tr>\n",
       "      <th>4</th>\n",
       "      <td>4</td>\n",
       "      <td>boomer</td>\n",
       "      <td>neutralite</td>\n",
       "      <td>servicepublic</td>\n",
       "      <td>UNILDurable</td>\n",
       "      <td>procèsdeLausanne</td>\n",
       "      <td>19.857143</td>\n",
       "      <td>28</td>\n",
       "    </tr>\n",
       "    <tr>\n",
       "      <th>6</th>\n",
       "      <td>6</td>\n",
       "      <td>lausanne</td>\n",
       "      <td>Lausanne</td>\n",
       "      <td>climatestrike</td>\n",
       "      <td>ClimateStrike</td>\n",
       "      <td>climat</td>\n",
       "      <td>12.934492</td>\n",
       "      <td>63</td>\n",
       "    </tr>\n",
       "    <tr>\n",
       "      <th>8</th>\n",
       "      <td>8</td>\n",
       "      <td>wef20</td>\n",
       "      <td>nature</td>\n",
       "      <td>Biodiversity2020</td>\n",
       "      <td>NatureCrisis</td>\n",
       "      <td>BiodiversityLoss</td>\n",
       "      <td>9.516052</td>\n",
       "      <td>29</td>\n",
       "    </tr>\n",
       "    <tr>\n",
       "      <th>5</th>\n",
       "      <td>5</td>\n",
       "      <td>ClimateStrike</td>\n",
       "      <td>suisse</td>\n",
       "      <td>SuzetteSandoz</td>\n",
       "      <td>Lausanne</td>\n",
       "      <td>ClimateChange</td>\n",
       "      <td>7.708333</td>\n",
       "      <td>48</td>\n",
       "    </tr>\n",
       "    <tr>\n",
       "      <th>7</th>\n",
       "      <td>7</td>\n",
       "      <td>WEF2020</td>\n",
       "      <td>LibyenKonferenz</td>\n",
       "      <td>LuandaLeaks</td>\n",
       "      <td>AusOpen</td>\n",
       "      <td>Kohleausstieg</td>\n",
       "      <td>7.626667</td>\n",
       "      <td>30</td>\n",
       "    </tr>\n",
       "    <tr>\n",
       "      <th>1</th>\n",
       "      <td>1</td>\n",
       "      <td>FridaysForFuture</td>\n",
       "      <td>ClimateStrike</td>\n",
       "      <td>schoolstrike4climate</td>\n",
       "      <td>Saarland</td>\n",
       "      <td>Mainz</td>\n",
       "      <td>5.741348</td>\n",
       "      <td>88</td>\n",
       "    </tr>\n",
       "    <tr>\n",
       "      <th>2</th>\n",
       "      <td>2</td>\n",
       "      <td>LaTac</td>\n",
       "      <td>PassoiresThermiques</td>\n",
       "      <td>NeutralitéCarbone</td>\n",
       "      <td>croissance</td>\n",
       "      <td>EfficacitéEnergétique</td>\n",
       "      <td>4.609467</td>\n",
       "      <td>13</td>\n",
       "    </tr>\n",
       "    <tr>\n",
       "      <th>3</th>\n",
       "      <td>3</td>\n",
       "      <td>RTSsport</td>\n",
       "      <td>Lausanne</td>\n",
       "      <td>Election2020</td>\n",
       "      <td>LuandaLeaks</td>\n",
       "      <td>JOJ2020</td>\n",
       "      <td>4.378601</td>\n",
       "      <td>27</td>\n",
       "    </tr>\n",
       "    <tr>\n",
       "      <th>0</th>\n",
       "      <td>0</td>\n",
       "      <td>Municipales2020</td>\n",
       "      <td>Australie</td>\n",
       "      <td>Besançon</td>\n",
       "      <td>JournéeSpéciale</td>\n",
       "      <td>Greenbashing</td>\n",
       "      <td>4.294560</td>\n",
       "      <td>72</td>\n",
       "    </tr>\n",
       "  </tbody>\n",
       "</table>\n",
       "</div>"
      ],
      "text/plain": [
       "   Community          hashtag0             hashtag1              hashtag2  \\\n",
       "4          4            boomer           neutralite         servicepublic   \n",
       "6          6          lausanne             Lausanne         climatestrike   \n",
       "8          8             wef20               nature      Biodiversity2020   \n",
       "5          5     ClimateStrike               suisse         SuzetteSandoz   \n",
       "7          7           WEF2020      LibyenKonferenz           LuandaLeaks   \n",
       "1          1  FridaysForFuture        ClimateStrike  schoolstrike4climate   \n",
       "2          2             LaTac  PassoiresThermiques     NeutralitéCarbone   \n",
       "3          3          RTSsport             Lausanne          Election2020   \n",
       "0          0   Municipales2020            Australie              Besançon   \n",
       "\n",
       "          hashtag3               hashtag4   activism  nb nodes  \n",
       "4      UNILDurable       procèsdeLausanne  19.857143        28  \n",
       "6    ClimateStrike                 climat  12.934492        63  \n",
       "8     NatureCrisis       BiodiversityLoss   9.516052        29  \n",
       "5         Lausanne          ClimateChange   7.708333        48  \n",
       "7          AusOpen          Kohleausstieg   7.626667        30  \n",
       "1         Saarland                  Mainz   5.741348        88  \n",
       "2       croissance  EfficacitéEnergétique   4.609467        13  \n",
       "3      LuandaLeaks                JOJ2020   4.378601        27  \n",
       "0  JournéeSpéciale           Greenbashing   4.294560        72  "
      ]
     },
     "execution_count": 181,
     "metadata": {},
     "output_type": "execute_result"
    }
   ],
   "source": [
    "community_table.sort_values('activism',ascending=False).drop(['Average date','Deviation (days)'],axis=1)"
   ]
  },
  {
   "cell_type": "code",
   "execution_count": 182,
   "metadata": {},
   "outputs": [
    {
     "data": {
      "text/html": [
       "<div>\n",
       "<style scoped>\n",
       "    .dataframe tbody tr th:only-of-type {\n",
       "        vertical-align: middle;\n",
       "    }\n",
       "\n",
       "    .dataframe tbody tr th {\n",
       "        vertical-align: top;\n",
       "    }\n",
       "\n",
       "    .dataframe thead th {\n",
       "        text-align: right;\n",
       "    }\n",
       "</style>\n",
       "<table border=\"1\" class=\"dataframe\">\n",
       "  <thead>\n",
       "    <tr style=\"text-align: right;\">\n",
       "      <th></th>\n",
       "      <th>Community</th>\n",
       "      <th>nb nodes</th>\n",
       "      <th>activism</th>\n",
       "      <th>hashtag0</th>\n",
       "      <th>hashtag1</th>\n",
       "      <th>hashtag2</th>\n",
       "      <th>hashtag3</th>\n",
       "      <th>hashtag4</th>\n",
       "    </tr>\n",
       "  </thead>\n",
       "  <tbody>\n",
       "    <tr>\n",
       "      <th>4</th>\n",
       "      <td>4</td>\n",
       "      <td>28</td>\n",
       "      <td>19.857143</td>\n",
       "      <td>boomer</td>\n",
       "      <td>neutralite</td>\n",
       "      <td>servicepublic</td>\n",
       "      <td>UNILDurable</td>\n",
       "      <td>procèsdeLausanne</td>\n",
       "    </tr>\n",
       "    <tr>\n",
       "      <th>6</th>\n",
       "      <td>6</td>\n",
       "      <td>63</td>\n",
       "      <td>12.934492</td>\n",
       "      <td>lausanne</td>\n",
       "      <td>Lausanne</td>\n",
       "      <td>climatestrike</td>\n",
       "      <td>ClimateStrike</td>\n",
       "      <td>climat</td>\n",
       "    </tr>\n",
       "    <tr>\n",
       "      <th>8</th>\n",
       "      <td>8</td>\n",
       "      <td>29</td>\n",
       "      <td>9.516052</td>\n",
       "      <td>wef20</td>\n",
       "      <td>nature</td>\n",
       "      <td>Biodiversity2020</td>\n",
       "      <td>NatureCrisis</td>\n",
       "      <td>BiodiversityLoss</td>\n",
       "    </tr>\n",
       "    <tr>\n",
       "      <th>5</th>\n",
       "      <td>5</td>\n",
       "      <td>48</td>\n",
       "      <td>7.708333</td>\n",
       "      <td>ClimateStrike</td>\n",
       "      <td>suisse</td>\n",
       "      <td>SuzetteSandoz</td>\n",
       "      <td>Lausanne</td>\n",
       "      <td>ClimateChange</td>\n",
       "    </tr>\n",
       "    <tr>\n",
       "      <th>7</th>\n",
       "      <td>7</td>\n",
       "      <td>30</td>\n",
       "      <td>7.626667</td>\n",
       "      <td>WEF2020</td>\n",
       "      <td>LibyenKonferenz</td>\n",
       "      <td>LuandaLeaks</td>\n",
       "      <td>AusOpen</td>\n",
       "      <td>Kohleausstieg</td>\n",
       "    </tr>\n",
       "    <tr>\n",
       "      <th>1</th>\n",
       "      <td>1</td>\n",
       "      <td>88</td>\n",
       "      <td>5.741348</td>\n",
       "      <td>FridaysForFuture</td>\n",
       "      <td>ClimateStrike</td>\n",
       "      <td>schoolstrike4climate</td>\n",
       "      <td>Saarland</td>\n",
       "      <td>Mainz</td>\n",
       "    </tr>\n",
       "    <tr>\n",
       "      <th>2</th>\n",
       "      <td>2</td>\n",
       "      <td>13</td>\n",
       "      <td>4.609467</td>\n",
       "      <td>LaTac</td>\n",
       "      <td>PassoiresThermiques</td>\n",
       "      <td>NeutralitéCarbone</td>\n",
       "      <td>croissance</td>\n",
       "      <td>EfficacitéEnergétique</td>\n",
       "    </tr>\n",
       "    <tr>\n",
       "      <th>3</th>\n",
       "      <td>3</td>\n",
       "      <td>27</td>\n",
       "      <td>4.378601</td>\n",
       "      <td>RTSsport</td>\n",
       "      <td>Lausanne</td>\n",
       "      <td>Election2020</td>\n",
       "      <td>LuandaLeaks</td>\n",
       "      <td>JOJ2020</td>\n",
       "    </tr>\n",
       "    <tr>\n",
       "      <th>0</th>\n",
       "      <td>0</td>\n",
       "      <td>72</td>\n",
       "      <td>4.294560</td>\n",
       "      <td>Municipales2020</td>\n",
       "      <td>Australie</td>\n",
       "      <td>Besançon</td>\n",
       "      <td>JournéeSpéciale</td>\n",
       "      <td>Greenbashing</td>\n",
       "    </tr>\n",
       "  </tbody>\n",
       "</table>\n",
       "</div>"
      ],
      "text/plain": [
       "   Community  nb nodes   activism          hashtag0             hashtag1  \\\n",
       "4          4        28  19.857143            boomer           neutralite   \n",
       "6          6        63  12.934492          lausanne             Lausanne   \n",
       "8          8        29   9.516052             wef20               nature   \n",
       "5          5        48   7.708333     ClimateStrike               suisse   \n",
       "7          7        30   7.626667           WEF2020      LibyenKonferenz   \n",
       "1          1        88   5.741348  FridaysForFuture        ClimateStrike   \n",
       "2          2        13   4.609467             LaTac  PassoiresThermiques   \n",
       "3          3        27   4.378601          RTSsport             Lausanne   \n",
       "0          0        72   4.294560   Municipales2020            Australie   \n",
       "\n",
       "               hashtag2         hashtag3               hashtag4  \n",
       "4         servicepublic      UNILDurable       procèsdeLausanne  \n",
       "6         climatestrike    ClimateStrike                 climat  \n",
       "8      Biodiversity2020     NatureCrisis       BiodiversityLoss  \n",
       "5         SuzetteSandoz         Lausanne          ClimateChange  \n",
       "7           LuandaLeaks          AusOpen          Kohleausstieg  \n",
       "1  schoolstrike4climate         Saarland                  Mainz  \n",
       "2     NeutralitéCarbone       croissance  EfficacitéEnergétique  \n",
       "3          Election2020      LuandaLeaks                JOJ2020  \n",
       "0              Besançon  JournéeSpéciale           Greenbashing  "
      ]
     },
     "execution_count": 182,
     "metadata": {},
     "output_type": "execute_result"
    }
   ],
   "source": [
    "community_table[['Community', 'nb nodes', 'activism', 'hashtag0', 'hashtag1', 'hashtag2', 'hashtag3', 'hashtag4']].sort_values('activism',ascending=False)"
   ]
  },
  {
   "cell_type": "markdown",
   "metadata": {},
   "source": [
    "### Process the urls"
   ]
  },
  {
   "cell_type": "code",
   "execution_count": null,
   "metadata": {},
   "outputs": [],
   "source": [
    "url_table = pysad.communities_urls(url_dic)\n",
    "url_table = pysad.convert_bitly(url_table)\n",
    "filtered_url_table = pysad.drop_twitter_urls(url_table)"
   ]
  },
  {
   "cell_type": "code",
   "execution_count": null,
   "metadata": {},
   "outputs": [],
   "source": [
    "url_table"
   ]
  },
  {
   "cell_type": "markdown",
   "metadata": {},
   "source": [
    "# Sort users by community and save in a excel sheet"
   ]
  },
  {
   "cell_type": "code",
   "execution_count": null,
   "metadata": {},
   "outputs": [],
   "source": [
    "# Sort users by community and store their node degree (importance)\n",
    "community_nodes = {}\n",
    "for node,data in G.nodes(data=True):\n",
    "    community_nb = data['community']\n",
    "    if  community_nb not in community_nodes:\n",
    "        community_nodes[community_nb] = [(node, G.degree(node))]\n",
    "    else:\n",
    "        community_nodes[community_nb].append((node, G.degree(node)))\n",
    "\n",
    "\n",
    "# Display the exmaple of community c_idx\n",
    "#c_idx = 0\n",
    "#ddf = pd.DataFrame(community_nodes[c_idx],columns=['User','Degree'])\n",
    "#print('list of most connected users in community',c_idx)\n",
    "#ddf.sort_values(by='Degree',ascending=False).head(20)"
   ]
  },
  {
   "cell_type": "code",
   "execution_count": null,
   "metadata": {},
   "outputs": [],
   "source": [
    "# Save to an excel file\n",
    "with pd.ExcelWriter(data_path + 'graph_infos.xlsx') as writer:\n",
    "    for community_nb in community_nodes:\n",
    "        ddf = pd.DataFrame(community_nodes[community_nb],columns=['User','Degree'])\n",
    "        ddf = ddf.sort_values(by='Degree',ascending=False)#.head(20)\n",
    "        ddf.to_excel(writer, sheet_name='Community_' + str(community_nb),index=False)\n",
    "    community_table.to_excel(writer, sheet_name='Hashtags',index=False)\n",
    "    #users_df.to_excel(writer, sheet_name='Initial_users_details',index=False)\n",
    "    filtered_url_table.to_excel(writer, sheet_name='List_of_urls',index=False)\n",
    "    # Set the column width\n",
    "    column_width = 25\n",
    "    for sheet in writer.sheets: \n",
    "        worksheet = writer.sheets[sheet]\n",
    "        for col in ['A','B','C','D','E','F','G','H']:\n",
    "            worksheet.column_dimensions[col].width = column_width\n",
    "    writer.sheets['List_of_urls'].column_dimensions['A'].width = 100"
   ]
  },
  {
   "cell_type": "code",
   "execution_count": null,
   "metadata": {},
   "outputs": [],
   "source": []
  }
 ],
 "metadata": {
  "kernelspec": {
   "display_name": "Python 3",
   "language": "python",
   "name": "python3"
  },
  "language_info": {
   "codemirror_mode": {
    "name": "ipython",
    "version": 3
   },
   "file_extension": ".py",
   "mimetype": "text/x-python",
   "name": "python",
   "nbconvert_exporter": "python",
   "pygments_lexer": "ipython3",
   "version": "3.6.9"
  }
 },
 "nbformat": 4,
 "nbformat_minor": 2
}
